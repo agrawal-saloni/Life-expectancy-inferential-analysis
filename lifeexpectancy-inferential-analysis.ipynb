{
 "cells": [
  {
   "cell_type": "code",
   "execution_count": 1,
   "id": "f0915e6d",
   "metadata": {
    "execution": {
     "iopub.execute_input": "2024-09-02T08:09:57.036533Z",
     "iopub.status.busy": "2024-09-02T08:09:57.036081Z",
     "iopub.status.idle": "2024-09-02T08:09:57.154909Z",
     "shell.execute_reply": "2024-09-02T08:09:57.153694Z"
    },
    "papermill": {
     "duration": 0.167041,
     "end_time": "2024-09-02T08:09:57.157750",
     "exception": false,
     "start_time": "2024-09-02T08:09:56.990709",
     "status": "completed"
    },
    "tags": []
   },
   "outputs": [],
   "source": [
    "%reset -f"
   ]
  },
  {
   "cell_type": "code",
   "execution_count": 2,
   "id": "133682e5",
   "metadata": {
    "execution": {
     "iopub.execute_input": "2024-09-02T08:09:57.248569Z",
     "iopub.status.busy": "2024-09-02T08:09:57.248093Z",
     "iopub.status.idle": "2024-09-02T08:09:59.329846Z",
     "shell.execute_reply": "2024-09-02T08:09:59.328580Z"
    },
    "papermill": {
     "duration": 2.128489,
     "end_time": "2024-09-02T08:09:59.332652",
     "exception": false,
     "start_time": "2024-09-02T08:09:57.204163",
     "status": "completed"
    },
    "tags": []
   },
   "outputs": [],
   "source": [
    "# Common imports\n",
    "import numpy as np\n",
    "import pandas as pd\n",
    "import os\n",
    "\n",
    "# to make this notebook's output stable across runs\n",
    "np.random.seed(42)\n",
    "\n",
    "# To plot pretty figures\n",
    "%matplotlib inline\n",
    "import matplotlib as mpl\n",
    "import matplotlib.pyplot as plt\n",
    "mpl.rc('axes', labelsize=14)\n",
    "mpl.rc('xtick', labelsize=12)\n",
    "mpl.rc('ytick', labelsize=12)\n",
    "\n",
    "import seaborn as sns"
   ]
  },
  {
   "cell_type": "markdown",
   "id": "5811331f",
   "metadata": {
    "papermill": {
     "duration": 0.043401,
     "end_time": "2024-09-02T08:09:59.418567",
     "exception": false,
     "start_time": "2024-09-02T08:09:59.375166",
     "status": "completed"
    },
    "tags": []
   },
   "source": [
    "# GOAL"
   ]
  },
  {
   "cell_type": "raw",
   "id": "36a764fa",
   "metadata": {
    "papermill": {
     "duration": 0.041745,
     "end_time": "2024-09-02T08:09:59.502460",
     "exception": false,
     "start_time": "2024-09-02T08:09:59.460715",
     "status": "completed"
    },
    "tags": []
   },
   "source": [
    "> The project aims to answer the following key questions:\n",
    "\n",
    "1 - Does various predicting factors which has been chosen initially really affect the Life expectancy? What are the predicting variables actually affecting the life expectancy?\n",
    "2 - Should a country having a lower life expectancy value(<65) increase its healthcare expenditure in order to improve its average lifespan?\n",
    "3 - How does Infant and Adult mortality rates affect life expectancy?\n",
    "4 - Does Life Expectancy has positive or negative correlation with eating habits, lifestyle, exercise, smoking, drinking alcohol etc.\n",
    "5 - What is the impact of schooling on the lifespan of humans?\n",
    "6 - Does Life Expectancy have positive or negative relationship with drinking alcohol?\n",
    "7 - Do densely populated countries tend to have lower life expectancy?\n",
    "8 - What is the impact of Immunization coverage on life Expectancy?"
   ]
  },
  {
   "cell_type": "markdown",
   "id": "7f7b6c7c",
   "metadata": {
    "papermill": {
     "duration": 0.04201,
     "end_time": "2024-09-02T08:09:59.586956",
     "exception": false,
     "start_time": "2024-09-02T08:09:59.544946",
     "status": "completed"
    },
    "tags": []
   },
   "source": [
    "### Fetch data"
   ]
  },
  {
   "cell_type": "code",
   "execution_count": 3,
   "id": "07e71aa9",
   "metadata": {
    "execution": {
     "iopub.execute_input": "2024-09-02T08:09:59.674368Z",
     "iopub.status.busy": "2024-09-02T08:09:59.673189Z",
     "iopub.status.idle": "2024-09-02T08:09:59.716352Z",
     "shell.execute_reply": "2024-09-02T08:09:59.715142Z"
    },
    "papermill": {
     "duration": 0.090213,
     "end_time": "2024-09-02T08:09:59.719239",
     "exception": false,
     "start_time": "2024-09-02T08:09:59.629026",
     "status": "completed"
    },
    "tags": []
   },
   "outputs": [],
   "source": [
    "data = pd.read_csv(\"/kaggle/input/life-expectancy-who/Life Expectancy Data.csv\")"
   ]
  },
  {
   "cell_type": "code",
   "execution_count": 4,
   "id": "829ee4c3",
   "metadata": {
    "execution": {
     "iopub.execute_input": "2024-09-02T08:09:59.805823Z",
     "iopub.status.busy": "2024-09-02T08:09:59.805360Z",
     "iopub.status.idle": "2024-09-02T08:09:59.852407Z",
     "shell.execute_reply": "2024-09-02T08:09:59.851395Z"
    },
    "papermill": {
     "duration": 0.093688,
     "end_time": "2024-09-02T08:09:59.855282",
     "exception": false,
     "start_time": "2024-09-02T08:09:59.761594",
     "status": "completed"
    },
    "tags": []
   },
   "outputs": [
    {
     "data": {
      "text/html": [
       "<div>\n",
       "<style scoped>\n",
       "    .dataframe tbody tr th:only-of-type {\n",
       "        vertical-align: middle;\n",
       "    }\n",
       "\n",
       "    .dataframe tbody tr th {\n",
       "        vertical-align: top;\n",
       "    }\n",
       "\n",
       "    .dataframe thead th {\n",
       "        text-align: right;\n",
       "    }\n",
       "</style>\n",
       "<table border=\"1\" class=\"dataframe\">\n",
       "  <thead>\n",
       "    <tr style=\"text-align: right;\">\n",
       "      <th></th>\n",
       "      <th>Country</th>\n",
       "      <th>Year</th>\n",
       "      <th>Status</th>\n",
       "      <th>Life expectancy</th>\n",
       "      <th>Adult Mortality</th>\n",
       "      <th>infant deaths</th>\n",
       "      <th>Alcohol</th>\n",
       "      <th>percentage expenditure</th>\n",
       "      <th>Hepatitis B</th>\n",
       "      <th>Measles</th>\n",
       "      <th>...</th>\n",
       "      <th>Polio</th>\n",
       "      <th>Total expenditure</th>\n",
       "      <th>Diphtheria</th>\n",
       "      <th>HIV/AIDS</th>\n",
       "      <th>GDP</th>\n",
       "      <th>Population</th>\n",
       "      <th>thinness  1-19 years</th>\n",
       "      <th>thinness 5-9 years</th>\n",
       "      <th>Income composition of resources</th>\n",
       "      <th>Schooling</th>\n",
       "    </tr>\n",
       "  </thead>\n",
       "  <tbody>\n",
       "    <tr>\n",
       "      <th>0</th>\n",
       "      <td>Afghanistan</td>\n",
       "      <td>2015</td>\n",
       "      <td>Developing</td>\n",
       "      <td>65.0</td>\n",
       "      <td>263.0</td>\n",
       "      <td>62</td>\n",
       "      <td>0.01</td>\n",
       "      <td>71.279624</td>\n",
       "      <td>65.0</td>\n",
       "      <td>1154</td>\n",
       "      <td>...</td>\n",
       "      <td>6.0</td>\n",
       "      <td>8.16</td>\n",
       "      <td>65.0</td>\n",
       "      <td>0.1</td>\n",
       "      <td>584.259210</td>\n",
       "      <td>33736494.0</td>\n",
       "      <td>17.2</td>\n",
       "      <td>17.3</td>\n",
       "      <td>0.479</td>\n",
       "      <td>10.1</td>\n",
       "    </tr>\n",
       "    <tr>\n",
       "      <th>1</th>\n",
       "      <td>Afghanistan</td>\n",
       "      <td>2014</td>\n",
       "      <td>Developing</td>\n",
       "      <td>59.9</td>\n",
       "      <td>271.0</td>\n",
       "      <td>64</td>\n",
       "      <td>0.01</td>\n",
       "      <td>73.523582</td>\n",
       "      <td>62.0</td>\n",
       "      <td>492</td>\n",
       "      <td>...</td>\n",
       "      <td>58.0</td>\n",
       "      <td>8.18</td>\n",
       "      <td>62.0</td>\n",
       "      <td>0.1</td>\n",
       "      <td>612.696514</td>\n",
       "      <td>327582.0</td>\n",
       "      <td>17.5</td>\n",
       "      <td>17.5</td>\n",
       "      <td>0.476</td>\n",
       "      <td>10.0</td>\n",
       "    </tr>\n",
       "    <tr>\n",
       "      <th>2</th>\n",
       "      <td>Afghanistan</td>\n",
       "      <td>2013</td>\n",
       "      <td>Developing</td>\n",
       "      <td>59.9</td>\n",
       "      <td>268.0</td>\n",
       "      <td>66</td>\n",
       "      <td>0.01</td>\n",
       "      <td>73.219243</td>\n",
       "      <td>64.0</td>\n",
       "      <td>430</td>\n",
       "      <td>...</td>\n",
       "      <td>62.0</td>\n",
       "      <td>8.13</td>\n",
       "      <td>64.0</td>\n",
       "      <td>0.1</td>\n",
       "      <td>631.744976</td>\n",
       "      <td>31731688.0</td>\n",
       "      <td>17.7</td>\n",
       "      <td>17.7</td>\n",
       "      <td>0.470</td>\n",
       "      <td>9.9</td>\n",
       "    </tr>\n",
       "  </tbody>\n",
       "</table>\n",
       "<p>3 rows × 22 columns</p>\n",
       "</div>"
      ],
      "text/plain": [
       "       Country  Year      Status  Life expectancy   Adult Mortality  \\\n",
       "0  Afghanistan  2015  Developing              65.0            263.0   \n",
       "1  Afghanistan  2014  Developing              59.9            271.0   \n",
       "2  Afghanistan  2013  Developing              59.9            268.0   \n",
       "\n",
       "   infant deaths  Alcohol  percentage expenditure  Hepatitis B  Measles   ...  \\\n",
       "0             62     0.01               71.279624         65.0      1154  ...   \n",
       "1             64     0.01               73.523582         62.0       492  ...   \n",
       "2             66     0.01               73.219243         64.0       430  ...   \n",
       "\n",
       "   Polio  Total expenditure  Diphtheria    HIV/AIDS         GDP  Population  \\\n",
       "0    6.0               8.16         65.0        0.1  584.259210  33736494.0   \n",
       "1   58.0               8.18         62.0        0.1  612.696514    327582.0   \n",
       "2   62.0               8.13         64.0        0.1  631.744976  31731688.0   \n",
       "\n",
       "    thinness  1-19 years   thinness 5-9 years  \\\n",
       "0                   17.2                 17.3   \n",
       "1                   17.5                 17.5   \n",
       "2                   17.7                 17.7   \n",
       "\n",
       "   Income composition of resources  Schooling  \n",
       "0                            0.479       10.1  \n",
       "1                            0.476       10.0  \n",
       "2                            0.470        9.9  \n",
       "\n",
       "[3 rows x 22 columns]"
      ]
     },
     "execution_count": 4,
     "metadata": {},
     "output_type": "execute_result"
    }
   ],
   "source": [
    "data.head(3)"
   ]
  },
  {
   "cell_type": "markdown",
   "id": "b42b9ee5",
   "metadata": {
    "papermill": {
     "duration": 0.042052,
     "end_time": "2024-09-02T08:09:59.940296",
     "exception": false,
     "start_time": "2024-09-02T08:09:59.898244",
     "status": "completed"
    },
    "tags": []
   },
   "source": [
    "> Lets checks the features (variables) their type and their status"
   ]
  },
  {
   "cell_type": "code",
   "execution_count": 5,
   "id": "abf61ebb",
   "metadata": {
    "execution": {
     "iopub.execute_input": "2024-09-02T08:10:00.028941Z",
     "iopub.status.busy": "2024-09-02T08:10:00.027719Z",
     "iopub.status.idle": "2024-09-02T08:10:00.053035Z",
     "shell.execute_reply": "2024-09-02T08:10:00.051750Z"
    },
    "papermill": {
     "duration": 0.07282,
     "end_time": "2024-09-02T08:10:00.055938",
     "exception": false,
     "start_time": "2024-09-02T08:09:59.983118",
     "status": "completed"
    },
    "tags": []
   },
   "outputs": [
    {
     "name": "stdout",
     "output_type": "stream",
     "text": [
      "<class 'pandas.core.frame.DataFrame'>\n",
      "RangeIndex: 2938 entries, 0 to 2937\n",
      "Data columns (total 22 columns):\n",
      " #   Column                           Non-Null Count  Dtype  \n",
      "---  ------                           --------------  -----  \n",
      " 0   Country                          2938 non-null   object \n",
      " 1   Year                             2938 non-null   int64  \n",
      " 2   Status                           2938 non-null   object \n",
      " 3   Life expectancy                  2928 non-null   float64\n",
      " 4   Adult Mortality                  2928 non-null   float64\n",
      " 5   infant deaths                    2938 non-null   int64  \n",
      " 6   Alcohol                          2744 non-null   float64\n",
      " 7   percentage expenditure           2938 non-null   float64\n",
      " 8   Hepatitis B                      2385 non-null   float64\n",
      " 9   Measles                          2938 non-null   int64  \n",
      " 10   BMI                             2904 non-null   float64\n",
      " 11  under-five deaths                2938 non-null   int64  \n",
      " 12  Polio                            2919 non-null   float64\n",
      " 13  Total expenditure                2712 non-null   float64\n",
      " 14  Diphtheria                       2919 non-null   float64\n",
      " 15   HIV/AIDS                        2938 non-null   float64\n",
      " 16  GDP                              2490 non-null   float64\n",
      " 17  Population                       2286 non-null   float64\n",
      " 18   thinness  1-19 years            2904 non-null   float64\n",
      " 19   thinness 5-9 years              2904 non-null   float64\n",
      " 20  Income composition of resources  2771 non-null   float64\n",
      " 21  Schooling                        2775 non-null   float64\n",
      "dtypes: float64(16), int64(4), object(2)\n",
      "memory usage: 505.1+ KB\n"
     ]
    }
   ],
   "source": [
    "data.info()"
   ]
  },
  {
   "cell_type": "markdown",
   "id": "9bacd9b3",
   "metadata": {
    "papermill": {
     "duration": 0.042849,
     "end_time": "2024-09-02T08:10:00.141769",
     "exception": false,
     "start_time": "2024-09-02T08:10:00.098920",
     "status": "completed"
    },
    "tags": []
   },
   "source": [
    " - We observe that there are a lot of missing-values even for Life Expectancy that is the target variable. \n",
    " - Some variables seem not to be of correct type! For example Year would be better be of 'string' type. \n",
    " - Features names also contain some blank spaces at the begining or at the end of the names.\n",
    " - I am also going to modify the name of some features because some statistical methods don't accept spaces in feature names\n",
    " - Also we dont have data smoking, exercise and population denisty."
   ]
  },
  {
   "cell_type": "markdown",
   "id": "614ea3a8",
   "metadata": {
    "papermill": {
     "duration": 0.042831,
     "end_time": "2024-09-02T08:10:00.227254",
     "exception": false,
     "start_time": "2024-09-02T08:10:00.184423",
     "status": "completed"
    },
    "tags": []
   },
   "source": [
    "# 1) Data Cleaning"
   ]
  },
  {
   "cell_type": "markdown",
   "id": "2ef9eb55",
   "metadata": {
    "papermill": {
     "duration": 0.043951,
     "end_time": "2024-09-02T08:10:00.370939",
     "exception": false,
     "start_time": "2024-09-02T08:10:00.326988",
     "status": "completed"
    },
    "tags": []
   },
   "source": [
    "> As I mentioned earlier, I am also going to modify the name of some features because some statistical methods don't accept spaces or blanks in feature names."
   ]
  },
  {
   "cell_type": "code",
   "execution_count": 6,
   "id": "fe5f6ee1",
   "metadata": {
    "execution": {
     "iopub.execute_input": "2024-09-02T08:10:00.458401Z",
     "iopub.status.busy": "2024-09-02T08:10:00.457949Z",
     "iopub.status.idle": "2024-09-02T08:10:00.466870Z",
     "shell.execute_reply": "2024-09-02T08:10:00.465656Z"
    },
    "papermill": {
     "duration": 0.055777,
     "end_time": "2024-09-02T08:10:00.469480",
     "exception": false,
     "start_time": "2024-09-02T08:10:00.413703",
     "status": "completed"
    },
    "tags": []
   },
   "outputs": [],
   "source": [
    "#changing the name of some feautres\n",
    "# Original and new column names mapping\n",
    "column_mapping = {\n",
    "    'Life expectancy ': 'Life_expectancy',\n",
    "    'Adult Mortality': 'Adult_Mortality_rate',\n",
    "    'infant deaths': 'Infant_deaths_cases',\n",
    "    'percentage expenditure': 'Percent_health_expenditure_GDP',\n",
    "    'Hepatitis B': 'Hepatitis_coverage',\n",
    "    'Measles ': 'Measles_cases',\n",
    "    ' BMI ': 'BMI',\n",
    "    'under-five deaths ': 'Under_5_deaths_cases',\n",
    "    'Polio': 'Polio_coverage',\n",
    "    'Total expenditure': 'Total_health_expenditure_gov',\n",
    "    'Diphtheria ': 'Diphtheria_coverage',\n",
    "    ' HIV/AIDS': 'HIV_death_cases',\n",
    "    ' thinness  1-19 years': 'Thinness_1_19_years',\n",
    "    ' thinness 5-9 years': 'Thinness_5_9_years',\n",
    "    'Income composition of resources': 'Income_composition_resources',\n",
    "    'Schooling': 'Schooling_years'\n",
    "}\n",
    "\n",
    "# To rename the columns of your DataFrame\n",
    "data = data.rename(columns=column_mapping)"
   ]
  },
  {
   "cell_type": "code",
   "execution_count": 7,
   "id": "d7f2806e",
   "metadata": {
    "execution": {
     "iopub.execute_input": "2024-09-02T08:10:00.559747Z",
     "iopub.status.busy": "2024-09-02T08:10:00.559291Z",
     "iopub.status.idle": "2024-09-02T08:10:00.567420Z",
     "shell.execute_reply": "2024-09-02T08:10:00.566238Z"
    },
    "papermill": {
     "duration": 0.055666,
     "end_time": "2024-09-02T08:10:00.569879",
     "exception": false,
     "start_time": "2024-09-02T08:10:00.514213",
     "status": "completed"
    },
    "tags": []
   },
   "outputs": [],
   "source": [
    "# set Year as a category\n",
    "data[\"Year\"] = data[\"Year\"].astype(\"str\")"
   ]
  },
  {
   "cell_type": "code",
   "execution_count": 8,
   "id": "b44da353",
   "metadata": {
    "execution": {
     "iopub.execute_input": "2024-09-02T08:10:00.658030Z",
     "iopub.status.busy": "2024-09-02T08:10:00.656787Z",
     "iopub.status.idle": "2024-09-02T08:10:00.672650Z",
     "shell.execute_reply": "2024-09-02T08:10:00.671109Z"
    },
    "papermill": {
     "duration": 0.062583,
     "end_time": "2024-09-02T08:10:00.675452",
     "exception": false,
     "start_time": "2024-09-02T08:10:00.612869",
     "status": "completed"
    },
    "tags": []
   },
   "outputs": [
    {
     "name": "stdout",
     "output_type": "stream",
     "text": [
      "<class 'pandas.core.frame.DataFrame'>\n",
      "RangeIndex: 2938 entries, 0 to 2937\n",
      "Data columns (total 22 columns):\n",
      " #   Column                          Non-Null Count  Dtype  \n",
      "---  ------                          --------------  -----  \n",
      " 0   Country                         2938 non-null   object \n",
      " 1   Year                            2938 non-null   object \n",
      " 2   Status                          2938 non-null   object \n",
      " 3   Life_expectancy                 2928 non-null   float64\n",
      " 4   Adult_Mortality_rate            2928 non-null   float64\n",
      " 5   Infant_deaths_cases             2938 non-null   int64  \n",
      " 6   Alcohol                         2744 non-null   float64\n",
      " 7   Percent_health_expenditure_GDP  2938 non-null   float64\n",
      " 8   Hepatitis_coverage              2385 non-null   float64\n",
      " 9   Measles_cases                   2938 non-null   int64  \n",
      " 10  BMI                             2904 non-null   float64\n",
      " 11  Under_5_deaths_cases            2938 non-null   int64  \n",
      " 12  Polio_coverage                  2919 non-null   float64\n",
      " 13  Total_health_expenditure_gov    2712 non-null   float64\n",
      " 14  Diphtheria_coverage             2919 non-null   float64\n",
      " 15  HIV_death_cases                 2938 non-null   float64\n",
      " 16  GDP                             2490 non-null   float64\n",
      " 17  Population                      2286 non-null   float64\n",
      " 18  Thinness_1_19_years             2904 non-null   float64\n",
      " 19  Thinness_5_9_years              2904 non-null   float64\n",
      " 20  Income_composition_resources    2771 non-null   float64\n",
      " 21  Schooling_years                 2775 non-null   float64\n",
      "dtypes: float64(16), int64(3), object(3)\n",
      "memory usage: 505.1+ KB\n"
     ]
    }
   ],
   "source": [
    "data.info()"
   ]
  },
  {
   "cell_type": "markdown",
   "id": "477f23bb",
   "metadata": {
    "papermill": {
     "duration": 0.042321,
     "end_time": "2024-09-02T08:10:00.762502",
     "exception": false,
     "start_time": "2024-09-02T08:10:00.720181",
     "status": "completed"
    },
    "tags": []
   },
   "source": [
    "> Let's look at some statistics of the data and see if they are meaningful"
   ]
  },
  {
   "cell_type": "code",
   "execution_count": 9,
   "id": "28b864b8",
   "metadata": {
    "execution": {
     "iopub.execute_input": "2024-09-02T08:10:00.850203Z",
     "iopub.status.busy": "2024-09-02T08:10:00.849736Z",
     "iopub.status.idle": "2024-09-02T08:10:00.922743Z",
     "shell.execute_reply": "2024-09-02T08:10:00.921442Z"
    },
    "papermill": {
     "duration": 0.11998,
     "end_time": "2024-09-02T08:10:00.925540",
     "exception": false,
     "start_time": "2024-09-02T08:10:00.805560",
     "status": "completed"
    },
    "tags": []
   },
   "outputs": [
    {
     "data": {
      "text/html": [
       "<div>\n",
       "<style scoped>\n",
       "    .dataframe tbody tr th:only-of-type {\n",
       "        vertical-align: middle;\n",
       "    }\n",
       "\n",
       "    .dataframe tbody tr th {\n",
       "        vertical-align: top;\n",
       "    }\n",
       "\n",
       "    .dataframe thead th {\n",
       "        text-align: right;\n",
       "    }\n",
       "</style>\n",
       "<table border=\"1\" class=\"dataframe\">\n",
       "  <thead>\n",
       "    <tr style=\"text-align: right;\">\n",
       "      <th></th>\n",
       "      <th>Life_expectancy</th>\n",
       "      <th>Adult_Mortality_rate</th>\n",
       "      <th>Infant_deaths_cases</th>\n",
       "      <th>Alcohol</th>\n",
       "      <th>Percent_health_expenditure_GDP</th>\n",
       "      <th>Hepatitis_coverage</th>\n",
       "      <th>Measles_cases</th>\n",
       "      <th>BMI</th>\n",
       "      <th>Under_5_deaths_cases</th>\n",
       "      <th>Polio_coverage</th>\n",
       "      <th>Total_health_expenditure_gov</th>\n",
       "      <th>Diphtheria_coverage</th>\n",
       "      <th>HIV_death_cases</th>\n",
       "      <th>GDP</th>\n",
       "      <th>Population</th>\n",
       "      <th>Thinness_1_19_years</th>\n",
       "      <th>Thinness_5_9_years</th>\n",
       "      <th>Income_composition_resources</th>\n",
       "      <th>Schooling_years</th>\n",
       "    </tr>\n",
       "  </thead>\n",
       "  <tbody>\n",
       "    <tr>\n",
       "      <th>count</th>\n",
       "      <td>2928.000000</td>\n",
       "      <td>2928.000000</td>\n",
       "      <td>2938.000000</td>\n",
       "      <td>2744.000000</td>\n",
       "      <td>2938.000000</td>\n",
       "      <td>2385.000000</td>\n",
       "      <td>2938.000000</td>\n",
       "      <td>2904.000000</td>\n",
       "      <td>2938.000000</td>\n",
       "      <td>2919.000000</td>\n",
       "      <td>2712.00000</td>\n",
       "      <td>2919.000000</td>\n",
       "      <td>2938.000000</td>\n",
       "      <td>2490.000000</td>\n",
       "      <td>2.286000e+03</td>\n",
       "      <td>2904.000000</td>\n",
       "      <td>2904.000000</td>\n",
       "      <td>2771.000000</td>\n",
       "      <td>2775.000000</td>\n",
       "    </tr>\n",
       "    <tr>\n",
       "      <th>mean</th>\n",
       "      <td>69.224932</td>\n",
       "      <td>164.796448</td>\n",
       "      <td>30.303948</td>\n",
       "      <td>4.602861</td>\n",
       "      <td>738.251295</td>\n",
       "      <td>80.940461</td>\n",
       "      <td>2419.592240</td>\n",
       "      <td>38.321247</td>\n",
       "      <td>42.035739</td>\n",
       "      <td>82.550188</td>\n",
       "      <td>5.93819</td>\n",
       "      <td>82.324084</td>\n",
       "      <td>1.742103</td>\n",
       "      <td>7483.158469</td>\n",
       "      <td>1.275338e+07</td>\n",
       "      <td>4.839704</td>\n",
       "      <td>4.870317</td>\n",
       "      <td>0.627551</td>\n",
       "      <td>11.992793</td>\n",
       "    </tr>\n",
       "    <tr>\n",
       "      <th>std</th>\n",
       "      <td>9.523867</td>\n",
       "      <td>124.292079</td>\n",
       "      <td>117.926501</td>\n",
       "      <td>4.052413</td>\n",
       "      <td>1987.914858</td>\n",
       "      <td>25.070016</td>\n",
       "      <td>11467.272489</td>\n",
       "      <td>20.044034</td>\n",
       "      <td>160.445548</td>\n",
       "      <td>23.428046</td>\n",
       "      <td>2.49832</td>\n",
       "      <td>23.716912</td>\n",
       "      <td>5.077785</td>\n",
       "      <td>14270.169342</td>\n",
       "      <td>6.101210e+07</td>\n",
       "      <td>4.420195</td>\n",
       "      <td>4.508882</td>\n",
       "      <td>0.210904</td>\n",
       "      <td>3.358920</td>\n",
       "    </tr>\n",
       "    <tr>\n",
       "      <th>min</th>\n",
       "      <td>36.300000</td>\n",
       "      <td>1.000000</td>\n",
       "      <td>0.000000</td>\n",
       "      <td>0.010000</td>\n",
       "      <td>0.000000</td>\n",
       "      <td>1.000000</td>\n",
       "      <td>0.000000</td>\n",
       "      <td>1.000000</td>\n",
       "      <td>0.000000</td>\n",
       "      <td>3.000000</td>\n",
       "      <td>0.37000</td>\n",
       "      <td>2.000000</td>\n",
       "      <td>0.100000</td>\n",
       "      <td>1.681350</td>\n",
       "      <td>3.400000e+01</td>\n",
       "      <td>0.100000</td>\n",
       "      <td>0.100000</td>\n",
       "      <td>0.000000</td>\n",
       "      <td>0.000000</td>\n",
       "    </tr>\n",
       "    <tr>\n",
       "      <th>25%</th>\n",
       "      <td>63.100000</td>\n",
       "      <td>74.000000</td>\n",
       "      <td>0.000000</td>\n",
       "      <td>0.877500</td>\n",
       "      <td>4.685343</td>\n",
       "      <td>77.000000</td>\n",
       "      <td>0.000000</td>\n",
       "      <td>19.300000</td>\n",
       "      <td>0.000000</td>\n",
       "      <td>78.000000</td>\n",
       "      <td>4.26000</td>\n",
       "      <td>78.000000</td>\n",
       "      <td>0.100000</td>\n",
       "      <td>463.935626</td>\n",
       "      <td>1.957932e+05</td>\n",
       "      <td>1.600000</td>\n",
       "      <td>1.500000</td>\n",
       "      <td>0.493000</td>\n",
       "      <td>10.100000</td>\n",
       "    </tr>\n",
       "    <tr>\n",
       "      <th>50%</th>\n",
       "      <td>72.100000</td>\n",
       "      <td>144.000000</td>\n",
       "      <td>3.000000</td>\n",
       "      <td>3.755000</td>\n",
       "      <td>64.912906</td>\n",
       "      <td>92.000000</td>\n",
       "      <td>17.000000</td>\n",
       "      <td>43.500000</td>\n",
       "      <td>4.000000</td>\n",
       "      <td>93.000000</td>\n",
       "      <td>5.75500</td>\n",
       "      <td>93.000000</td>\n",
       "      <td>0.100000</td>\n",
       "      <td>1766.947595</td>\n",
       "      <td>1.386542e+06</td>\n",
       "      <td>3.300000</td>\n",
       "      <td>3.300000</td>\n",
       "      <td>0.677000</td>\n",
       "      <td>12.300000</td>\n",
       "    </tr>\n",
       "    <tr>\n",
       "      <th>75%</th>\n",
       "      <td>75.700000</td>\n",
       "      <td>228.000000</td>\n",
       "      <td>22.000000</td>\n",
       "      <td>7.702500</td>\n",
       "      <td>441.534144</td>\n",
       "      <td>97.000000</td>\n",
       "      <td>360.250000</td>\n",
       "      <td>56.200000</td>\n",
       "      <td>28.000000</td>\n",
       "      <td>97.000000</td>\n",
       "      <td>7.49250</td>\n",
       "      <td>97.000000</td>\n",
       "      <td>0.800000</td>\n",
       "      <td>5910.806335</td>\n",
       "      <td>7.420359e+06</td>\n",
       "      <td>7.200000</td>\n",
       "      <td>7.200000</td>\n",
       "      <td>0.779000</td>\n",
       "      <td>14.300000</td>\n",
       "    </tr>\n",
       "    <tr>\n",
       "      <th>max</th>\n",
       "      <td>89.000000</td>\n",
       "      <td>723.000000</td>\n",
       "      <td>1800.000000</td>\n",
       "      <td>17.870000</td>\n",
       "      <td>19479.911610</td>\n",
       "      <td>99.000000</td>\n",
       "      <td>212183.000000</td>\n",
       "      <td>87.300000</td>\n",
       "      <td>2500.000000</td>\n",
       "      <td>99.000000</td>\n",
       "      <td>17.60000</td>\n",
       "      <td>99.000000</td>\n",
       "      <td>50.600000</td>\n",
       "      <td>119172.741800</td>\n",
       "      <td>1.293859e+09</td>\n",
       "      <td>27.700000</td>\n",
       "      <td>28.600000</td>\n",
       "      <td>0.948000</td>\n",
       "      <td>20.700000</td>\n",
       "    </tr>\n",
       "  </tbody>\n",
       "</table>\n",
       "</div>"
      ],
      "text/plain": [
       "       Life_expectancy  Adult_Mortality_rate  Infant_deaths_cases  \\\n",
       "count      2928.000000           2928.000000          2938.000000   \n",
       "mean         69.224932            164.796448            30.303948   \n",
       "std           9.523867            124.292079           117.926501   \n",
       "min          36.300000              1.000000             0.000000   \n",
       "25%          63.100000             74.000000             0.000000   \n",
       "50%          72.100000            144.000000             3.000000   \n",
       "75%          75.700000            228.000000            22.000000   \n",
       "max          89.000000            723.000000          1800.000000   \n",
       "\n",
       "           Alcohol  Percent_health_expenditure_GDP  Hepatitis_coverage  \\\n",
       "count  2744.000000                     2938.000000         2385.000000   \n",
       "mean      4.602861                      738.251295           80.940461   \n",
       "std       4.052413                     1987.914858           25.070016   \n",
       "min       0.010000                        0.000000            1.000000   \n",
       "25%       0.877500                        4.685343           77.000000   \n",
       "50%       3.755000                       64.912906           92.000000   \n",
       "75%       7.702500                      441.534144           97.000000   \n",
       "max      17.870000                    19479.911610           99.000000   \n",
       "\n",
       "       Measles_cases          BMI  Under_5_deaths_cases  Polio_coverage  \\\n",
       "count    2938.000000  2904.000000           2938.000000     2919.000000   \n",
       "mean     2419.592240    38.321247             42.035739       82.550188   \n",
       "std     11467.272489    20.044034            160.445548       23.428046   \n",
       "min         0.000000     1.000000              0.000000        3.000000   \n",
       "25%         0.000000    19.300000              0.000000       78.000000   \n",
       "50%        17.000000    43.500000              4.000000       93.000000   \n",
       "75%       360.250000    56.200000             28.000000       97.000000   \n",
       "max    212183.000000    87.300000           2500.000000       99.000000   \n",
       "\n",
       "       Total_health_expenditure_gov  Diphtheria_coverage  HIV_death_cases  \\\n",
       "count                    2712.00000          2919.000000      2938.000000   \n",
       "mean                        5.93819            82.324084         1.742103   \n",
       "std                         2.49832            23.716912         5.077785   \n",
       "min                         0.37000             2.000000         0.100000   \n",
       "25%                         4.26000            78.000000         0.100000   \n",
       "50%                         5.75500            93.000000         0.100000   \n",
       "75%                         7.49250            97.000000         0.800000   \n",
       "max                        17.60000            99.000000        50.600000   \n",
       "\n",
       "                 GDP    Population  Thinness_1_19_years  Thinness_5_9_years  \\\n",
       "count    2490.000000  2.286000e+03          2904.000000         2904.000000   \n",
       "mean     7483.158469  1.275338e+07             4.839704            4.870317   \n",
       "std     14270.169342  6.101210e+07             4.420195            4.508882   \n",
       "min         1.681350  3.400000e+01             0.100000            0.100000   \n",
       "25%       463.935626  1.957932e+05             1.600000            1.500000   \n",
       "50%      1766.947595  1.386542e+06             3.300000            3.300000   \n",
       "75%      5910.806335  7.420359e+06             7.200000            7.200000   \n",
       "max    119172.741800  1.293859e+09            27.700000           28.600000   \n",
       "\n",
       "       Income_composition_resources  Schooling_years  \n",
       "count                   2771.000000      2775.000000  \n",
       "mean                       0.627551        11.992793  \n",
       "std                        0.210904         3.358920  \n",
       "min                        0.000000         0.000000  \n",
       "25%                        0.493000        10.100000  \n",
       "50%                        0.677000        12.300000  \n",
       "75%                        0.779000        14.300000  \n",
       "max                        0.948000        20.700000  "
      ]
     },
     "execution_count": 9,
     "metadata": {},
     "output_type": "execute_result"
    }
   ],
   "source": [
    "data.describe()"
   ]
  },
  {
   "cell_type": "markdown",
   "id": "efbb4bdd",
   "metadata": {
    "papermill": {
     "duration": 0.042943,
     "end_time": "2024-09-02T08:10:01.012667",
     "exception": false,
     "start_time": "2024-09-02T08:10:00.969724",
     "status": "completed"
    },
    "tags": []
   },
   "source": [
    "> Here are some initial takeaways from the data:\n",
    "- Minimum \"Population\" is 34 which doesnt seem to be correct (we will get back to population at the end)\n",
    "- 'Under_5_deaths_cases' which is defined as \"number of under 5 deaths per 1000 population\" has a maximum value of 2500 which doesnt make sense!\n",
    "- 'Measles_cases' is defined as \"number of reported cases per 1000 population\". But it has a maximum value of 212183!\n",
    "- 'Infant_deaths_cases' is defined as \"Number of Infant Deaths per 1000 population\" but has a maximum value of 1800!\n",
    "\n",
    " > Lets first deal with missing values:"
   ]
  },
  {
   "cell_type": "markdown",
   "id": "337d5cc9",
   "metadata": {
    "papermill": {
     "duration": 0.043727,
     "end_time": "2024-09-02T08:10:01.099723",
     "exception": false,
     "start_time": "2024-09-02T08:10:01.055996",
     "status": "completed"
    },
    "tags": []
   },
   "source": [
    "### Dealing with missing values"
   ]
  },
  {
   "cell_type": "markdown",
   "id": "e174df9e",
   "metadata": {
    "papermill": {
     "duration": 0.043076,
     "end_time": "2024-09-02T08:10:01.186322",
     "exception": false,
     "start_time": "2024-09-02T08:10:01.143246",
     "status": "completed"
    },
    "tags": []
   },
   "source": [
    "There are different approches to deal with missing values. \n",
    "Here, for any missing value I have decided to use the averge value for that country, if possible! The reason for this approach is that, many features like population, life_expectancy or several types of maladies change very slowing in span of 10-15 years (unless if there is a natural disaster, epidemy or large escale wars,...). So it is reasonable enough to impute the missing values with the country's average.\n",
    "\n",
    "However, for some countries, there are features with no value at all! For these cases, I have used the average of the feature values of the 'countries' in the 'same geographical regions'. To get the corresponding geographical regions, I have used an AI api to map each country with a geographical area. In total 14 different geographical regions have been identified and coutrnies have been grouped in these regions: ['North America', 'Latin America', 'Western Europe','Eastern Europe', 'Asia', 'Middle East', 'Oceania', 'North Africa','Central Africa', 'West Africa', 'East Africa', 'Southern Africa','Scandinavia', 'Southern Europe']"
   ]
  },
  {
   "cell_type": "code",
   "execution_count": 10,
   "id": "94144117",
   "metadata": {
    "execution": {
     "iopub.execute_input": "2024-09-02T08:10:01.275694Z",
     "iopub.status.busy": "2024-09-02T08:10:01.275270Z",
     "iopub.status.idle": "2024-09-02T08:10:01.288268Z",
     "shell.execute_reply": "2024-09-02T08:10:01.287230Z"
    },
    "papermill": {
     "duration": 0.060862,
     "end_time": "2024-09-02T08:10:01.291061",
     "exception": false,
     "start_time": "2024-09-02T08:10:01.230199",
     "status": "completed"
    },
    "tags": []
   },
   "outputs": [],
   "source": [
    "#Since maybe some users dont have access (tokens) to use APIs for common AI models, I have already prepared a list of country / region.\n",
    "# list of countries vs geographical regions\n",
    "data_region = pd.read_csv(\"/kaggle/input/lifeexp-region-popdensity/country_region_list.csv\", index_col = 0)"
   ]
  },
  {
   "cell_type": "code",
   "execution_count": 11,
   "id": "c0f29b26",
   "metadata": {
    "execution": {
     "iopub.execute_input": "2024-09-02T08:10:01.381131Z",
     "iopub.status.busy": "2024-09-02T08:10:01.380162Z",
     "iopub.status.idle": "2024-09-02T08:10:01.394152Z",
     "shell.execute_reply": "2024-09-02T08:10:01.393018Z"
    },
    "papermill": {
     "duration": 0.061613,
     "end_time": "2024-09-02T08:10:01.396616",
     "exception": false,
     "start_time": "2024-09-02T08:10:01.335003",
     "status": "completed"
    },
    "tags": []
   },
   "outputs": [
    {
     "data": {
      "text/html": [
       "<div>\n",
       "<style scoped>\n",
       "    .dataframe tbody tr th:only-of-type {\n",
       "        vertical-align: middle;\n",
       "    }\n",
       "\n",
       "    .dataframe tbody tr th {\n",
       "        vertical-align: top;\n",
       "    }\n",
       "\n",
       "    .dataframe thead th {\n",
       "        text-align: right;\n",
       "    }\n",
       "</style>\n",
       "<table border=\"1\" class=\"dataframe\">\n",
       "  <thead>\n",
       "    <tr style=\"text-align: right;\">\n",
       "      <th></th>\n",
       "      <th>Country</th>\n",
       "      <th>Region</th>\n",
       "    </tr>\n",
       "  </thead>\n",
       "  <tbody>\n",
       "    <tr>\n",
       "      <th>138</th>\n",
       "      <td>Democratic Republic of the Congo</td>\n",
       "      <td>Central Africa</td>\n",
       "    </tr>\n",
       "    <tr>\n",
       "      <th>16</th>\n",
       "      <td>Barbados</td>\n",
       "      <td>North America</td>\n",
       "    </tr>\n",
       "    <tr>\n",
       "      <th>155</th>\n",
       "      <td>Sierra Leone</td>\n",
       "      <td>West Africa</td>\n",
       "    </tr>\n",
       "    <tr>\n",
       "      <th>96</th>\n",
       "      <td>Viet Nam</td>\n",
       "      <td>Asia</td>\n",
       "    </tr>\n",
       "    <tr>\n",
       "      <th>68</th>\n",
       "      <td>Azerbaijan</td>\n",
       "      <td>Asia</td>\n",
       "    </tr>\n",
       "    <tr>\n",
       "      <th>153</th>\n",
       "      <td>Nigeria</td>\n",
       "      <td>West Africa</td>\n",
       "    </tr>\n",
       "  </tbody>\n",
       "</table>\n",
       "</div>"
      ],
      "text/plain": [
       "                              Country          Region\n",
       "138  Democratic Republic of the Congo  Central Africa\n",
       "16                           Barbados   North America\n",
       "155                      Sierra Leone     West Africa\n",
       "96                           Viet Nam            Asia\n",
       "68                         Azerbaijan            Asia\n",
       "153                           Nigeria     West Africa"
      ]
     },
     "execution_count": 11,
     "metadata": {},
     "output_type": "execute_result"
    }
   ],
   "source": [
    "data_region.sample(6)"
   ]
  },
  {
   "cell_type": "code",
   "execution_count": 12,
   "id": "993255be",
   "metadata": {
    "execution": {
     "iopub.execute_input": "2024-09-02T08:10:01.486352Z",
     "iopub.status.busy": "2024-09-02T08:10:01.485899Z",
     "iopub.status.idle": "2024-09-02T08:10:01.501975Z",
     "shell.execute_reply": "2024-09-02T08:10:01.500816Z"
    },
    "papermill": {
     "duration": 0.064373,
     "end_time": "2024-09-02T08:10:01.504911",
     "exception": false,
     "start_time": "2024-09-02T08:10:01.440538",
     "status": "completed"
    },
    "tags": []
   },
   "outputs": [],
   "source": [
    "# Merging the data with Regional data (df)\n",
    "merged_data = data.merge(data_region, on='Country', how='left')"
   ]
  },
  {
   "cell_type": "code",
   "execution_count": 13,
   "id": "8e2ea36a",
   "metadata": {
    "execution": {
     "iopub.execute_input": "2024-09-02T08:10:01.596777Z",
     "iopub.status.busy": "2024-09-02T08:10:01.596296Z",
     "iopub.status.idle": "2024-09-02T08:10:01.603422Z",
     "shell.execute_reply": "2024-09-02T08:10:01.602147Z"
    },
    "papermill": {
     "duration": 0.056166,
     "end_time": "2024-09-02T08:10:01.606098",
     "exception": false,
     "start_time": "2024-09-02T08:10:01.549932",
     "status": "completed"
    },
    "tags": []
   },
   "outputs": [],
   "source": [
    "data = merged_data.copy()"
   ]
  },
  {
   "cell_type": "markdown",
   "id": "bbabc65d",
   "metadata": {
    "papermill": {
     "duration": 0.043972,
     "end_time": "2024-09-02T08:10:01.695116",
     "exception": false,
     "start_time": "2024-09-02T08:10:01.651144",
     "status": "completed"
    },
    "tags": []
   },
   "source": [
    "Now, we calculate the average value for each feature for each the geographical region."
   ]
  },
  {
   "cell_type": "code",
   "execution_count": 14,
   "id": "3b93490a",
   "metadata": {
    "execution": {
     "iopub.execute_input": "2024-09-02T08:10:01.787964Z",
     "iopub.status.busy": "2024-09-02T08:10:01.786722Z",
     "iopub.status.idle": "2024-09-02T08:10:01.798354Z",
     "shell.execute_reply": "2024-09-02T08:10:01.797322Z"
    },
    "papermill": {
     "duration": 0.060405,
     "end_time": "2024-09-02T08:10:01.801058",
     "exception": false,
     "start_time": "2024-09-02T08:10:01.740653",
     "status": "completed"
    },
    "tags": []
   },
   "outputs": [],
   "source": [
    "#calculating average values for each features for each region\n",
    "data_region_avg = data.drop([\"Country\", \"Status\", \"Year\"], axis=1).groupby('Region').mean()"
   ]
  },
  {
   "cell_type": "code",
   "execution_count": 15,
   "id": "5ff092ed",
   "metadata": {
    "execution": {
     "iopub.execute_input": "2024-09-02T08:10:01.891547Z",
     "iopub.status.busy": "2024-09-02T08:10:01.890593Z",
     "iopub.status.idle": "2024-09-02T08:10:01.925087Z",
     "shell.execute_reply": "2024-09-02T08:10:01.923831Z"
    },
    "papermill": {
     "duration": 0.082779,
     "end_time": "2024-09-02T08:10:01.927887",
     "exception": false,
     "start_time": "2024-09-02T08:10:01.845108",
     "status": "completed"
    },
    "tags": []
   },
   "outputs": [
    {
     "data": {
      "text/html": [
       "<div>\n",
       "<style scoped>\n",
       "    .dataframe tbody tr th:only-of-type {\n",
       "        vertical-align: middle;\n",
       "    }\n",
       "\n",
       "    .dataframe tbody tr th {\n",
       "        vertical-align: top;\n",
       "    }\n",
       "\n",
       "    .dataframe thead th {\n",
       "        text-align: right;\n",
       "    }\n",
       "</style>\n",
       "<table border=\"1\" class=\"dataframe\">\n",
       "  <thead>\n",
       "    <tr style=\"text-align: right;\">\n",
       "      <th></th>\n",
       "      <th>Life_expectancy</th>\n",
       "      <th>Adult_Mortality_rate</th>\n",
       "      <th>Infant_deaths_cases</th>\n",
       "      <th>Alcohol</th>\n",
       "      <th>Percent_health_expenditure_GDP</th>\n",
       "      <th>Hepatitis_coverage</th>\n",
       "      <th>Measles_cases</th>\n",
       "      <th>BMI</th>\n",
       "      <th>Under_5_deaths_cases</th>\n",
       "      <th>Polio_coverage</th>\n",
       "      <th>Total_health_expenditure_gov</th>\n",
       "      <th>Diphtheria_coverage</th>\n",
       "      <th>HIV_death_cases</th>\n",
       "      <th>GDP</th>\n",
       "      <th>Population</th>\n",
       "      <th>Thinness_1_19_years</th>\n",
       "      <th>Thinness_5_9_years</th>\n",
       "      <th>Income_composition_resources</th>\n",
       "      <th>Schooling_years</th>\n",
       "    </tr>\n",
       "    <tr>\n",
       "      <th>Region</th>\n",
       "      <th></th>\n",
       "      <th></th>\n",
       "      <th></th>\n",
       "      <th></th>\n",
       "      <th></th>\n",
       "      <th></th>\n",
       "      <th></th>\n",
       "      <th></th>\n",
       "      <th></th>\n",
       "      <th></th>\n",
       "      <th></th>\n",
       "      <th></th>\n",
       "      <th></th>\n",
       "      <th></th>\n",
       "      <th></th>\n",
       "      <th></th>\n",
       "      <th></th>\n",
       "      <th></th>\n",
       "      <th></th>\n",
       "    </tr>\n",
       "  </thead>\n",
       "  <tbody>\n",
       "    <tr>\n",
       "      <th>Asia</th>\n",
       "      <td>69.829297</td>\n",
       "      <td>152.306641</td>\n",
       "      <td>84.792969</td>\n",
       "      <td>2.406950</td>\n",
       "      <td>325.803478</td>\n",
       "      <td>82.446188</td>\n",
       "      <td>5754.199219</td>\n",
       "      <td>25.238086</td>\n",
       "      <td>109.414062</td>\n",
       "      <td>84.886275</td>\n",
       "      <td>4.705193</td>\n",
       "      <td>85.847059</td>\n",
       "      <td>0.180469</td>\n",
       "      <td>4398.266418</td>\n",
       "      <td>3.244025e+07</td>\n",
       "      <td>8.149609</td>\n",
       "      <td>8.557227</td>\n",
       "      <td>0.605052</td>\n",
       "      <td>11.296458</td>\n",
       "    </tr>\n",
       "    <tr>\n",
       "      <th>Central Africa</th>\n",
       "      <td>55.029464</td>\n",
       "      <td>277.660714</td>\n",
       "      <td>51.955357</td>\n",
       "      <td>3.514381</td>\n",
       "      <td>133.056354</td>\n",
       "      <td>51.807018</td>\n",
       "      <td>8422.151786</td>\n",
       "      <td>20.066071</td>\n",
       "      <td>75.857143</td>\n",
       "      <td>49.839286</td>\n",
       "      <td>3.684000</td>\n",
       "      <td>45.750000</td>\n",
       "      <td>5.639286</td>\n",
       "      <td>2942.106116</td>\n",
       "      <td>3.532400e+06</td>\n",
       "      <td>7.286607</td>\n",
       "      <td>7.170536</td>\n",
       "      <td>0.473500</td>\n",
       "      <td>8.676042</td>\n",
       "    </tr>\n",
       "    <tr>\n",
       "      <th>East Africa</th>\n",
       "      <td>57.422059</td>\n",
       "      <td>301.283088</td>\n",
       "      <td>45.661765</td>\n",
       "      <td>2.593375</td>\n",
       "      <td>60.093276</td>\n",
       "      <td>77.339901</td>\n",
       "      <td>3512.367647</td>\n",
       "      <td>18.144141</td>\n",
       "      <td>69.632353</td>\n",
       "      <td>72.080460</td>\n",
       "      <td>5.611404</td>\n",
       "      <td>70.900383</td>\n",
       "      <td>6.301103</td>\n",
       "      <td>886.660065</td>\n",
       "      <td>9.095836e+06</td>\n",
       "      <td>7.011328</td>\n",
       "      <td>6.846484</td>\n",
       "      <td>0.401379</td>\n",
       "      <td>8.452500</td>\n",
       "    </tr>\n",
       "    <tr>\n",
       "      <th>Eastern Europe</th>\n",
       "      <td>73.825312</td>\n",
       "      <td>129.681250</td>\n",
       "      <td>1.578125</td>\n",
       "      <td>9.127200</td>\n",
       "      <td>437.149454</td>\n",
       "      <td>88.031373</td>\n",
       "      <td>548.462500</td>\n",
       "      <td>52.157187</td>\n",
       "      <td>1.856250</td>\n",
       "      <td>93.401274</td>\n",
       "      <td>6.890399</td>\n",
       "      <td>92.073248</td>\n",
       "      <td>0.130000</td>\n",
       "      <td>5934.464893</td>\n",
       "      <td>7.523115e+06</td>\n",
       "      <td>2.265625</td>\n",
       "      <td>2.340937</td>\n",
       "      <td>0.731861</td>\n",
       "      <td>14.135069</td>\n",
       "    </tr>\n",
       "    <tr>\n",
       "      <th>Latin America</th>\n",
       "      <td>72.971875</td>\n",
       "      <td>139.119792</td>\n",
       "      <td>11.489583</td>\n",
       "      <td>5.782111</td>\n",
       "      <td>377.524082</td>\n",
       "      <td>82.988372</td>\n",
       "      <td>25.140625</td>\n",
       "      <td>47.804167</td>\n",
       "      <td>13.437500</td>\n",
       "      <td>84.640625</td>\n",
       "      <td>6.490833</td>\n",
       "      <td>86.156250</td>\n",
       "      <td>0.267187</td>\n",
       "      <td>4334.072499</td>\n",
       "      <td>1.866346e+07</td>\n",
       "      <td>2.154688</td>\n",
       "      <td>2.064583</td>\n",
       "      <td>0.689406</td>\n",
       "      <td>13.406771</td>\n",
       "    </tr>\n",
       "    <tr>\n",
       "      <th>Middle East</th>\n",
       "      <td>74.107500</td>\n",
       "      <td>93.183333</td>\n",
       "      <td>9.850000</td>\n",
       "      <td>1.525422</td>\n",
       "      <td>754.777532</td>\n",
       "      <td>87.195833</td>\n",
       "      <td>1069.275000</td>\n",
       "      <td>52.115833</td>\n",
       "      <td>12.008333</td>\n",
       "      <td>87.312500</td>\n",
       "      <td>4.942928</td>\n",
       "      <td>86.462500</td>\n",
       "      <td>0.100000</td>\n",
       "      <td>13937.758245</td>\n",
       "      <td>9.516851e+06</td>\n",
       "      <td>5.538333</td>\n",
       "      <td>5.434583</td>\n",
       "      <td>0.719587</td>\n",
       "      <td>12.663333</td>\n",
       "    </tr>\n",
       "    <tr>\n",
       "      <th>North Africa</th>\n",
       "      <td>70.990625</td>\n",
       "      <td>128.791667</td>\n",
       "      <td>28.000000</td>\n",
       "      <td>0.648778</td>\n",
       "      <td>163.948265</td>\n",
       "      <td>89.241379</td>\n",
       "      <td>1549.104167</td>\n",
       "      <td>49.943750</td>\n",
       "      <td>36.468750</td>\n",
       "      <td>91.968750</td>\n",
       "      <td>5.144778</td>\n",
       "      <td>92.052083</td>\n",
       "      <td>0.125000</td>\n",
       "      <td>2625.209632</td>\n",
       "      <td>1.589062e+07</td>\n",
       "      <td>5.536250</td>\n",
       "      <td>5.426250</td>\n",
       "      <td>0.633740</td>\n",
       "      <td>11.686458</td>\n",
       "    </tr>\n",
       "    <tr>\n",
       "      <th>North America</th>\n",
       "      <td>73.778869</td>\n",
       "      <td>126.119048</td>\n",
       "      <td>5.637982</td>\n",
       "      <td>6.103165</td>\n",
       "      <td>537.846661</td>\n",
       "      <td>83.089701</td>\n",
       "      <td>17.415430</td>\n",
       "      <td>44.965282</td>\n",
       "      <td>6.893175</td>\n",
       "      <td>85.468843</td>\n",
       "      <td>6.766076</td>\n",
       "      <td>87.599407</td>\n",
       "      <td>0.466172</td>\n",
       "      <td>5914.418713</td>\n",
       "      <td>5.204519e+06</td>\n",
       "      <td>2.817804</td>\n",
       "      <td>2.777745</td>\n",
       "      <td>0.656941</td>\n",
       "      <td>12.429907</td>\n",
       "    </tr>\n",
       "    <tr>\n",
       "      <th>Oceania</th>\n",
       "      <td>70.664205</td>\n",
       "      <td>137.801136</td>\n",
       "      <td>1.016393</td>\n",
       "      <td>2.985698</td>\n",
       "      <td>844.041054</td>\n",
       "      <td>74.022346</td>\n",
       "      <td>229.874317</td>\n",
       "      <td>52.714754</td>\n",
       "      <td>1.322404</td>\n",
       "      <td>79.322404</td>\n",
       "      <td>6.579535</td>\n",
       "      <td>76.295082</td>\n",
       "      <td>0.269399</td>\n",
       "      <td>6134.660591</td>\n",
       "      <td>1.184190e+06</td>\n",
       "      <td>1.469945</td>\n",
       "      <td>1.416940</td>\n",
       "      <td>0.609017</td>\n",
       "      <td>12.581768</td>\n",
       "    </tr>\n",
       "    <tr>\n",
       "      <th>Scandinavia</th>\n",
       "      <td>81.070312</td>\n",
       "      <td>65.093750</td>\n",
       "      <td>0.000000</td>\n",
       "      <td>8.320656</td>\n",
       "      <td>4324.907084</td>\n",
       "      <td>59.200000</td>\n",
       "      <td>10.953125</td>\n",
       "      <td>53.796875</td>\n",
       "      <td>0.000000</td>\n",
       "      <td>94.140625</td>\n",
       "      <td>8.863833</td>\n",
       "      <td>93.125000</td>\n",
       "      <td>0.100000</td>\n",
       "      <td>28776.498810</td>\n",
       "      <td>3.970616e+06</td>\n",
       "      <td>1.043750</td>\n",
       "      <td>0.937500</td>\n",
       "      <td>0.899344</td>\n",
       "      <td>16.956250</td>\n",
       "    </tr>\n",
       "    <tr>\n",
       "      <th>Southern Africa</th>\n",
       "      <td>56.541071</td>\n",
       "      <td>365.035714</td>\n",
       "      <td>20.633929</td>\n",
       "      <td>4.595238</td>\n",
       "      <td>313.587873</td>\n",
       "      <td>79.543478</td>\n",
       "      <td>913.910714</td>\n",
       "      <td>27.622321</td>\n",
       "      <td>31.339286</td>\n",
       "      <td>77.080357</td>\n",
       "      <td>6.367905</td>\n",
       "      <td>79.526786</td>\n",
       "      <td>15.292857</td>\n",
       "      <td>3234.950385</td>\n",
       "      <td>6.253071e+06</td>\n",
       "      <td>7.805357</td>\n",
       "      <td>8.196429</td>\n",
       "      <td>0.571607</td>\n",
       "      <td>11.308929</td>\n",
       "    </tr>\n",
       "    <tr>\n",
       "      <th>Southern Europe</th>\n",
       "      <td>80.790625</td>\n",
       "      <td>67.187500</td>\n",
       "      <td>0.093750</td>\n",
       "      <td>7.966667</td>\n",
       "      <td>1470.339303</td>\n",
       "      <td>85.172414</td>\n",
       "      <td>13.531250</td>\n",
       "      <td>62.431250</td>\n",
       "      <td>0.218750</td>\n",
       "      <td>90.437500</td>\n",
       "      <td>8.817667</td>\n",
       "      <td>92.968750</td>\n",
       "      <td>0.100000</td>\n",
       "      <td>13284.516907</td>\n",
       "      <td>8.874754e+05</td>\n",
       "      <td>0.781250</td>\n",
       "      <td>0.721875</td>\n",
       "      <td>0.826750</td>\n",
       "      <td>15.121875</td>\n",
       "    </tr>\n",
       "    <tr>\n",
       "      <th>West Africa</th>\n",
       "      <td>57.298047</td>\n",
       "      <td>239.781250</td>\n",
       "      <td>58.558594</td>\n",
       "      <td>2.138333</td>\n",
       "      <td>42.785616</td>\n",
       "      <td>70.202247</td>\n",
       "      <td>5447.003906</td>\n",
       "      <td>19.391797</td>\n",
       "      <td>94.253906</td>\n",
       "      <td>67.468750</td>\n",
       "      <td>5.478708</td>\n",
       "      <td>65.804688</td>\n",
       "      <td>2.350391</td>\n",
       "      <td>599.158824</td>\n",
       "      <td>9.397953e+06</td>\n",
       "      <td>7.830078</td>\n",
       "      <td>7.682031</td>\n",
       "      <td>0.395750</td>\n",
       "      <td>8.146667</td>\n",
       "    </tr>\n",
       "    <tr>\n",
       "      <th>Western Europe</th>\n",
       "      <td>81.341346</td>\n",
       "      <td>64.163462</td>\n",
       "      <td>1.076190</td>\n",
       "      <td>10.675404</td>\n",
       "      <td>4076.340209</td>\n",
       "      <td>80.609929</td>\n",
       "      <td>630.623810</td>\n",
       "      <td>51.922115</td>\n",
       "      <td>1.319048</td>\n",
       "      <td>94.147619</td>\n",
       "      <td>7.071929</td>\n",
       "      <td>93.719048</td>\n",
       "      <td>0.100000</td>\n",
       "      <td>30087.694373</td>\n",
       "      <td>1.255476e+07</td>\n",
       "      <td>0.822115</td>\n",
       "      <td>0.765865</td>\n",
       "      <td>0.873714</td>\n",
       "      <td>16.227461</td>\n",
       "    </tr>\n",
       "  </tbody>\n",
       "</table>\n",
       "</div>"
      ],
      "text/plain": [
       "                 Life_expectancy  Adult_Mortality_rate  Infant_deaths_cases  \\\n",
       "Region                                                                        \n",
       "Asia                   69.829297            152.306641            84.792969   \n",
       "Central Africa         55.029464            277.660714            51.955357   \n",
       "East Africa            57.422059            301.283088            45.661765   \n",
       "Eastern Europe         73.825312            129.681250             1.578125   \n",
       "Latin America          72.971875            139.119792            11.489583   \n",
       "Middle East            74.107500             93.183333             9.850000   \n",
       "North Africa           70.990625            128.791667            28.000000   \n",
       "North America          73.778869            126.119048             5.637982   \n",
       "Oceania                70.664205            137.801136             1.016393   \n",
       "Scandinavia            81.070312             65.093750             0.000000   \n",
       "Southern Africa        56.541071            365.035714            20.633929   \n",
       "Southern Europe        80.790625             67.187500             0.093750   \n",
       "West Africa            57.298047            239.781250            58.558594   \n",
       "Western Europe         81.341346             64.163462             1.076190   \n",
       "\n",
       "                   Alcohol  Percent_health_expenditure_GDP  \\\n",
       "Region                                                       \n",
       "Asia              2.406950                      325.803478   \n",
       "Central Africa    3.514381                      133.056354   \n",
       "East Africa       2.593375                       60.093276   \n",
       "Eastern Europe    9.127200                      437.149454   \n",
       "Latin America     5.782111                      377.524082   \n",
       "Middle East       1.525422                      754.777532   \n",
       "North Africa      0.648778                      163.948265   \n",
       "North America     6.103165                      537.846661   \n",
       "Oceania           2.985698                      844.041054   \n",
       "Scandinavia       8.320656                     4324.907084   \n",
       "Southern Africa   4.595238                      313.587873   \n",
       "Southern Europe   7.966667                     1470.339303   \n",
       "West Africa       2.138333                       42.785616   \n",
       "Western Europe   10.675404                     4076.340209   \n",
       "\n",
       "                 Hepatitis_coverage  Measles_cases        BMI  \\\n",
       "Region                                                          \n",
       "Asia                      82.446188    5754.199219  25.238086   \n",
       "Central Africa            51.807018    8422.151786  20.066071   \n",
       "East Africa               77.339901    3512.367647  18.144141   \n",
       "Eastern Europe            88.031373     548.462500  52.157187   \n",
       "Latin America             82.988372      25.140625  47.804167   \n",
       "Middle East               87.195833    1069.275000  52.115833   \n",
       "North Africa              89.241379    1549.104167  49.943750   \n",
       "North America             83.089701      17.415430  44.965282   \n",
       "Oceania                   74.022346     229.874317  52.714754   \n",
       "Scandinavia               59.200000      10.953125  53.796875   \n",
       "Southern Africa           79.543478     913.910714  27.622321   \n",
       "Southern Europe           85.172414      13.531250  62.431250   \n",
       "West Africa               70.202247    5447.003906  19.391797   \n",
       "Western Europe            80.609929     630.623810  51.922115   \n",
       "\n",
       "                 Under_5_deaths_cases  Polio_coverage  \\\n",
       "Region                                                  \n",
       "Asia                       109.414062       84.886275   \n",
       "Central Africa              75.857143       49.839286   \n",
       "East Africa                 69.632353       72.080460   \n",
       "Eastern Europe               1.856250       93.401274   \n",
       "Latin America               13.437500       84.640625   \n",
       "Middle East                 12.008333       87.312500   \n",
       "North Africa                36.468750       91.968750   \n",
       "North America                6.893175       85.468843   \n",
       "Oceania                      1.322404       79.322404   \n",
       "Scandinavia                  0.000000       94.140625   \n",
       "Southern Africa             31.339286       77.080357   \n",
       "Southern Europe              0.218750       90.437500   \n",
       "West Africa                 94.253906       67.468750   \n",
       "Western Europe               1.319048       94.147619   \n",
       "\n",
       "                 Total_health_expenditure_gov  Diphtheria_coverage  \\\n",
       "Region                                                               \n",
       "Asia                                 4.705193            85.847059   \n",
       "Central Africa                       3.684000            45.750000   \n",
       "East Africa                          5.611404            70.900383   \n",
       "Eastern Europe                       6.890399            92.073248   \n",
       "Latin America                        6.490833            86.156250   \n",
       "Middle East                          4.942928            86.462500   \n",
       "North Africa                         5.144778            92.052083   \n",
       "North America                        6.766076            87.599407   \n",
       "Oceania                              6.579535            76.295082   \n",
       "Scandinavia                          8.863833            93.125000   \n",
       "Southern Africa                      6.367905            79.526786   \n",
       "Southern Europe                      8.817667            92.968750   \n",
       "West Africa                          5.478708            65.804688   \n",
       "Western Europe                       7.071929            93.719048   \n",
       "\n",
       "                 HIV_death_cases           GDP    Population  \\\n",
       "Region                                                         \n",
       "Asia                    0.180469   4398.266418  3.244025e+07   \n",
       "Central Africa          5.639286   2942.106116  3.532400e+06   \n",
       "East Africa             6.301103    886.660065  9.095836e+06   \n",
       "Eastern Europe          0.130000   5934.464893  7.523115e+06   \n",
       "Latin America           0.267187   4334.072499  1.866346e+07   \n",
       "Middle East             0.100000  13937.758245  9.516851e+06   \n",
       "North Africa            0.125000   2625.209632  1.589062e+07   \n",
       "North America           0.466172   5914.418713  5.204519e+06   \n",
       "Oceania                 0.269399   6134.660591  1.184190e+06   \n",
       "Scandinavia             0.100000  28776.498810  3.970616e+06   \n",
       "Southern Africa        15.292857   3234.950385  6.253071e+06   \n",
       "Southern Europe         0.100000  13284.516907  8.874754e+05   \n",
       "West Africa             2.350391    599.158824  9.397953e+06   \n",
       "Western Europe          0.100000  30087.694373  1.255476e+07   \n",
       "\n",
       "                 Thinness_1_19_years  Thinness_5_9_years  \\\n",
       "Region                                                     \n",
       "Asia                        8.149609            8.557227   \n",
       "Central Africa              7.286607            7.170536   \n",
       "East Africa                 7.011328            6.846484   \n",
       "Eastern Europe              2.265625            2.340937   \n",
       "Latin America               2.154688            2.064583   \n",
       "Middle East                 5.538333            5.434583   \n",
       "North Africa                5.536250            5.426250   \n",
       "North America               2.817804            2.777745   \n",
       "Oceania                     1.469945            1.416940   \n",
       "Scandinavia                 1.043750            0.937500   \n",
       "Southern Africa             7.805357            8.196429   \n",
       "Southern Europe             0.781250            0.721875   \n",
       "West Africa                 7.830078            7.682031   \n",
       "Western Europe              0.822115            0.765865   \n",
       "\n",
       "                 Income_composition_resources  Schooling_years  \n",
       "Region                                                          \n",
       "Asia                                 0.605052        11.296458  \n",
       "Central Africa                       0.473500         8.676042  \n",
       "East Africa                          0.401379         8.452500  \n",
       "Eastern Europe                       0.731861        14.135069  \n",
       "Latin America                        0.689406        13.406771  \n",
       "Middle East                          0.719587        12.663333  \n",
       "North Africa                         0.633740        11.686458  \n",
       "North America                        0.656941        12.429907  \n",
       "Oceania                              0.609017        12.581768  \n",
       "Scandinavia                          0.899344        16.956250  \n",
       "Southern Africa                      0.571607        11.308929  \n",
       "Southern Europe                      0.826750        15.121875  \n",
       "West Africa                          0.395750         8.146667  \n",
       "Western Europe                       0.873714        16.227461  "
      ]
     },
     "execution_count": 15,
     "metadata": {},
     "output_type": "execute_result"
    }
   ],
   "source": [
    "data_region_avg"
   ]
  },
  {
   "cell_type": "markdown",
   "id": "52321e9e",
   "metadata": {
    "papermill": {
     "duration": 0.045866,
     "end_time": "2024-09-02T08:10:02.020183",
     "exception": false,
     "start_time": "2024-09-02T08:10:01.974317",
     "status": "completed"
    },
    "tags": []
   },
   "source": [
    "### A function to impute missing values"
   ]
  },
  {
   "cell_type": "markdown",
   "id": "de7ce701",
   "metadata": {
    "papermill": {
     "duration": 0.045917,
     "end_time": "2024-09-02T08:10:02.112428",
     "exception": false,
     "start_time": "2024-09-02T08:10:02.066511",
     "status": "completed"
    },
    "tags": []
   },
   "source": [
    "> The below function, fills the missing values with the country's average for that feature. If the corresponding feature is NaN for the country, it will ueses the geographical region's average."
   ]
  },
  {
   "cell_type": "code",
   "execution_count": 16,
   "id": "287469bf",
   "metadata": {
    "execution": {
     "iopub.execute_input": "2024-09-02T08:10:02.205085Z",
     "iopub.status.busy": "2024-09-02T08:10:02.204608Z",
     "iopub.status.idle": "2024-09-02T08:10:02.214182Z",
     "shell.execute_reply": "2024-09-02T08:10:02.213046Z"
    },
    "papermill": {
     "duration": 0.059001,
     "end_time": "2024-09-02T08:10:02.216757",
     "exception": false,
     "start_time": "2024-09-02T08:10:02.157756",
     "status": "completed"
    },
    "tags": []
   },
   "outputs": [],
   "source": [
    "def fill_values(X, data_region_avg):\n",
    "    # Iterate over each country\n",
    "    for country in X['Country'].unique():\n",
    "        country_data = X[X['Country'] == country]\n",
    "        region = country_data['Region'].iloc[0]  # Assuming there's only one region per country\n",
    "\n",
    "        # Iterate over each feature/column in the DataFrame\n",
    "        for feature in X.columns:\n",
    "            if country_data[feature].isna().any():\n",
    "                missing_rows = country_data[feature].isna()\n",
    "                missing_index = missing_rows[missing_rows].index\n",
    "                \n",
    "                if country_data[feature].notna().any(): #if there is data for country\n",
    "                    mean_value = country_data[feature].mean()\n",
    "                    X.loc[missing_index, feature] = mean_value\n",
    "                else:\n",
    "                    if region in data_region_avg.index: #otherwise use regional data\n",
    "                        regional_avg = data_region_avg.loc[region, feature]\n",
    "                        X.loc[missing_index, feature] = regional_avg\n",
    "    return X"
   ]
  },
  {
   "cell_type": "code",
   "execution_count": 17,
   "id": "e28ac019",
   "metadata": {
    "execution": {
     "iopub.execute_input": "2024-09-02T08:10:02.311143Z",
     "iopub.status.busy": "2024-09-02T08:10:02.310682Z",
     "iopub.status.idle": "2024-09-02T08:10:03.619903Z",
     "shell.execute_reply": "2024-09-02T08:10:03.618484Z"
    },
    "papermill": {
     "duration": 1.359324,
     "end_time": "2024-09-02T08:10:03.622886",
     "exception": false,
     "start_time": "2024-09-02T08:10:02.263562",
     "status": "completed"
    },
    "tags": []
   },
   "outputs": [],
   "source": [
    "# Fill missing values\n",
    "data = fill_values(data, data_region_avg)"
   ]
  },
  {
   "cell_type": "markdown",
   "id": "a20195ab",
   "metadata": {
    "papermill": {
     "duration": 0.058594,
     "end_time": "2024-09-02T08:10:03.726431",
     "exception": false,
     "start_time": "2024-09-02T08:10:03.667837",
     "status": "completed"
    },
    "tags": []
   },
   "source": [
    "> So we have a dataset with suitable feature names and filled missing values"
   ]
  },
  {
   "cell_type": "markdown",
   "id": "a6fc4b63",
   "metadata": {
    "papermill": {
     "duration": 0.057715,
     "end_time": "2024-09-02T08:10:03.832854",
     "exception": false,
     "start_time": "2024-09-02T08:10:03.775139",
     "status": "completed"
    },
    "tags": []
   },
   "source": [
    "#  2) DATA EXPLORATION"
   ]
  },
  {
   "cell_type": "raw",
   "id": "068145a7",
   "metadata": {
    "papermill": {
     "duration": 0.045311,
     "end_time": "2024-09-02T08:10:03.934000",
     "exception": false,
     "start_time": "2024-09-02T08:10:03.888689",
     "status": "completed"
    },
    "tags": []
   },
   "source": [
    "When looking at the goal of the project and the key questions to answer we can identify some key features. These key features are:\n",
    "\n",
    "1 - Life expectancy which is the target.\n",
    "2 - Healtcare expenditure (columns: percentage expenditure / Total expenditure)\n",
    "3 - Infant and/or Adult Mortality \n",
    "4 - Life style (columns : Alcohol , BMI, thiness??)\n",
    "5 - densely population countres vs low density pop (column: Population)\n",
    "6 - Immunization (columns: Hepatitis B, Diphetria, Polio)\n",
    "\n",
    "Let's check out more clossely these features"
   ]
  },
  {
   "cell_type": "code",
   "execution_count": 18,
   "id": "c7c4ca9a",
   "metadata": {
    "execution": {
     "iopub.execute_input": "2024-09-02T08:10:04.026234Z",
     "iopub.status.busy": "2024-09-02T08:10:04.025768Z",
     "iopub.status.idle": "2024-09-02T08:10:04.032615Z",
     "shell.execute_reply": "2024-09-02T08:10:04.031466Z"
    },
    "papermill": {
     "duration": 0.055307,
     "end_time": "2024-09-02T08:10:04.035168",
     "exception": false,
     "start_time": "2024-09-02T08:10:03.979861",
     "status": "completed"
    },
    "tags": []
   },
   "outputs": [],
   "source": [
    "numeric_attribs = merged_data.drop(['Country', 'Year', 'Status', 'Region'], axis =1).columns"
   ]
  },
  {
   "cell_type": "code",
   "execution_count": 19,
   "id": "43c75647",
   "metadata": {
    "execution": {
     "iopub.execute_input": "2024-09-02T08:10:04.140887Z",
     "iopub.status.busy": "2024-09-02T08:10:04.140121Z",
     "iopub.status.idle": "2024-09-02T08:10:11.558303Z",
     "shell.execute_reply": "2024-09-02T08:10:11.557079Z"
    },
    "papermill": {
     "duration": 7.476416,
     "end_time": "2024-09-02T08:10:11.563747",
     "exception": false,
     "start_time": "2024-09-02T08:10:04.087331",
     "status": "completed"
    },
    "scrolled": true,
    "tags": []
   },
   "outputs": [
    {
     "data": {
      "image/png": "[encoded data removed]",
      "text/plain": [
       "<Figure size 1200x2500 with 19 Axes>"
      ]
     },
     "metadata": {},
     "output_type": "display_data"
    }
   ],
   "source": [
    "# List of features to plot\n",
    "features_to_plot = numeric_attribs \n",
    "\n",
    "# Number of rows and columns for subplots\n",
    "n_rows = 10\n",
    "n_cols = 2\n",
    "\n",
    "# Create a grid of subplots\n",
    "fig, axes = plt.subplots(n_rows, n_cols, figsize=(12, 25))\n",
    "\n",
    "# Flatten the axes array for easy iteration\n",
    "axes = axes.flatten()\n",
    "\n",
    "# Plot histograms for each feature\n",
    "for ax, feature in zip(axes, features_to_plot):\n",
    "    ax.hist(data[feature], bins=100, alpha=0.7, edgecolor='black')\n",
    "    ax.set_title(f'{feature}')\n",
    "    ax.set_xlabel('Value')\n",
    "    ax.set_ylabel('Frequency')\n",
    "\n",
    "# Remove any empty subplots if the number of features is less than the number of subplots\n",
    "for ax in axes[len(features_to_plot):]:\n",
    "    ax.remove()\n",
    "\n",
    "# Adjust layout to prevent overlap\n",
    "plt.tight_layout()\n",
    "\n",
    "# Show the plot\n",
    "plt.show()"
   ]
  },
  {
   "cell_type": "markdown",
   "id": "48768adb",
   "metadata": {
    "papermill": {
     "duration": 0.049137,
     "end_time": "2024-09-02T08:10:11.663748",
     "exception": false,
     "start_time": "2024-09-02T08:10:11.614611",
     "status": "completed"
    },
    "tags": []
   },
   "source": [
    "> Let's have a closer look at some of these features for example Population"
   ]
  },
  {
   "cell_type": "markdown",
   "id": "f8fc9556",
   "metadata": {
    "papermill": {
     "duration": 0.050117,
     "end_time": "2024-09-02T08:10:11.762681",
     "exception": false,
     "start_time": "2024-09-02T08:10:11.712564",
     "status": "completed"
    },
    "tags": []
   },
   "source": [
    "### Life Expectancy"
   ]
  },
  {
   "cell_type": "code",
   "execution_count": 20,
   "id": "b1891ccc",
   "metadata": {
    "execution": {
     "iopub.execute_input": "2024-09-02T08:10:11.863186Z",
     "iopub.status.busy": "2024-09-02T08:10:11.862043Z",
     "iopub.status.idle": "2024-09-02T08:10:11.874690Z",
     "shell.execute_reply": "2024-09-02T08:10:11.873547Z"
    },
    "papermill": {
     "duration": 0.065713,
     "end_time": "2024-09-02T08:10:11.877375",
     "exception": false,
     "start_time": "2024-09-02T08:10:11.811662",
     "status": "completed"
    },
    "tags": []
   },
   "outputs": [
    {
     "data": {
      "text/plain": [
       "count    2938.000000\n",
       "mean       69.238159\n",
       "std         9.513517\n",
       "min        36.300000\n",
       "25%        63.200000\n",
       "50%        72.050000\n",
       "75%        75.675000\n",
       "max        89.000000\n",
       "Name: Life_expectancy, dtype: float64"
      ]
     },
     "execution_count": 20,
     "metadata": {},
     "output_type": "execute_result"
    }
   ],
   "source": [
    "data[\"Life_expectancy\"].describe()"
   ]
  },
  {
   "cell_type": "markdown",
   "id": "ac97e5ff",
   "metadata": {
    "papermill": {
     "duration": 0.04916,
     "end_time": "2024-09-02T08:10:11.976516",
     "exception": false,
     "start_time": "2024-09-02T08:10:11.927356",
     "status": "completed"
    },
    "tags": []
   },
   "source": [
    "While the average life expectancy of the countries with lowest life_expectancy is around 45 to 49 years, the minimum value of life expectancy is 36 which seems to be an outlier. Let's check it out:"
   ]
  },
  {
   "cell_type": "code",
   "execution_count": 21,
   "id": "073faea5",
   "metadata": {
    "execution": {
     "iopub.execute_input": "2024-09-02T08:10:12.079419Z",
     "iopub.status.busy": "2024-09-02T08:10:12.078995Z",
     "iopub.status.idle": "2024-09-02T08:10:12.095791Z",
     "shell.execute_reply": "2024-09-02T08:10:12.094592Z"
    },
    "papermill": {
     "duration": 0.071797,
     "end_time": "2024-09-02T08:10:12.098452",
     "exception": false,
     "start_time": "2024-09-02T08:10:12.026655",
     "status": "completed"
    },
    "tags": []
   },
   "outputs": [
    {
     "data": {
      "text/html": [
       "<div>\n",
       "<style scoped>\n",
       "    .dataframe tbody tr th:only-of-type {\n",
       "        vertical-align: middle;\n",
       "    }\n",
       "\n",
       "    .dataframe tbody tr th {\n",
       "        vertical-align: top;\n",
       "    }\n",
       "\n",
       "    .dataframe thead th {\n",
       "        text-align: right;\n",
       "    }\n",
       "</style>\n",
       "<table border=\"1\" class=\"dataframe\">\n",
       "  <thead>\n",
       "    <tr style=\"text-align: right;\">\n",
       "      <th></th>\n",
       "      <th>Life_expectancy</th>\n",
       "    </tr>\n",
       "    <tr>\n",
       "      <th>Country</th>\n",
       "      <th></th>\n",
       "    </tr>\n",
       "  </thead>\n",
       "  <tbody>\n",
       "    <tr>\n",
       "      <th>Sierra Leone</th>\n",
       "      <td>46.112500</td>\n",
       "    </tr>\n",
       "    <tr>\n",
       "      <th>Central African Republic</th>\n",
       "      <td>48.512500</td>\n",
       "    </tr>\n",
       "    <tr>\n",
       "      <th>Lesotho</th>\n",
       "      <td>48.781250</td>\n",
       "    </tr>\n",
       "    <tr>\n",
       "      <th>Angola</th>\n",
       "      <td>49.018750</td>\n",
       "    </tr>\n",
       "    <tr>\n",
       "      <th>Zimbabwe</th>\n",
       "      <td>49.386667</td>\n",
       "    </tr>\n",
       "  </tbody>\n",
       "</table>\n",
       "</div>"
      ],
      "text/plain": [
       "                          Life_expectancy\n",
       "Country                                  \n",
       "Sierra Leone                    46.112500\n",
       "Central African Republic        48.512500\n",
       "Lesotho                         48.781250\n",
       "Angola                          49.018750\n",
       "Zimbabwe                        49.386667"
      ]
     },
     "execution_count": 21,
     "metadata": {},
     "output_type": "execute_result"
    }
   ],
   "source": [
    "data[[\"Country\",\"Life_expectancy\"]][data[\"Life_expectancy\"]<63].groupby(\"Country\").mean().sort_values(by= \"Life_expectancy\").head(5)"
   ]
  },
  {
   "cell_type": "code",
   "execution_count": 22,
   "id": "c24e81c0",
   "metadata": {
    "execution": {
     "iopub.execute_input": "2024-09-02T08:10:12.201884Z",
     "iopub.status.busy": "2024-09-02T08:10:12.200762Z",
     "iopub.status.idle": "2024-09-02T08:10:12.220708Z",
     "shell.execute_reply": "2024-09-02T08:10:12.219526Z"
    },
    "papermill": {
     "duration": 0.074845,
     "end_time": "2024-09-02T08:10:12.223584",
     "exception": false,
     "start_time": "2024-09-02T08:10:12.148739",
     "status": "completed"
    },
    "tags": []
   },
   "outputs": [
    {
     "data": {
      "text/html": [
       "<div>\n",
       "<style scoped>\n",
       "    .dataframe tbody tr th:only-of-type {\n",
       "        vertical-align: middle;\n",
       "    }\n",
       "\n",
       "    .dataframe tbody tr th {\n",
       "        vertical-align: top;\n",
       "    }\n",
       "\n",
       "    .dataframe thead th {\n",
       "        text-align: right;\n",
       "    }\n",
       "</style>\n",
       "<table border=\"1\" class=\"dataframe\">\n",
       "  <thead>\n",
       "    <tr style=\"text-align: right;\">\n",
       "      <th></th>\n",
       "      <th>Life_expectancy</th>\n",
       "    </tr>\n",
       "    <tr>\n",
       "      <th>Country</th>\n",
       "      <th></th>\n",
       "    </tr>\n",
       "  </thead>\n",
       "  <tbody>\n",
       "    <tr>\n",
       "      <th>Haiti</th>\n",
       "      <td>36.3</td>\n",
       "    </tr>\n",
       "    <tr>\n",
       "      <th>Sierra Leone</th>\n",
       "      <td>39.0</td>\n",
       "    </tr>\n",
       "    <tr>\n",
       "      <th>Malawi</th>\n",
       "      <td>43.1</td>\n",
       "    </tr>\n",
       "    <tr>\n",
       "      <th>Zambia</th>\n",
       "      <td>43.8</td>\n",
       "    </tr>\n",
       "    <tr>\n",
       "      <th>Zimbabwe</th>\n",
       "      <td>44.3</td>\n",
       "    </tr>\n",
       "  </tbody>\n",
       "</table>\n",
       "</div>"
      ],
      "text/plain": [
       "              Life_expectancy\n",
       "Country                      \n",
       "Haiti                    36.3\n",
       "Sierra Leone             39.0\n",
       "Malawi                   43.1\n",
       "Zambia                   43.8\n",
       "Zimbabwe                 44.3"
      ]
     },
     "execution_count": 22,
     "metadata": {},
     "output_type": "execute_result"
    }
   ],
   "source": [
    "data[[\"Country\",\"Life_expectancy\"]][data[\"Life_expectancy\"]<63].groupby(\"Country\").min().sort_values(by= \"Life_expectancy\").head(5)"
   ]
  },
  {
   "cell_type": "markdown",
   "id": "a73f8c5e",
   "metadata": {
    "papermill": {
     "duration": 0.050707,
     "end_time": "2024-09-02T08:10:12.324449",
     "exception": false,
     "start_time": "2024-09-02T08:10:12.273742",
     "status": "completed"
    },
    "tags": []
   },
   "source": [
    " It seems that there is a data entry problem for one of Haiti's Life_expectancy's year. A life expectancy of 36y at 2010 while preceeding year and the future year are 62.5y seems a data entry problem. we can correct it"
   ]
  },
  {
   "cell_type": "code",
   "execution_count": 23,
   "id": "f687c92e",
   "metadata": {
    "execution": {
     "iopub.execute_input": "2024-09-02T08:10:12.426788Z",
     "iopub.status.busy": "2024-09-02T08:10:12.426313Z",
     "iopub.status.idle": "2024-09-02T08:10:12.444867Z",
     "shell.execute_reply": "2024-09-02T08:10:12.443607Z"
    },
    "papermill": {
     "duration": 0.073251,
     "end_time": "2024-09-02T08:10:12.447506",
     "exception": false,
     "start_time": "2024-09-02T08:10:12.374255",
     "status": "completed"
    },
    "tags": []
   },
   "outputs": [
    {
     "data": {
      "text/html": [
       "<div>\n",
       "<style scoped>\n",
       "    .dataframe tbody tr th:only-of-type {\n",
       "        vertical-align: middle;\n",
       "    }\n",
       "\n",
       "    .dataframe tbody tr th {\n",
       "        vertical-align: top;\n",
       "    }\n",
       "\n",
       "    .dataframe thead th {\n",
       "        text-align: right;\n",
       "    }\n",
       "</style>\n",
       "<table border=\"1\" class=\"dataframe\">\n",
       "  <thead>\n",
       "    <tr style=\"text-align: right;\">\n",
       "      <th></th>\n",
       "      <th>Country</th>\n",
       "      <th>Year</th>\n",
       "      <th>Life_expectancy</th>\n",
       "    </tr>\n",
       "  </thead>\n",
       "  <tbody>\n",
       "    <tr>\n",
       "      <th>1122</th>\n",
       "      <td>Haiti</td>\n",
       "      <td>2015</td>\n",
       "      <td>63.5</td>\n",
       "    </tr>\n",
       "    <tr>\n",
       "      <th>1123</th>\n",
       "      <td>Haiti</td>\n",
       "      <td>2014</td>\n",
       "      <td>63.1</td>\n",
       "    </tr>\n",
       "    <tr>\n",
       "      <th>1124</th>\n",
       "      <td>Haiti</td>\n",
       "      <td>2013</td>\n",
       "      <td>62.7</td>\n",
       "    </tr>\n",
       "    <tr>\n",
       "      <th>1125</th>\n",
       "      <td>Haiti</td>\n",
       "      <td>2012</td>\n",
       "      <td>62.3</td>\n",
       "    </tr>\n",
       "    <tr>\n",
       "      <th>1126</th>\n",
       "      <td>Haiti</td>\n",
       "      <td>2011</td>\n",
       "      <td>62.3</td>\n",
       "    </tr>\n",
       "    <tr>\n",
       "      <th>1127</th>\n",
       "      <td>Haiti</td>\n",
       "      <td>2010</td>\n",
       "      <td>36.3</td>\n",
       "    </tr>\n",
       "    <tr>\n",
       "      <th>1128</th>\n",
       "      <td>Haiti</td>\n",
       "      <td>2009</td>\n",
       "      <td>62.5</td>\n",
       "    </tr>\n",
       "    <tr>\n",
       "      <th>1129</th>\n",
       "      <td>Haiti</td>\n",
       "      <td>2008</td>\n",
       "      <td>62.1</td>\n",
       "    </tr>\n",
       "    <tr>\n",
       "      <th>1130</th>\n",
       "      <td>Haiti</td>\n",
       "      <td>2007</td>\n",
       "      <td>61.8</td>\n",
       "    </tr>\n",
       "    <tr>\n",
       "      <th>1131</th>\n",
       "      <td>Haiti</td>\n",
       "      <td>2006</td>\n",
       "      <td>61.1</td>\n",
       "    </tr>\n",
       "    <tr>\n",
       "      <th>1132</th>\n",
       "      <td>Haiti</td>\n",
       "      <td>2005</td>\n",
       "      <td>65.0</td>\n",
       "    </tr>\n",
       "    <tr>\n",
       "      <th>1133</th>\n",
       "      <td>Haiti</td>\n",
       "      <td>2004</td>\n",
       "      <td>58.7</td>\n",
       "    </tr>\n",
       "    <tr>\n",
       "      <th>1134</th>\n",
       "      <td>Haiti</td>\n",
       "      <td>2003</td>\n",
       "      <td>59.7</td>\n",
       "    </tr>\n",
       "    <tr>\n",
       "      <th>1135</th>\n",
       "      <td>Haiti</td>\n",
       "      <td>2002</td>\n",
       "      <td>59.3</td>\n",
       "    </tr>\n",
       "    <tr>\n",
       "      <th>1136</th>\n",
       "      <td>Haiti</td>\n",
       "      <td>2001</td>\n",
       "      <td>58.9</td>\n",
       "    </tr>\n",
       "    <tr>\n",
       "      <th>1137</th>\n",
       "      <td>Haiti</td>\n",
       "      <td>2000</td>\n",
       "      <td>58.6</td>\n",
       "    </tr>\n",
       "  </tbody>\n",
       "</table>\n",
       "</div>"
      ],
      "text/plain": [
       "     Country  Year  Life_expectancy\n",
       "1122   Haiti  2015             63.5\n",
       "1123   Haiti  2014             63.1\n",
       "1124   Haiti  2013             62.7\n",
       "1125   Haiti  2012             62.3\n",
       "1126   Haiti  2011             62.3\n",
       "1127   Haiti  2010             36.3\n",
       "1128   Haiti  2009             62.5\n",
       "1129   Haiti  2008             62.1\n",
       "1130   Haiti  2007             61.8\n",
       "1131   Haiti  2006             61.1\n",
       "1132   Haiti  2005             65.0\n",
       "1133   Haiti  2004             58.7\n",
       "1134   Haiti  2003             59.7\n",
       "1135   Haiti  2002             59.3\n",
       "1136   Haiti  2001             58.9\n",
       "1137   Haiti  2000             58.6"
      ]
     },
     "execution_count": 23,
     "metadata": {},
     "output_type": "execute_result"
    }
   ],
   "source": [
    "data[[\"Country\",\"Year\",\"Life_expectancy\"]][data[\"Country\"] == \"Haiti\"]"
   ]
  },
  {
   "cell_type": "code",
   "execution_count": 24,
   "id": "5b0ddb6f",
   "metadata": {
    "execution": {
     "iopub.execute_input": "2024-09-02T08:10:12.551498Z",
     "iopub.status.busy": "2024-09-02T08:10:12.551030Z",
     "iopub.status.idle": "2024-09-02T08:10:12.557366Z",
     "shell.execute_reply": "2024-09-02T08:10:12.556156Z"
    },
    "papermill": {
     "duration": 0.060844,
     "end_time": "2024-09-02T08:10:12.559736",
     "exception": false,
     "start_time": "2024-09-02T08:10:12.498892",
     "status": "completed"
    },
    "tags": []
   },
   "outputs": [],
   "source": [
    "data.loc[1127, 'Life_expectancy'] = 63.3"
   ]
  },
  {
   "cell_type": "markdown",
   "id": "67a1dd43",
   "metadata": {
    "papermill": {
     "duration": 0.049768,
     "end_time": "2024-09-02T08:10:12.660730",
     "exception": false,
     "start_time": "2024-09-02T08:10:12.610962",
     "status": "completed"
    },
    "tags": []
   },
   "source": [
    "The life expectancy of 39 y for Sierra Leone seems to be consistent with other years for this country. So we dont change it"
   ]
  },
  {
   "cell_type": "code",
   "execution_count": 25,
   "id": "86f49af9",
   "metadata": {
    "execution": {
     "iopub.execute_input": "2024-09-02T08:10:12.765890Z",
     "iopub.status.busy": "2024-09-02T08:10:12.765410Z",
     "iopub.status.idle": "2024-09-02T08:10:12.784016Z",
     "shell.execute_reply": "2024-09-02T08:10:12.782847Z"
    },
    "papermill": {
     "duration": 0.075328,
     "end_time": "2024-09-02T08:10:12.786541",
     "exception": false,
     "start_time": "2024-09-02T08:10:12.711213",
     "status": "completed"
    },
    "tags": []
   },
   "outputs": [
    {
     "data": {
      "text/html": [
       "<div>\n",
       "<style scoped>\n",
       "    .dataframe tbody tr th:only-of-type {\n",
       "        vertical-align: middle;\n",
       "    }\n",
       "\n",
       "    .dataframe tbody tr th {\n",
       "        vertical-align: top;\n",
       "    }\n",
       "\n",
       "    .dataframe thead th {\n",
       "        text-align: right;\n",
       "    }\n",
       "</style>\n",
       "<table border=\"1\" class=\"dataframe\">\n",
       "  <thead>\n",
       "    <tr style=\"text-align: right;\">\n",
       "      <th></th>\n",
       "      <th>Country</th>\n",
       "      <th>Year</th>\n",
       "      <th>Life_expectancy</th>\n",
       "    </tr>\n",
       "  </thead>\n",
       "  <tbody>\n",
       "    <tr>\n",
       "      <th>2297</th>\n",
       "      <td>Sierra Leone</td>\n",
       "      <td>2015</td>\n",
       "      <td>51.0</td>\n",
       "    </tr>\n",
       "    <tr>\n",
       "      <th>2298</th>\n",
       "      <td>Sierra Leone</td>\n",
       "      <td>2014</td>\n",
       "      <td>48.1</td>\n",
       "    </tr>\n",
       "    <tr>\n",
       "      <th>2299</th>\n",
       "      <td>Sierra Leone</td>\n",
       "      <td>2013</td>\n",
       "      <td>54.0</td>\n",
       "    </tr>\n",
       "    <tr>\n",
       "      <th>2300</th>\n",
       "      <td>Sierra Leone</td>\n",
       "      <td>2012</td>\n",
       "      <td>49.7</td>\n",
       "    </tr>\n",
       "    <tr>\n",
       "      <th>2301</th>\n",
       "      <td>Sierra Leone</td>\n",
       "      <td>2011</td>\n",
       "      <td>48.9</td>\n",
       "    </tr>\n",
       "    <tr>\n",
       "      <th>2302</th>\n",
       "      <td>Sierra Leone</td>\n",
       "      <td>2010</td>\n",
       "      <td>48.1</td>\n",
       "    </tr>\n",
       "    <tr>\n",
       "      <th>2303</th>\n",
       "      <td>Sierra Leone</td>\n",
       "      <td>2009</td>\n",
       "      <td>47.1</td>\n",
       "    </tr>\n",
       "    <tr>\n",
       "      <th>2304</th>\n",
       "      <td>Sierra Leone</td>\n",
       "      <td>2008</td>\n",
       "      <td>46.2</td>\n",
       "    </tr>\n",
       "    <tr>\n",
       "      <th>2305</th>\n",
       "      <td>Sierra Leone</td>\n",
       "      <td>2007</td>\n",
       "      <td>45.3</td>\n",
       "    </tr>\n",
       "    <tr>\n",
       "      <th>2306</th>\n",
       "      <td>Sierra Leone</td>\n",
       "      <td>2006</td>\n",
       "      <td>44.3</td>\n",
       "    </tr>\n",
       "    <tr>\n",
       "      <th>2307</th>\n",
       "      <td>Sierra Leone</td>\n",
       "      <td>2005</td>\n",
       "      <td>43.3</td>\n",
       "    </tr>\n",
       "    <tr>\n",
       "      <th>2308</th>\n",
       "      <td>Sierra Leone</td>\n",
       "      <td>2004</td>\n",
       "      <td>42.3</td>\n",
       "    </tr>\n",
       "    <tr>\n",
       "      <th>2309</th>\n",
       "      <td>Sierra Leone</td>\n",
       "      <td>2003</td>\n",
       "      <td>41.5</td>\n",
       "    </tr>\n",
       "    <tr>\n",
       "      <th>2310</th>\n",
       "      <td>Sierra Leone</td>\n",
       "      <td>2002</td>\n",
       "      <td>48.0</td>\n",
       "    </tr>\n",
       "    <tr>\n",
       "      <th>2311</th>\n",
       "      <td>Sierra Leone</td>\n",
       "      <td>2001</td>\n",
       "      <td>41.0</td>\n",
       "    </tr>\n",
       "    <tr>\n",
       "      <th>2312</th>\n",
       "      <td>Sierra Leone</td>\n",
       "      <td>2000</td>\n",
       "      <td>39.0</td>\n",
       "    </tr>\n",
       "  </tbody>\n",
       "</table>\n",
       "</div>"
      ],
      "text/plain": [
       "           Country  Year  Life_expectancy\n",
       "2297  Sierra Leone  2015             51.0\n",
       "2298  Sierra Leone  2014             48.1\n",
       "2299  Sierra Leone  2013             54.0\n",
       "2300  Sierra Leone  2012             49.7\n",
       "2301  Sierra Leone  2011             48.9\n",
       "2302  Sierra Leone  2010             48.1\n",
       "2303  Sierra Leone  2009             47.1\n",
       "2304  Sierra Leone  2008             46.2\n",
       "2305  Sierra Leone  2007             45.3\n",
       "2306  Sierra Leone  2006             44.3\n",
       "2307  Sierra Leone  2005             43.3\n",
       "2308  Sierra Leone  2004             42.3\n",
       "2309  Sierra Leone  2003             41.5\n",
       "2310  Sierra Leone  2002             48.0\n",
       "2311  Sierra Leone  2001             41.0\n",
       "2312  Sierra Leone  2000             39.0"
      ]
     },
     "execution_count": 25,
     "metadata": {},
     "output_type": "execute_result"
    }
   ],
   "source": [
    "data[[\"Country\",\"Year\",\"Life_expectancy\"]][data[\"Country\"] == \"Sierra Leone\"]"
   ]
  },
  {
   "cell_type": "code",
   "execution_count": 26,
   "id": "f45cf691",
   "metadata": {
    "execution": {
     "iopub.execute_input": "2024-09-02T08:10:12.890135Z",
     "iopub.status.busy": "2024-09-02T08:10:12.889054Z",
     "iopub.status.idle": "2024-09-02T08:10:13.721332Z",
     "shell.execute_reply": "2024-09-02T08:10:13.719907Z"
    },
    "papermill": {
     "duration": 0.886987,
     "end_time": "2024-09-02T08:10:13.724138",
     "exception": false,
     "start_time": "2024-09-02T08:10:12.837151",
     "status": "completed"
    },
    "tags": []
   },
   "outputs": [
    {
     "data": {
      "image/png": "[encoded data removed]",
      "text/plain": [
       "<Figure size 700x600 with 2 Axes>"
      ]
     },
     "metadata": {},
     "output_type": "display_data"
    }
   ],
   "source": [
    "fig, ax = plt.subplots(2,1, figsize=(7, 6))\n",
    "ax[0].hist(data[\"Life_expectancy\"], bins = 100)\n",
    "ax[0].set_xlabel(\"Life_expectancy\")\n",
    "ax[0].set_ylabel(\"Frequency\")\n",
    "ax[1].hist(data[\"Life_expectancy\"][data[\"Life_expectancy\"]<60], bins = 100)\n",
    "ax[1].set_xlabel(\"Life_expectancy < 60 years\")\n",
    "ax[1].set_ylabel(\"Frequency\")\n",
    "# Adjust the spacing between the subplots\n",
    "plt.subplots_adjust(hspace=0.5)  # Increase this value for more space\n",
    "plt.show()"
   ]
  },
  {
   "cell_type": "markdown",
   "id": "15682b98",
   "metadata": {
    "papermill": {
     "duration": 0.065086,
     "end_time": "2024-09-02T08:10:13.844087",
     "exception": false,
     "start_time": "2024-09-02T08:10:13.779001",
     "status": "completed"
    },
    "tags": []
   },
   "source": [
    "### Population"
   ]
  },
  {
   "cell_type": "code",
   "execution_count": 27,
   "id": "a4c142f3",
   "metadata": {
    "execution": {
     "iopub.execute_input": "2024-09-02T08:10:13.956908Z",
     "iopub.status.busy": "2024-09-02T08:10:13.956439Z",
     "iopub.status.idle": "2024-09-02T08:10:14.948304Z",
     "shell.execute_reply": "2024-09-02T08:10:14.947167Z"
    },
    "papermill": {
     "duration": 1.047747,
     "end_time": "2024-09-02T08:10:14.950737",
     "exception": false,
     "start_time": "2024-09-02T08:10:13.902990",
     "status": "completed"
    },
    "tags": []
   },
   "outputs": [
    {
     "data": {
      "image/png": "[encoded data removed]",
      "text/plain": [
       "<Figure size 700x600 with 3 Axes>"
      ]
     },
     "metadata": {},
     "output_type": "display_data"
    }
   ],
   "source": [
    "fig, ax = plt.subplots(3,1, figsize=(7, 6))\n",
    "ax[0].hist(data[\"Population\"], bins = 100)\n",
    "ax[0].set_xlabel(\"Population\")\n",
    "ax[0].set_ylabel(\"Frequency\")\n",
    "ax[1].hist(data[\"Population\"][data[\"Population\"]<20000000], bins = 100)\n",
    "ax[1].set_xlabel(\"Population less than 20 Million\")\n",
    "ax[1].set_ylabel(\"Frequency\")\n",
    "ax[2].hist(data[\"Population\"][data[\"Population\"]<10000], bins = 100)\n",
    "ax[2].set_xlabel(\"Population less than 10k\")\n",
    "ax[2].set_ylabel(\"Frequency\")\n",
    "# Adjust the spacing between the subplots\n",
    "plt.subplots_adjust(hspace=0.5)  # Increase this value for more space\n",
    "plt.show()"
   ]
  },
  {
   "cell_type": "markdown",
   "id": "44f5a520",
   "metadata": {
    "papermill": {
     "duration": 0.052017,
     "end_time": "2024-09-02T08:10:15.054787",
     "exception": false,
     "start_time": "2024-09-02T08:10:15.002770",
     "status": "completed"
    },
    "tags": []
   },
   "source": [
    "> We observe that Population data is highly skewed, but that's not all! With it a bit of diggng, we find out that population data are not of good quality! For exmaple, we can see that the minimum population for a country is only 34 which is wrong (the least populated country is Vatican with a population of at least 1000)"
   ]
  },
  {
   "cell_type": "code",
   "execution_count": 28,
   "id": "e83e3488",
   "metadata": {
    "execution": {
     "iopub.execute_input": "2024-09-02T08:10:15.161827Z",
     "iopub.status.busy": "2024-09-02T08:10:15.161351Z",
     "iopub.status.idle": "2024-09-02T08:10:15.173273Z",
     "shell.execute_reply": "2024-09-02T08:10:15.172139Z"
    },
    "papermill": {
     "duration": 0.068475,
     "end_time": "2024-09-02T08:10:15.175886",
     "exception": false,
     "start_time": "2024-09-02T08:10:15.107411",
     "status": "completed"
    },
    "tags": []
   },
   "outputs": [
    {
     "data": {
      "text/plain": [
       "34.0"
      ]
     },
     "execution_count": 28,
     "metadata": {},
     "output_type": "execute_result"
    }
   ],
   "source": [
    "data[\"Population\"].describe()['min']"
   ]
  },
  {
   "cell_type": "markdown",
   "id": "26483403",
   "metadata": {
    "papermill": {
     "duration": 0.052044,
     "end_time": "2024-09-02T08:10:15.281711",
     "exception": false,
     "start_time": "2024-09-02T08:10:15.229667",
     "status": "completed"
    },
    "tags": []
   },
   "source": [
    "> But there is more! As another example, we can check the population of Afghanistan and observe the discrepancy in the data"
   ]
  },
  {
   "cell_type": "code",
   "execution_count": 29,
   "id": "edd51ce3",
   "metadata": {
    "execution": {
     "iopub.execute_input": "2024-09-02T08:10:15.388601Z",
     "iopub.status.busy": "2024-09-02T08:10:15.388131Z",
     "iopub.status.idle": "2024-09-02T08:10:15.404975Z",
     "shell.execute_reply": "2024-09-02T08:10:15.403841Z"
    },
    "papermill": {
     "duration": 0.073468,
     "end_time": "2024-09-02T08:10:15.407541",
     "exception": false,
     "start_time": "2024-09-02T08:10:15.334073",
     "status": "completed"
    },
    "tags": []
   },
   "outputs": [
    {
     "data": {
      "text/html": [
       "<div>\n",
       "<style scoped>\n",
       "    .dataframe tbody tr th:only-of-type {\n",
       "        vertical-align: middle;\n",
       "    }\n",
       "\n",
       "    .dataframe tbody tr th {\n",
       "        vertical-align: top;\n",
       "    }\n",
       "\n",
       "    .dataframe thead th {\n",
       "        text-align: right;\n",
       "    }\n",
       "</style>\n",
       "<table border=\"1\" class=\"dataframe\">\n",
       "  <thead>\n",
       "    <tr style=\"text-align: right;\">\n",
       "      <th></th>\n",
       "      <th>Year</th>\n",
       "      <th>Population</th>\n",
       "    </tr>\n",
       "  </thead>\n",
       "  <tbody>\n",
       "    <tr>\n",
       "      <th>0</th>\n",
       "      <td>2015</td>\n",
       "      <td>33736494.0</td>\n",
       "    </tr>\n",
       "    <tr>\n",
       "      <th>1</th>\n",
       "      <td>2014</td>\n",
       "      <td>327582.0</td>\n",
       "    </tr>\n",
       "    <tr>\n",
       "      <th>2</th>\n",
       "      <td>2013</td>\n",
       "      <td>31731688.0</td>\n",
       "    </tr>\n",
       "    <tr>\n",
       "      <th>3</th>\n",
       "      <td>2012</td>\n",
       "      <td>3696958.0</td>\n",
       "    </tr>\n",
       "    <tr>\n",
       "      <th>4</th>\n",
       "      <td>2011</td>\n",
       "      <td>2978599.0</td>\n",
       "    </tr>\n",
       "    <tr>\n",
       "      <th>5</th>\n",
       "      <td>2010</td>\n",
       "      <td>2883167.0</td>\n",
       "    </tr>\n",
       "    <tr>\n",
       "      <th>6</th>\n",
       "      <td>2009</td>\n",
       "      <td>284331.0</td>\n",
       "    </tr>\n",
       "    <tr>\n",
       "      <th>7</th>\n",
       "      <td>2008</td>\n",
       "      <td>2729431.0</td>\n",
       "    </tr>\n",
       "    <tr>\n",
       "      <th>8</th>\n",
       "      <td>2007</td>\n",
       "      <td>26616792.0</td>\n",
       "    </tr>\n",
       "    <tr>\n",
       "      <th>9</th>\n",
       "      <td>2006</td>\n",
       "      <td>2589345.0</td>\n",
       "    </tr>\n",
       "    <tr>\n",
       "      <th>10</th>\n",
       "      <td>2005</td>\n",
       "      <td>257798.0</td>\n",
       "    </tr>\n",
       "    <tr>\n",
       "      <th>11</th>\n",
       "      <td>2004</td>\n",
       "      <td>24118979.0</td>\n",
       "    </tr>\n",
       "    <tr>\n",
       "      <th>12</th>\n",
       "      <td>2003</td>\n",
       "      <td>2364851.0</td>\n",
       "    </tr>\n",
       "    <tr>\n",
       "      <th>13</th>\n",
       "      <td>2002</td>\n",
       "      <td>21979923.0</td>\n",
       "    </tr>\n",
       "    <tr>\n",
       "      <th>14</th>\n",
       "      <td>2001</td>\n",
       "      <td>2966463.0</td>\n",
       "    </tr>\n",
       "    <tr>\n",
       "      <th>15</th>\n",
       "      <td>2000</td>\n",
       "      <td>293756.0</td>\n",
       "    </tr>\n",
       "  </tbody>\n",
       "</table>\n",
       "</div>"
      ],
      "text/plain": [
       "    Year  Population\n",
       "0   2015  33736494.0\n",
       "1   2014    327582.0\n",
       "2   2013  31731688.0\n",
       "3   2012   3696958.0\n",
       "4   2011   2978599.0\n",
       "5   2010   2883167.0\n",
       "6   2009    284331.0\n",
       "7   2008   2729431.0\n",
       "8   2007  26616792.0\n",
       "9   2006   2589345.0\n",
       "10  2005    257798.0\n",
       "11  2004  24118979.0\n",
       "12  2003   2364851.0\n",
       "13  2002  21979923.0\n",
       "14  2001   2966463.0\n",
       "15  2000    293756.0"
      ]
     },
     "execution_count": 29,
     "metadata": {},
     "output_type": "execute_result"
    }
   ],
   "source": [
    "data[[\"Year\",\"Population\"]][data[\"Country\"]==\"Afghanistan\"]"
   ]
  },
  {
   "cell_type": "markdown",
   "id": "1766f1d8",
   "metadata": {
    "papermill": {
     "duration": 0.05262,
     "end_time": "2024-09-02T08:10:15.512567",
     "exception": false,
     "start_time": "2024-09-02T08:10:15.459947",
     "status": "completed"
    },
    "tags": []
   },
   "source": [
    "The same problem has occured for Algeria, Thailand and many other countries."
   ]
  },
  {
   "cell_type": "markdown",
   "id": "8c4fdf25",
   "metadata": {
    "papermill": {
     "duration": 0.053784,
     "end_time": "2024-09-02T08:10:15.618549",
     "exception": false,
     "start_time": "2024-09-02T08:10:15.564765",
     "status": "completed"
    },
    "tags": []
   },
   "source": [
    "> One might think that there if we take the maximum value of population for each country, we can fix them problem, but if we have a look the countries with max_population_value < 100k we see Israel, Sri Lanka and Iceland. So we can argue that the population data are wrong!"
   ]
  },
  {
   "cell_type": "code",
   "execution_count": 30,
   "id": "4b7e6cff",
   "metadata": {
    "execution": {
     "iopub.execute_input": "2024-09-02T08:10:15.728027Z",
     "iopub.status.busy": "2024-09-02T08:10:15.727452Z",
     "iopub.status.idle": "2024-09-02T08:10:15.746189Z",
     "shell.execute_reply": "2024-09-02T08:10:15.744590Z"
    },
    "papermill": {
     "duration": 0.07731,
     "end_time": "2024-09-02T08:10:15.748858",
     "exception": false,
     "start_time": "2024-09-02T08:10:15.671548",
     "status": "completed"
    },
    "tags": []
   },
   "outputs": [
    {
     "data": {
      "text/html": [
       "<div>\n",
       "<style scoped>\n",
       "    .dataframe tbody tr th:only-of-type {\n",
       "        vertical-align: middle;\n",
       "    }\n",
       "\n",
       "    .dataframe tbody tr th {\n",
       "        vertical-align: top;\n",
       "    }\n",
       "\n",
       "    .dataframe thead th {\n",
       "        text-align: right;\n",
       "    }\n",
       "</style>\n",
       "<table border=\"1\" class=\"dataframe\">\n",
       "  <thead>\n",
       "    <tr style=\"text-align: right;\">\n",
       "      <th></th>\n",
       "      <th>Population</th>\n",
       "    </tr>\n",
       "    <tr>\n",
       "      <th>Country</th>\n",
       "      <th></th>\n",
       "    </tr>\n",
       "  </thead>\n",
       "  <tbody>\n",
       "    <tr>\n",
       "      <th>Georgia</th>\n",
       "      <td>44183.0</td>\n",
       "    </tr>\n",
       "    <tr>\n",
       "      <th>Israel</th>\n",
       "      <td>82157.0</td>\n",
       "    </tr>\n",
       "    <tr>\n",
       "      <th>Kiribati</th>\n",
       "      <td>96311.0</td>\n",
       "    </tr>\n",
       "    <tr>\n",
       "      <th>Maldives</th>\n",
       "      <td>49163.0</td>\n",
       "    </tr>\n",
       "    <tr>\n",
       "      <th>Palau</th>\n",
       "      <td>292.0</td>\n",
       "    </tr>\n",
       "    <tr>\n",
       "      <th>Seychelles</th>\n",
       "      <td>93419.0</td>\n",
       "    </tr>\n",
       "    <tr>\n",
       "      <th>Sri Lanka</th>\n",
       "      <td>19968.0</td>\n",
       "    </tr>\n",
       "    <tr>\n",
       "      <th>Tonga</th>\n",
       "      <td>99789.0</td>\n",
       "    </tr>\n",
       "    <tr>\n",
       "      <th>Tuvalu</th>\n",
       "      <td>1819.0</td>\n",
       "    </tr>\n",
       "  </tbody>\n",
       "</table>\n",
       "</div>"
      ],
      "text/plain": [
       "            Population\n",
       "Country               \n",
       "Georgia        44183.0\n",
       "Israel         82157.0\n",
       "Kiribati       96311.0\n",
       "Maldives       49163.0\n",
       "Palau            292.0\n",
       "Seychelles     93419.0\n",
       "Sri Lanka      19968.0\n",
       "Tonga          99789.0\n",
       "Tuvalu          1819.0"
      ]
     },
     "execution_count": 30,
     "metadata": {},
     "output_type": "execute_result"
    }
   ],
   "source": [
    "data_population_max = data[[\"Country\",\"Population\"]].groupby(\"Country\").max()\n",
    "data_population_max[data_population_max[\"Population\"]<100000]"
   ]
  },
  {
   "cell_type": "markdown",
   "id": "09acd04c",
   "metadata": {
    "papermill": {
     "duration": 0.05281,
     "end_time": "2024-09-02T08:10:15.856096",
     "exception": false,
     "start_time": "2024-09-02T08:10:15.803286",
     "status": "completed"
    },
    "tags": []
   },
   "source": [
    "> It seems that population data is of very poor quality. Maybe it is bettter to exclude them from our analysis."
   ]
  },
  {
   "cell_type": "markdown",
   "id": "b3ea5f92",
   "metadata": {
    "papermill": {
     "duration": 0.053287,
     "end_time": "2024-09-02T08:10:15.962511",
     "exception": false,
     "start_time": "2024-09-02T08:10:15.909224",
     "status": "completed"
    },
    "tags": []
   },
   "source": [
    "### Under_5_deaths_cases"
   ]
  },
  {
   "cell_type": "markdown",
   "id": "bf100d66",
   "metadata": {
    "papermill": {
     "duration": 0.052403,
     "end_time": "2024-09-02T08:10:16.068051",
     "exception": false,
     "start_time": "2024-09-02T08:10:16.015648",
     "status": "completed"
    },
    "tags": []
   },
   "source": [
    "'Under_5_deaths_cases' by definition is number of death per 1000 under 5yo child and the statistics in below and plots \n",
    "confirm that most of the data follow the rule"
   ]
  },
  {
   "cell_type": "code",
   "execution_count": 31,
   "id": "5f7a9a0e",
   "metadata": {
    "execution": {
     "iopub.execute_input": "2024-09-02T08:10:16.175095Z",
     "iopub.status.busy": "2024-09-02T08:10:16.174634Z",
     "iopub.status.idle": "2024-09-02T08:10:16.187023Z",
     "shell.execute_reply": "2024-09-02T08:10:16.185898Z"
    },
    "papermill": {
     "duration": 0.068861,
     "end_time": "2024-09-02T08:10:16.189434",
     "exception": false,
     "start_time": "2024-09-02T08:10:16.120573",
     "status": "completed"
    },
    "tags": []
   },
   "outputs": [
    {
     "data": {
      "text/plain": [
       "count    2938.000000\n",
       "mean       42.035739\n",
       "std       160.445548\n",
       "min         0.000000\n",
       "25%         0.000000\n",
       "50%         4.000000\n",
       "75%        28.000000\n",
       "max      2500.000000\n",
       "Name: Under_5_deaths_cases, dtype: float64"
      ]
     },
     "execution_count": 31,
     "metadata": {},
     "output_type": "execute_result"
    }
   ],
   "source": [
    "data[\"Under_5_deaths_cases\"].describe()"
   ]
  },
  {
   "cell_type": "markdown",
   "id": "0879982a",
   "metadata": {
    "papermill": {
     "duration": 0.052538,
     "end_time": "2024-09-02T08:10:16.295573",
     "exception": false,
     "start_time": "2024-09-02T08:10:16.243035",
     "status": "completed"
    },
    "tags": []
   },
   "source": [
    "> It seems that only India has some cases above 1000. We can replace them we maximum value of 1000"
   ]
  },
  {
   "cell_type": "code",
   "execution_count": 32,
   "id": "b9fa3653",
   "metadata": {
    "execution": {
     "iopub.execute_input": "2024-09-02T08:10:16.403702Z",
     "iopub.status.busy": "2024-09-02T08:10:16.402649Z",
     "iopub.status.idle": "2024-09-02T08:10:16.418700Z",
     "shell.execute_reply": "2024-09-02T08:10:16.417466Z"
    },
    "papermill": {
     "duration": 0.072651,
     "end_time": "2024-09-02T08:10:16.421138",
     "exception": false,
     "start_time": "2024-09-02T08:10:16.348487",
     "status": "completed"
    },
    "tags": []
   },
   "outputs": [
    {
     "data": {
      "text/html": [
       "<div>\n",
       "<style scoped>\n",
       "    .dataframe tbody tr th:only-of-type {\n",
       "        vertical-align: middle;\n",
       "    }\n",
       "\n",
       "    .dataframe tbody tr th {\n",
       "        vertical-align: top;\n",
       "    }\n",
       "\n",
       "    .dataframe thead th {\n",
       "        text-align: right;\n",
       "    }\n",
       "</style>\n",
       "<table border=\"1\" class=\"dataframe\">\n",
       "  <thead>\n",
       "    <tr style=\"text-align: right;\">\n",
       "      <th></th>\n",
       "      <th>Country</th>\n",
       "      <th>Year</th>\n",
       "      <th>Under_5_deaths_cases</th>\n",
       "    </tr>\n",
       "  </thead>\n",
       "  <tbody>\n",
       "    <tr>\n",
       "      <th>1186</th>\n",
       "      <td>India</td>\n",
       "      <td>2015</td>\n",
       "      <td>1100</td>\n",
       "    </tr>\n",
       "    <tr>\n",
       "      <th>1187</th>\n",
       "      <td>India</td>\n",
       "      <td>2014</td>\n",
       "      <td>1200</td>\n",
       "    </tr>\n",
       "    <tr>\n",
       "      <th>1188</th>\n",
       "      <td>India</td>\n",
       "      <td>2013</td>\n",
       "      <td>1300</td>\n",
       "    </tr>\n",
       "    <tr>\n",
       "      <th>1189</th>\n",
       "      <td>India</td>\n",
       "      <td>2012</td>\n",
       "      <td>1400</td>\n",
       "    </tr>\n",
       "    <tr>\n",
       "      <th>1190</th>\n",
       "      <td>India</td>\n",
       "      <td>2011</td>\n",
       "      <td>1500</td>\n",
       "    </tr>\n",
       "    <tr>\n",
       "      <th>1191</th>\n",
       "      <td>India</td>\n",
       "      <td>2010</td>\n",
       "      <td>1600</td>\n",
       "    </tr>\n",
       "    <tr>\n",
       "      <th>1192</th>\n",
       "      <td>India</td>\n",
       "      <td>2009</td>\n",
       "      <td>1700</td>\n",
       "    </tr>\n",
       "    <tr>\n",
       "      <th>1193</th>\n",
       "      <td>India</td>\n",
       "      <td>2008</td>\n",
       "      <td>1800</td>\n",
       "    </tr>\n",
       "    <tr>\n",
       "      <th>1194</th>\n",
       "      <td>India</td>\n",
       "      <td>2007</td>\n",
       "      <td>1900</td>\n",
       "    </tr>\n",
       "    <tr>\n",
       "      <th>1195</th>\n",
       "      <td>India</td>\n",
       "      <td>2006</td>\n",
       "      <td>2000</td>\n",
       "    </tr>\n",
       "    <tr>\n",
       "      <th>1196</th>\n",
       "      <td>India</td>\n",
       "      <td>2005</td>\n",
       "      <td>2000</td>\n",
       "    </tr>\n",
       "    <tr>\n",
       "      <th>1197</th>\n",
       "      <td>India</td>\n",
       "      <td>2004</td>\n",
       "      <td>2100</td>\n",
       "    </tr>\n",
       "    <tr>\n",
       "      <th>1198</th>\n",
       "      <td>India</td>\n",
       "      <td>2003</td>\n",
       "      <td>2200</td>\n",
       "    </tr>\n",
       "    <tr>\n",
       "      <th>1199</th>\n",
       "      <td>India</td>\n",
       "      <td>2002</td>\n",
       "      <td>2300</td>\n",
       "    </tr>\n",
       "    <tr>\n",
       "      <th>1200</th>\n",
       "      <td>India</td>\n",
       "      <td>2001</td>\n",
       "      <td>2400</td>\n",
       "    </tr>\n",
       "    <tr>\n",
       "      <th>1201</th>\n",
       "      <td>India</td>\n",
       "      <td>2000</td>\n",
       "      <td>2500</td>\n",
       "    </tr>\n",
       "  </tbody>\n",
       "</table>\n",
       "</div>"
      ],
      "text/plain": [
       "     Country  Year  Under_5_deaths_cases\n",
       "1186   India  2015                  1100\n",
       "1187   India  2014                  1200\n",
       "1188   India  2013                  1300\n",
       "1189   India  2012                  1400\n",
       "1190   India  2011                  1500\n",
       "1191   India  2010                  1600\n",
       "1192   India  2009                  1700\n",
       "1193   India  2008                  1800\n",
       "1194   India  2007                  1900\n",
       "1195   India  2006                  2000\n",
       "1196   India  2005                  2000\n",
       "1197   India  2004                  2100\n",
       "1198   India  2003                  2200\n",
       "1199   India  2002                  2300\n",
       "1200   India  2001                  2400\n",
       "1201   India  2000                  2500"
      ]
     },
     "execution_count": 32,
     "metadata": {},
     "output_type": "execute_result"
    }
   ],
   "source": [
    "data[[\"Country\", \"Year\",\"Under_5_deaths_cases\"]][data[\"Under_5_deaths_cases\"]>1000]"
   ]
  },
  {
   "cell_type": "markdown",
   "id": "048b7b8f",
   "metadata": {
    "papermill": {
     "duration": 0.053066,
     "end_time": "2024-09-02T08:10:16.527968",
     "exception": false,
     "start_time": "2024-09-02T08:10:16.474902",
     "status": "completed"
    },
    "tags": []
   },
   "source": [
    "### Measles_Cases"
   ]
  },
  {
   "cell_type": "code",
   "execution_count": 33,
   "id": "6b2585cd",
   "metadata": {
    "execution": {
     "iopub.execute_input": "2024-09-02T08:10:16.642053Z",
     "iopub.status.busy": "2024-09-02T08:10:16.640785Z",
     "iopub.status.idle": "2024-09-02T08:10:16.654997Z",
     "shell.execute_reply": "2024-09-02T08:10:16.653703Z"
    },
    "papermill": {
     "duration": 0.076256,
     "end_time": "2024-09-02T08:10:16.657786",
     "exception": false,
     "start_time": "2024-09-02T08:10:16.581530",
     "status": "completed"
    },
    "tags": []
   },
   "outputs": [
    {
     "data": {
      "text/plain": [
       "count      2938.000000\n",
       "mean       2419.592240\n",
       "std       11467.272489\n",
       "min           0.000000\n",
       "25%           0.000000\n",
       "50%          17.000000\n",
       "75%         360.250000\n",
       "max      212183.000000\n",
       "Name: Measles_cases, dtype: float64"
      ]
     },
     "execution_count": 33,
     "metadata": {},
     "output_type": "execute_result"
    }
   ],
   "source": [
    "data[\"Measles_cases\"].describe()"
   ]
  },
  {
   "cell_type": "code",
   "execution_count": 34,
   "id": "db730990",
   "metadata": {
    "execution": {
     "iopub.execute_input": "2024-09-02T08:10:16.768415Z",
     "iopub.status.busy": "2024-09-02T08:10:16.767953Z",
     "iopub.status.idle": "2024-09-02T08:10:16.786702Z",
     "shell.execute_reply": "2024-09-02T08:10:16.785502Z"
    },
    "papermill": {
     "duration": 0.078387,
     "end_time": "2024-09-02T08:10:16.789434",
     "exception": false,
     "start_time": "2024-09-02T08:10:16.711047",
     "status": "completed"
    },
    "tags": []
   },
   "outputs": [
    {
     "data": {
      "text/html": [
       "<div>\n",
       "<style scoped>\n",
       "    .dataframe tbody tr th:only-of-type {\n",
       "        vertical-align: middle;\n",
       "    }\n",
       "\n",
       "    .dataframe tbody tr th {\n",
       "        vertical-align: top;\n",
       "    }\n",
       "\n",
       "    .dataframe thead th {\n",
       "        text-align: right;\n",
       "    }\n",
       "</style>\n",
       "<table border=\"1\" class=\"dataframe\">\n",
       "  <thead>\n",
       "    <tr style=\"text-align: right;\">\n",
       "      <th></th>\n",
       "      <th>Country</th>\n",
       "      <th>Year</th>\n",
       "      <th>Measles_cases</th>\n",
       "    </tr>\n",
       "  </thead>\n",
       "  <tbody>\n",
       "    <tr>\n",
       "      <th>0</th>\n",
       "      <td>Afghanistan</td>\n",
       "      <td>2015</td>\n",
       "      <td>1154</td>\n",
       "    </tr>\n",
       "    <tr>\n",
       "      <th>3</th>\n",
       "      <td>Afghanistan</td>\n",
       "      <td>2012</td>\n",
       "      <td>2787</td>\n",
       "    </tr>\n",
       "    <tr>\n",
       "      <th>4</th>\n",
       "      <td>Afghanistan</td>\n",
       "      <td>2011</td>\n",
       "      <td>3013</td>\n",
       "    </tr>\n",
       "    <tr>\n",
       "      <th>5</th>\n",
       "      <td>Afghanistan</td>\n",
       "      <td>2010</td>\n",
       "      <td>1989</td>\n",
       "    </tr>\n",
       "    <tr>\n",
       "      <th>6</th>\n",
       "      <td>Afghanistan</td>\n",
       "      <td>2009</td>\n",
       "      <td>2861</td>\n",
       "    </tr>\n",
       "    <tr>\n",
       "      <th>...</th>\n",
       "      <td>...</td>\n",
       "      <td>...</td>\n",
       "      <td>...</td>\n",
       "    </tr>\n",
       "    <tr>\n",
       "      <th>2919</th>\n",
       "      <td>Zambia</td>\n",
       "      <td>2002</td>\n",
       "      <td>25036</td>\n",
       "    </tr>\n",
       "    <tr>\n",
       "      <th>2920</th>\n",
       "      <td>Zambia</td>\n",
       "      <td>2001</td>\n",
       "      <td>16997</td>\n",
       "    </tr>\n",
       "    <tr>\n",
       "      <th>2921</th>\n",
       "      <td>Zambia</td>\n",
       "      <td>2000</td>\n",
       "      <td>30930</td>\n",
       "    </tr>\n",
       "    <tr>\n",
       "      <th>2927</th>\n",
       "      <td>Zimbabwe</td>\n",
       "      <td>2010</td>\n",
       "      <td>9696</td>\n",
       "    </tr>\n",
       "    <tr>\n",
       "      <th>2937</th>\n",
       "      <td>Zimbabwe</td>\n",
       "      <td>2000</td>\n",
       "      <td>1483</td>\n",
       "    </tr>\n",
       "  </tbody>\n",
       "</table>\n",
       "<p>525 rows × 3 columns</p>\n",
       "</div>"
      ],
      "text/plain": [
       "          Country  Year  Measles_cases\n",
       "0     Afghanistan  2015           1154\n",
       "3     Afghanistan  2012           2787\n",
       "4     Afghanistan  2011           3013\n",
       "5     Afghanistan  2010           1989\n",
       "6     Afghanistan  2009           2861\n",
       "...           ...   ...            ...\n",
       "2919       Zambia  2002          25036\n",
       "2920       Zambia  2001          16997\n",
       "2921       Zambia  2000          30930\n",
       "2927     Zimbabwe  2010           9696\n",
       "2937     Zimbabwe  2000           1483\n",
       "\n",
       "[525 rows x 3 columns]"
      ]
     },
     "execution_count": 34,
     "metadata": {},
     "output_type": "execute_result"
    }
   ],
   "source": [
    "data[[\"Country\",\"Year\",\"Measles_cases\"]][data[\"Measles_cases\"]>1000]"
   ]
  },
  {
   "cell_type": "markdown",
   "id": "5ab6c62c",
   "metadata": {
    "papermill": {
     "duration": 0.053928,
     "end_time": "2024-09-02T08:10:16.897488",
     "exception": false,
     "start_time": "2024-09-02T08:10:16.843560",
     "status": "completed"
    },
    "tags": []
   },
   "source": [
    "A lot of countries have Measles cases above 1000 which doesn't make sense!"
   ]
  },
  {
   "cell_type": "markdown",
   "id": "be815e29",
   "metadata": {
    "papermill": {
     "duration": 0.053741,
     "end_time": "2024-09-02T08:10:17.005091",
     "exception": false,
     "start_time": "2024-09-02T08:10:16.951350",
     "status": "completed"
    },
    "tags": []
   },
   "source": [
    "### Percent_health_expenditure_GDP"
   ]
  },
  {
   "cell_type": "markdown",
   "id": "4a598d3b",
   "metadata": {
    "papermill": {
     "duration": 0.053393,
     "end_time": "2024-09-02T08:10:17.112249",
     "exception": false,
     "start_time": "2024-09-02T08:10:17.058856",
     "status": "completed"
    },
    "tags": []
   },
   "source": [
    "Percent_health_expenditure_GDP can't be larger than 100! Unfortunately many countries have values over 100 or their value is 0."
   ]
  },
  {
   "cell_type": "code",
   "execution_count": 35,
   "id": "eee22382",
   "metadata": {
    "execution": {
     "iopub.execute_input": "2024-09-02T08:10:17.221821Z",
     "iopub.status.busy": "2024-09-02T08:10:17.221373Z",
     "iopub.status.idle": "2024-09-02T08:10:17.233423Z",
     "shell.execute_reply": "2024-09-02T08:10:17.232271Z"
    },
    "papermill": {
     "duration": 0.069883,
     "end_time": "2024-09-02T08:10:17.235986",
     "exception": false,
     "start_time": "2024-09-02T08:10:17.166103",
     "status": "completed"
    },
    "tags": []
   },
   "outputs": [
    {
     "data": {
      "text/plain": [
       "count     2938.000000\n",
       "mean       738.251295\n",
       "std       1987.914858\n",
       "min          0.000000\n",
       "25%          4.685343\n",
       "50%         64.912906\n",
       "75%        441.534144\n",
       "max      19479.911610\n",
       "Name: Percent_health_expenditure_GDP, dtype: float64"
      ]
     },
     "execution_count": 35,
     "metadata": {},
     "output_type": "execute_result"
    }
   ],
   "source": [
    "data['Percent_health_expenditure_GDP'].describe()"
   ]
  },
  {
   "cell_type": "code",
   "execution_count": 36,
   "id": "f2e6b871",
   "metadata": {
    "execution": {
     "iopub.execute_input": "2024-09-02T08:10:17.345836Z",
     "iopub.status.busy": "2024-09-02T08:10:17.345371Z",
     "iopub.status.idle": "2024-09-02T08:10:17.356075Z",
     "shell.execute_reply": "2024-09-02T08:10:17.354940Z"
    },
    "papermill": {
     "duration": 0.068275,
     "end_time": "2024-09-02T08:10:17.358496",
     "exception": false,
     "start_time": "2024-09-02T08:10:17.290221",
     "status": "completed"
    },
    "tags": []
   },
   "outputs": [
    {
     "data": {
      "text/plain": [
       "130"
      ]
     },
     "execution_count": 36,
     "metadata": {},
     "output_type": "execute_result"
    }
   ],
   "source": [
    "len(data[[\"Year\",\"Country\",'Percent_health_expenditure_GDP']][data['Percent_health_expenditure_GDP']>=100][\"Country\"].unique())"
   ]
  },
  {
   "cell_type": "code",
   "execution_count": 37,
   "id": "169a04e6",
   "metadata": {
    "execution": {
     "iopub.execute_input": "2024-09-02T08:10:17.470720Z",
     "iopub.status.busy": "2024-09-02T08:10:17.469883Z",
     "iopub.status.idle": "2024-09-02T08:10:17.484845Z",
     "shell.execute_reply": "2024-09-02T08:10:17.483612Z"
    },
    "papermill": {
     "duration": 0.075215,
     "end_time": "2024-09-02T08:10:17.487668",
     "exception": false,
     "start_time": "2024-09-02T08:10:17.412453",
     "status": "completed"
    },
    "tags": []
   },
   "outputs": [
    {
     "data": {
      "text/html": [
       "<div>\n",
       "<style scoped>\n",
       "    .dataframe tbody tr th:only-of-type {\n",
       "        vertical-align: middle;\n",
       "    }\n",
       "\n",
       "    .dataframe tbody tr th {\n",
       "        vertical-align: top;\n",
       "    }\n",
       "\n",
       "    .dataframe thead th {\n",
       "        text-align: right;\n",
       "    }\n",
       "</style>\n",
       "<table border=\"1\" class=\"dataframe\">\n",
       "  <thead>\n",
       "    <tr style=\"text-align: right;\">\n",
       "      <th></th>\n",
       "      <th>Year</th>\n",
       "      <th>Percent_health_expenditure_GDP</th>\n",
       "    </tr>\n",
       "  </thead>\n",
       "  <tbody>\n",
       "    <tr>\n",
       "      <th>1829</th>\n",
       "      <td>2015</td>\n",
       "      <td>0.000000</td>\n",
       "    </tr>\n",
       "    <tr>\n",
       "      <th>1835</th>\n",
       "      <td>2009</td>\n",
       "      <td>96.858588</td>\n",
       "    </tr>\n",
       "  </tbody>\n",
       "</table>\n",
       "</div>"
      ],
      "text/plain": [
       "      Year  Percent_health_expenditure_GDP\n",
       "1829  2015                        0.000000\n",
       "1835  2009                       96.858588"
      ]
     },
     "execution_count": 37,
     "metadata": {},
     "output_type": "execute_result"
    }
   ],
   "source": [
    "data_NZ = data[[\"Year\",'Percent_health_expenditure_GDP']][data['Country'] == 'Netherlands']\n",
    "data_NZ[data_NZ[\"Percent_health_expenditure_GDP\"]<100]"
   ]
  },
  {
   "cell_type": "markdown",
   "id": "0fff0816",
   "metadata": {
    "papermill": {
     "duration": 0.053832,
     "end_time": "2024-09-02T08:10:17.595841",
     "exception": false,
     "start_time": "2024-09-02T08:10:17.542009",
     "status": "completed"
    },
    "tags": []
   },
   "source": [
    "# 3) DATA CLEANING / pt. II"
   ]
  },
  {
   "cell_type": "markdown",
   "id": "8c764a16",
   "metadata": {
    "papermill": {
     "duration": 0.054117,
     "end_time": "2024-09-02T08:10:17.706418",
     "exception": false,
     "start_time": "2024-09-02T08:10:17.652301",
     "status": "completed"
    },
    "tags": []
   },
   "source": [
    "#### Case of 'Under_5_deaths_cases'"
   ]
  },
  {
   "cell_type": "markdown",
   "id": "b916b08f",
   "metadata": {
    "papermill": {
     "duration": 0.05505,
     "end_time": "2024-09-02T08:10:17.815228",
     "exception": false,
     "start_time": "2024-09-02T08:10:17.760178",
     "status": "completed"
    },
    "tags": []
   },
   "source": [
    "Since this problem appears only for India and all of its values are > 1000 we replace their value with maximum value of 1000"
   ]
  },
  {
   "cell_type": "code",
   "execution_count": 38,
   "id": "dbe1c2a6",
   "metadata": {
    "execution": {
     "iopub.execute_input": "2024-09-02T08:10:17.925664Z",
     "iopub.status.busy": "2024-09-02T08:10:17.925224Z",
     "iopub.status.idle": "2024-09-02T08:10:17.931917Z",
     "shell.execute_reply": "2024-09-02T08:10:17.930621Z"
    },
    "papermill": {
     "duration": 0.064975,
     "end_time": "2024-09-02T08:10:17.934393",
     "exception": false,
     "start_time": "2024-09-02T08:10:17.869418",
     "status": "completed"
    },
    "tags": []
   },
   "outputs": [],
   "source": [
    "data[\"Under_5_deaths_cases\"] = np.where(data[\"Under_5_deaths_cases\"] > 1000, 1000, data[\"Under_5_deaths_cases\"])"
   ]
  },
  {
   "cell_type": "markdown",
   "id": "639a9b5a",
   "metadata": {
    "papermill": {
     "duration": 0.054074,
     "end_time": "2024-09-02T08:10:18.043503",
     "exception": false,
     "start_time": "2024-09-02T08:10:17.989429",
     "status": "completed"
    },
    "tags": []
   },
   "source": [
    "#### Case of Measles_cases and Percent_health_expenditure_GDP"
   ]
  },
  {
   "cell_type": "markdown",
   "id": "34d806b8",
   "metadata": {
    "papermill": {
     "duration": 0.0543,
     "end_time": "2024-09-02T08:10:18.152440",
     "exception": false,
     "start_time": "2024-09-02T08:10:18.098140",
     "status": "completed"
    },
    "tags": []
   },
   "source": [
    "In these two cases, we will write a function to replace outlier values with Country average (excluding outliers) or Regional Averages"
   ]
  },
  {
   "cell_type": "code",
   "execution_count": 39,
   "id": "8bdc9ae1",
   "metadata": {
    "execution": {
     "iopub.execute_input": "2024-09-02T08:10:18.264923Z",
     "iopub.status.busy": "2024-09-02T08:10:18.263881Z",
     "iopub.status.idle": "2024-09-02T08:10:18.273411Z",
     "shell.execute_reply": "2024-09-02T08:10:18.272276Z"
    },
    "papermill": {
     "duration": 0.069066,
     "end_time": "2024-09-02T08:10:18.275985",
     "exception": false,
     "start_time": "2024-09-02T08:10:18.206919",
     "status": "completed"
    },
    "tags": []
   },
   "outputs": [],
   "source": [
    "def outlier_replacement(X, feature, threshold):\n",
    "    # Iterate over each country\n",
    "    for country in X['Country'].unique():\n",
    "        country_data = X[X['Country'] == country]\n",
    "        region = country_data['Region'].iloc[0]  # There's only one region per country\n",
    "\n",
    "        # Identify outliers\n",
    "        outlier_index = country_data[feature][country_data[feature] > threshold].index\n",
    "        non_outliers = country_data[feature][country_data[feature] <= threshold]\n",
    "\n",
    "        if not non_outliers.empty:\n",
    "            replacement_value = non_outliers.mean()\n",
    "        else:\n",
    "            regional_mean = X[(X[feature] < 1000) & (X[\"Region\"] == region)][feature].mean()\n",
    "            if regional_mean <= threshold:\n",
    "                replacement_value = regional_mean\n",
    "            else:\n",
    "                replacement_value = threshold\n",
    "\n",
    "        # Replace outliers\n",
    "        X.loc[outlier_index, feature] = replacement_value\n",
    "\n",
    "    return X"
   ]
  },
  {
   "cell_type": "code",
   "execution_count": 40,
   "id": "d31d9dbf",
   "metadata": {
    "execution": {
     "iopub.execute_input": "2024-09-02T08:10:18.387617Z",
     "iopub.status.busy": "2024-09-02T08:10:18.386768Z",
     "iopub.status.idle": "2024-09-02T08:10:19.192293Z",
     "shell.execute_reply": "2024-09-02T08:10:19.191062Z"
    },
    "papermill": {
     "duration": 0.865419,
     "end_time": "2024-09-02T08:10:19.195571",
     "exception": false,
     "start_time": "2024-09-02T08:10:18.330152",
     "status": "completed"
    },
    "tags": []
   },
   "outputs": [
    {
     "name": "stderr",
     "output_type": "stream",
     "text": [
      "/tmp/ipykernel_17/1443465888.py:21: FutureWarning: Setting an item of incompatible dtype is deprecated and will raise an error in a future version of pandas. Value '546.5' has dtype incompatible with int64, please explicitly cast to a compatible dtype first.\n",
      "  X.loc[outlier_index, feature] = replacement_value\n"
     ]
    }
   ],
   "source": [
    "data = outlier_replacement(data, \"Measles_cases\", 1000)\n",
    "data = outlier_replacement(data, 'Percent_health_expenditure_GDP', 1000)"
   ]
  },
  {
   "cell_type": "markdown",
   "id": "9a7aa9ae",
   "metadata": {
    "papermill": {
     "duration": 0.060715,
     "end_time": "2024-09-02T08:10:19.315475",
     "exception": false,
     "start_time": "2024-09-02T08:10:19.254760",
     "status": "completed"
    },
    "tags": []
   },
   "source": [
    "#### Case of Population"
   ]
  },
  {
   "cell_type": "markdown",
   "id": "5d35aed6",
   "metadata": {
    "papermill": {
     "duration": 0.05466,
     "end_time": "2024-09-02T08:10:19.424731",
     "exception": false,
     "start_time": "2024-09-02T08:10:19.370071",
     "status": "completed"
    },
    "tags": []
   },
   "source": [
    "The Population data are of low quality so we exclude them. Instead we will use Population density which is related to question 7"
   ]
  },
  {
   "cell_type": "markdown",
   "id": "6326ae66",
   "metadata": {
    "papermill": {
     "duration": 0.054471,
     "end_time": "2024-09-02T08:10:19.533408",
     "exception": false,
     "start_time": "2024-09-02T08:10:19.478937",
     "status": "completed"
    },
    "tags": []
   },
   "source": [
    "> One might ask why we didn't import population data from official sources or AI tools, the main reason is that we are more concerend about population density and not population itself."
   ]
  },
  {
   "cell_type": "markdown",
   "id": "35a5edf9",
   "metadata": {
    "papermill": {
     "duration": 0.054868,
     "end_time": "2024-09-02T08:10:19.644732",
     "exception": false,
     "start_time": "2024-09-02T08:10:19.589864",
     "status": "completed"
    },
    "tags": []
   },
   "source": [
    "#### Calculating Population Density"
   ]
  },
  {
   "cell_type": "markdown",
   "id": "f7c8ec4c",
   "metadata": {
    "papermill": {
     "duration": 0.054727,
     "end_time": "2024-09-02T08:10:19.756691",
     "exception": false,
     "start_time": "2024-09-02T08:10:19.701964",
     "status": "completed"
    },
    "tags": []
   },
   "source": [
    "So we don't have population density. Our population data is not reliable and we don't have area (km2) data.\n",
    "Instead, we can use AI tools and get population denisty of each country. \n",
    "I have already done this and prepared the reuslt in a new data frame."
   ]
  },
  {
   "cell_type": "code",
   "execution_count": 41,
   "id": "331fd793",
   "metadata": {
    "execution": {
     "iopub.execute_input": "2024-09-02T08:10:19.870698Z",
     "iopub.status.busy": "2024-09-02T08:10:19.869878Z",
     "iopub.status.idle": "2024-09-02T08:10:19.880833Z",
     "shell.execute_reply": "2024-09-02T08:10:19.879592Z"
    },
    "papermill": {
     "duration": 0.071003,
     "end_time": "2024-09-02T08:10:19.883650",
     "exception": false,
     "start_time": "2024-09-02T08:10:19.812647",
     "status": "completed"
    },
    "tags": []
   },
   "outputs": [],
   "source": [
    "df = pd.read_csv(\"/kaggle/input/lifeexp-region-popdensity/Population_Density.csv\", index_col = [0])"
   ]
  },
  {
   "cell_type": "code",
   "execution_count": 42,
   "id": "988669ab",
   "metadata": {
    "execution": {
     "iopub.execute_input": "2024-09-02T08:10:19.998457Z",
     "iopub.status.busy": "2024-09-02T08:10:19.997468Z",
     "iopub.status.idle": "2024-09-02T08:10:20.011368Z",
     "shell.execute_reply": "2024-09-02T08:10:20.009995Z"
    },
    "papermill": {
     "duration": 0.074479,
     "end_time": "2024-09-02T08:10:20.014348",
     "exception": false,
     "start_time": "2024-09-02T08:10:19.939869",
     "status": "completed"
    },
    "tags": []
   },
   "outputs": [
    {
     "name": "stdout",
     "output_type": "stream",
     "text": [
      "<class 'pandas.core.frame.DataFrame'>\n",
      "Index: 193 entries, 0 to 192\n",
      "Data columns (total 2 columns):\n",
      " #   Column                      Non-Null Count  Dtype  \n",
      "---  ------                      --------------  -----  \n",
      " 0   Country                     193 non-null    object \n",
      " 1   Population_Denisty_per_km2  193 non-null    float64\n",
      "dtypes: float64(1), object(1)\n",
      "memory usage: 4.5+ KB\n"
     ]
    }
   ],
   "source": [
    "df.info()"
   ]
  },
  {
   "cell_type": "code",
   "execution_count": 43,
   "id": "55f0bc3e",
   "metadata": {
    "execution": {
     "iopub.execute_input": "2024-09-02T08:10:20.127125Z",
     "iopub.status.busy": "2024-09-02T08:10:20.126194Z",
     "iopub.status.idle": "2024-09-02T08:10:20.140188Z",
     "shell.execute_reply": "2024-09-02T08:10:20.138708Z"
    },
    "papermill": {
     "duration": 0.073456,
     "end_time": "2024-09-02T08:10:20.142999",
     "exception": false,
     "start_time": "2024-09-02T08:10:20.069543",
     "status": "completed"
    },
    "tags": []
   },
   "outputs": [],
   "source": [
    "data = pd.merge(data, df, on = \"Country\")"
   ]
  },
  {
   "cell_type": "markdown",
   "id": "cae6e997",
   "metadata": {
    "papermill": {
     "duration": 0.058495,
     "end_time": "2024-09-02T08:10:20.257281",
     "exception": false,
     "start_time": "2024-09-02T08:10:20.198786",
     "status": "completed"
    },
    "tags": []
   },
   "source": [
    "> Let's look at Density distribution"
   ]
  },
  {
   "cell_type": "code",
   "execution_count": 44,
   "id": "dc1f05fa",
   "metadata": {
    "execution": {
     "iopub.execute_input": "2024-09-02T08:10:20.370609Z",
     "iopub.status.busy": "2024-09-02T08:10:20.370174Z",
     "iopub.status.idle": "2024-09-02T08:10:20.382951Z",
     "shell.execute_reply": "2024-09-02T08:10:20.381683Z"
    },
    "papermill": {
     "duration": 0.072324,
     "end_time": "2024-09-02T08:10:20.385698",
     "exception": false,
     "start_time": "2024-09-02T08:10:20.313374",
     "status": "completed"
    },
    "tags": []
   },
   "outputs": [
    {
     "data": {
      "text/plain": [
       "count     2938.000000\n",
       "mean       164.762634\n",
       "std        585.320682\n",
       "min          1.800000\n",
       "25%         24.600000\n",
       "50%         66.900000\n",
       "75%        134.000000\n",
       "max      16271.500000\n",
       "Name: Population_Denisty_per_km2, dtype: float64"
      ]
     },
     "execution_count": 44,
     "metadata": {},
     "output_type": "execute_result"
    }
   ],
   "source": [
    "data[\"Population_Denisty_per_km2\"].describe()"
   ]
  },
  {
   "cell_type": "markdown",
   "id": "1937627a",
   "metadata": {
    "papermill": {
     "duration": 0.055086,
     "end_time": "2024-09-02T08:10:20.496001",
     "exception": false,
     "start_time": "2024-09-02T08:10:20.440915",
     "status": "completed"
    },
    "tags": []
   },
   "source": [
    "There is huge difference between quantile 75% and max value. These outliers are few countries:"
   ]
  },
  {
   "cell_type": "code",
   "execution_count": 45,
   "id": "ccde2fdc",
   "metadata": {
    "execution": {
     "iopub.execute_input": "2024-09-02T08:10:20.609964Z",
     "iopub.status.busy": "2024-09-02T08:10:20.609478Z",
     "iopub.status.idle": "2024-09-02T08:10:20.625385Z",
     "shell.execute_reply": "2024-09-02T08:10:20.624154Z"
    },
    "papermill": {
     "duration": 0.076853,
     "end_time": "2024-09-02T08:10:20.628040",
     "exception": false,
     "start_time": "2024-09-02T08:10:20.551187",
     "status": "completed"
    },
    "tags": []
   },
   "outputs": [
    {
     "data": {
      "text/html": [
       "<div>\n",
       "<style scoped>\n",
       "    .dataframe tbody tr th:only-of-type {\n",
       "        vertical-align: middle;\n",
       "    }\n",
       "\n",
       "    .dataframe tbody tr th {\n",
       "        vertical-align: top;\n",
       "    }\n",
       "\n",
       "    .dataframe thead th {\n",
       "        text-align: right;\n",
       "    }\n",
       "</style>\n",
       "<table border=\"1\" class=\"dataframe\">\n",
       "  <thead>\n",
       "    <tr style=\"text-align: right;\">\n",
       "      <th></th>\n",
       "      <th>Population_Denisty_per_km2</th>\n",
       "    </tr>\n",
       "    <tr>\n",
       "      <th>Country</th>\n",
       "      <th></th>\n",
       "    </tr>\n",
       "  </thead>\n",
       "  <tbody>\n",
       "    <tr>\n",
       "      <th>Bahrain</th>\n",
       "      <td>1050.5</td>\n",
       "    </tr>\n",
       "    <tr>\n",
       "      <th>Bangladesh</th>\n",
       "      <td>1023.4</td>\n",
       "    </tr>\n",
       "    <tr>\n",
       "      <th>Maldives</th>\n",
       "      <td>1196.7</td>\n",
       "    </tr>\n",
       "    <tr>\n",
       "      <th>Malta</th>\n",
       "      <td>1266.5</td>\n",
       "    </tr>\n",
       "    <tr>\n",
       "      <th>Monaco</th>\n",
       "      <td>16271.5</td>\n",
       "    </tr>\n",
       "    <tr>\n",
       "      <th>Singapore</th>\n",
       "      <td>6482.2</td>\n",
       "    </tr>\n",
       "  </tbody>\n",
       "</table>\n",
       "</div>"
      ],
      "text/plain": [
       "            Population_Denisty_per_km2\n",
       "Country                               \n",
       "Bahrain                         1050.5\n",
       "Bangladesh                      1023.4\n",
       "Maldives                        1196.7\n",
       "Malta                           1266.5\n",
       "Monaco                         16271.5\n",
       "Singapore                       6482.2"
      ]
     },
     "execution_count": 45,
     "metadata": {},
     "output_type": "execute_result"
    }
   ],
   "source": [
    "data[[\"Country\",\"Population_Denisty_per_km2\"]][data[\"Population_Denisty_per_km2\"]>1000].groupby(\"Country\").mean()"
   ]
  },
  {
   "cell_type": "code",
   "execution_count": 46,
   "id": "3ea1aeb5",
   "metadata": {
    "execution": {
     "iopub.execute_input": "2024-09-02T08:10:20.742026Z",
     "iopub.status.busy": "2024-09-02T08:10:20.741555Z",
     "iopub.status.idle": "2024-09-02T08:10:21.468188Z",
     "shell.execute_reply": "2024-09-02T08:10:21.466969Z"
    },
    "papermill": {
     "duration": 0.786322,
     "end_time": "2024-09-02T08:10:21.470994",
     "exception": false,
     "start_time": "2024-09-02T08:10:20.684672",
     "status": "completed"
    },
    "tags": []
   },
   "outputs": [
    {
     "data": {
      "image/png": "[encoded data removed]",
      "text/plain": [
       "<Figure size 700x600 with 2 Axes>"
      ]
     },
     "metadata": {},
     "output_type": "display_data"
    }
   ],
   "source": [
    "fig, ax = plt.subplots(2,1, figsize=(7, 6))\n",
    "ax[0].hist(data[\"Population_Denisty_per_km2\"], bins = 100)\n",
    "ax[0].set_xlabel(\"Population_Denisty_per_km2\")\n",
    "ax[0].set_ylabel(\"Frequency\")\n",
    "ax[1].hist(data[\"Population_Denisty_per_km2\"][data[\"Population_Denisty_per_km2\"]<1000], bins = 100)\n",
    "ax[1].set_xlabel(\"Population_Denisty < 1000 person per km2\")\n",
    "ax[1].set_ylabel(\"Frequency\")\n",
    "# Adjust the spacing between the subplots\n",
    "plt.subplots_adjust(hspace=0.5)  # Increase this value for more space\n",
    "plt.show()"
   ]
  },
  {
   "cell_type": "markdown",
   "id": "03207b36",
   "metadata": {
    "papermill": {
     "duration": 0.055628,
     "end_time": "2024-09-02T08:10:21.583153",
     "exception": false,
     "start_time": "2024-09-02T08:10:21.527525",
     "status": "completed"
    },
    "tags": []
   },
   "source": [
    "- We can observe that population density is very skewded which makes sense, because there are some geographical regions on planet earth which are more populated than other.\n",
    "- One solution is to convert 'population density' to a category feature and then apply an ANOVA test to see if there is any significant relationship between 'population density' and 'life_expectancy' or not?\n",
    "- For this, we should calculate the number of bins. It is not a good approach to visualy choose an arbitrary number of bins because the data is very skewed. One method to find the optimum number of bins is using Doanes Formula which is suitable for highly skewed data and can calculates the optimum number of equally width bins.\n"
   ]
  },
  {
   "cell_type": "markdown",
   "id": "453c62a5",
   "metadata": {
    "papermill": {
     "duration": 0.056609,
     "end_time": "2024-09-02T08:10:21.695560",
     "exception": false,
     "start_time": "2024-09-02T08:10:21.638951",
     "status": "completed"
    },
    "tags": []
   },
   "source": [
    "#### Calculating bins for Density"
   ]
  },
  {
   "cell_type": "code",
   "execution_count": 47,
   "id": "b97d7a04",
   "metadata": {
    "execution": {
     "iopub.execute_input": "2024-09-02T08:10:21.811994Z",
     "iopub.status.busy": "2024-09-02T08:10:21.811510Z",
     "iopub.status.idle": "2024-09-02T08:10:21.819203Z",
     "shell.execute_reply": "2024-09-02T08:10:21.818033Z"
    },
    "papermill": {
     "duration": 0.069053,
     "end_time": "2024-09-02T08:10:21.821705",
     "exception": false,
     "start_time": "2024-09-02T08:10:21.752652",
     "status": "completed"
    },
    "tags": []
   },
   "outputs": [],
   "source": [
    "#I have written a formula to calculate nuber of bins\n",
    "from scipy.stats import skew\n",
    "# we use Doanes formula which is suitable for skewed data.\n",
    "# This formula gives the number of bins (of equal width)\n",
    "def doanes_formula(data, col):\n",
    "    # Number of data points\n",
    "    n = len(data[col])\n",
    "    \n",
    "    # Calculate skewness\n",
    "    g1 = skew(data[col])\n",
    "    \n",
    "    # Calculate the correction factor for skewness\n",
    "    sigma_g1 = np.sqrt((6 * (n - 2)) / ((n + 1) * (n + 3)))\n",
    "    \n",
    "    # Calculate the number of bins using Doane's formula\n",
    "    num_bins = int(np.ceil(1 + np.log2(n) + np.log2(1 + np.abs(g1) / sigma_g1)))\n",
    "    \n",
    "    return num_bins"
   ]
  },
  {
   "cell_type": "code",
   "execution_count": 48,
   "id": "65e779be",
   "metadata": {
    "execution": {
     "iopub.execute_input": "2024-09-02T08:10:21.935838Z",
     "iopub.status.busy": "2024-09-02T08:10:21.935395Z",
     "iopub.status.idle": "2024-09-02T08:10:21.944821Z",
     "shell.execute_reply": "2024-09-02T08:10:21.943678Z"
    },
    "papermill": {
     "duration": 0.069473,
     "end_time": "2024-09-02T08:10:21.947118",
     "exception": false,
     "start_time": "2024-09-02T08:10:21.877645",
     "status": "completed"
    },
    "tags": []
   },
   "outputs": [
    {
     "data": {
      "text/plain": [
       "21"
      ]
     },
     "execution_count": 48,
     "metadata": {},
     "output_type": "execute_result"
    }
   ],
   "source": [
    "# number of bins\n",
    "number_bins = doanes_formula(data, \"Population_Denisty_per_km2\")\n",
    "number_bins"
   ]
  },
  {
   "cell_type": "markdown",
   "id": "eed341a1",
   "metadata": {
    "papermill": {
     "duration": 0.055735,
     "end_time": "2024-09-02T08:10:22.058331",
     "exception": false,
     "start_time": "2024-09-02T08:10:22.002596",
     "status": "completed"
    },
    "tags": []
   },
   "source": [
    "So according to Doanes formula we have to create 21 bins of equal width for population. This makes sense because the data is highly skewed."
   ]
  },
  {
   "cell_type": "markdown",
   "id": "1fa0698d",
   "metadata": {
    "papermill": {
     "duration": 0.055311,
     "end_time": "2024-09-02T08:10:22.169229",
     "exception": false,
     "start_time": "2024-09-02T08:10:22.113918",
     "status": "completed"
    },
    "tags": []
   },
   "source": [
    "> Now I write another function and takes 'population denisty' and number of bins as input and encodes data as Ordinal numbers from 0 to 21. Each number corresponds to a certain bin."
   ]
  },
  {
   "cell_type": "code",
   "execution_count": 49,
   "id": "b21f07fa",
   "metadata": {
    "execution": {
     "iopub.execute_input": "2024-09-02T08:10:22.282731Z",
     "iopub.status.busy": "2024-09-02T08:10:22.282268Z",
     "iopub.status.idle": "2024-09-02T08:10:22.435714Z",
     "shell.execute_reply": "2024-09-02T08:10:22.434526Z"
    },
    "papermill": {
     "duration": 0.213602,
     "end_time": "2024-09-02T08:10:22.438749",
     "exception": false,
     "start_time": "2024-09-02T08:10:22.225147",
     "status": "completed"
    },
    "tags": []
   },
   "outputs": [],
   "source": [
    "from sklearn.preprocessing import KBinsDiscretizer\n",
    "\n",
    "def num_encoder(X, n_bins,num_cat_attribs):\n",
    "    # Sample data\n",
    "    X = X[num_cat_attribs].to_numpy()\n",
    "\n",
    "    # Create the discretizer\n",
    "    kbd = KBinsDiscretizer(n_bins=n_bins, encode='ordinal', strategy='uniform')\n",
    "\n",
    "    # Fit and transform the data\n",
    "    X_binned = kbd.fit_transform(X)\n",
    "\n",
    "    return X_binned"
   ]
  },
  {
   "cell_type": "code",
   "execution_count": 50,
   "id": "ef991131",
   "metadata": {
    "execution": {
     "iopub.execute_input": "2024-09-02T08:10:22.552860Z",
     "iopub.status.busy": "2024-09-02T08:10:22.551963Z",
     "iopub.status.idle": "2024-09-02T08:10:22.559470Z",
     "shell.execute_reply": "2024-09-02T08:10:22.558260Z"
    },
    "papermill": {
     "duration": 0.067279,
     "end_time": "2024-09-02T08:10:22.562026",
     "exception": false,
     "start_time": "2024-09-02T08:10:22.494747",
     "status": "completed"
    },
    "tags": []
   },
   "outputs": [],
   "source": [
    "density_array = num_encoder(data, number_bins,[\"Population_Denisty_per_km2\"])"
   ]
  },
  {
   "cell_type": "code",
   "execution_count": 51,
   "id": "f2c729f8",
   "metadata": {
    "execution": {
     "iopub.execute_input": "2024-09-02T08:10:22.676646Z",
     "iopub.status.busy": "2024-09-02T08:10:22.676209Z",
     "iopub.status.idle": "2024-09-02T08:10:22.683590Z",
     "shell.execute_reply": "2024-09-02T08:10:22.682169Z"
    },
    "papermill": {
     "duration": 0.068183,
     "end_time": "2024-09-02T08:10:22.686364",
     "exception": false,
     "start_time": "2024-09-02T08:10:22.618181",
     "status": "completed"
    },
    "tags": []
   },
   "outputs": [],
   "source": [
    "data[\"encoded_density\"] = pd.DataFrame(density_array)"
   ]
  },
  {
   "cell_type": "markdown",
   "id": "a2d167f1",
   "metadata": {
    "papermill": {
     "duration": 0.057343,
     "end_time": "2024-09-02T08:10:22.801395",
     "exception": false,
     "start_time": "2024-09-02T08:10:22.744052",
     "status": "completed"
    },
    "tags": []
   },
   "source": [
    "Sicne the encoded ordinal numbers are of categorical nature with convert them to \"string\""
   ]
  },
  {
   "cell_type": "code",
   "execution_count": 52,
   "id": "1aee8bdb",
   "metadata": {
    "execution": {
     "iopub.execute_input": "2024-09-02T08:10:22.916103Z",
     "iopub.status.busy": "2024-09-02T08:10:22.915619Z",
     "iopub.status.idle": "2024-09-02T08:10:22.924332Z",
     "shell.execute_reply": "2024-09-02T08:10:22.923128Z"
    },
    "papermill": {
     "duration": 0.06957,
     "end_time": "2024-09-02T08:10:22.926709",
     "exception": false,
     "start_time": "2024-09-02T08:10:22.857139",
     "status": "completed"
    },
    "tags": []
   },
   "outputs": [],
   "source": [
    "data[\"encoded_density\"] = data[\"encoded_density\"].astype(\"str\")"
   ]
  },
  {
   "cell_type": "markdown",
   "id": "815cfe94",
   "metadata": {
    "papermill": {
     "duration": 0.055648,
     "end_time": "2024-09-02T08:10:23.037997",
     "exception": false,
     "start_time": "2024-09-02T08:10:22.982349",
     "status": "completed"
    },
    "tags": []
   },
   "source": [
    "> The population density we calculated here is a constant value over years (I dont know exactly from which year it comes).\n",
    "But we assume that since are data are in range of 15 years and the population of countries do not change a lot in 15 years, assuming population_density constant over this period is a valid hypthesis."
   ]
  },
  {
   "cell_type": "markdown",
   "id": "2e0ee799",
   "metadata": {
    "papermill": {
     "duration": 0.056081,
     "end_time": "2024-09-02T08:10:23.149798",
     "exception": false,
     "start_time": "2024-09-02T08:10:23.093717",
     "status": "completed"
    },
    "tags": []
   },
   "source": [
    "> Lets group the life expectancy be population density encoded to see the average life_exp in each density group:"
   ]
  },
  {
   "cell_type": "code",
   "execution_count": 53,
   "id": "ac040a15",
   "metadata": {
    "execution": {
     "iopub.execute_input": "2024-09-02T08:10:23.264872Z",
     "iopub.status.busy": "2024-09-02T08:10:23.264377Z",
     "iopub.status.idle": "2024-09-02T08:10:23.279829Z",
     "shell.execute_reply": "2024-09-02T08:10:23.278669Z"
    },
    "papermill": {
     "duration": 0.07612,
     "end_time": "2024-09-02T08:10:23.282288",
     "exception": false,
     "start_time": "2024-09-02T08:10:23.206168",
     "status": "completed"
    },
    "tags": []
   },
   "outputs": [
    {
     "data": {
      "text/html": [
       "<div>\n",
       "<style scoped>\n",
       "    .dataframe tbody tr th:only-of-type {\n",
       "        vertical-align: middle;\n",
       "    }\n",
       "\n",
       "    .dataframe tbody tr th {\n",
       "        vertical-align: top;\n",
       "    }\n",
       "\n",
       "    .dataframe thead th {\n",
       "        text-align: right;\n",
       "    }\n",
       "</style>\n",
       "<table border=\"1\" class=\"dataframe\">\n",
       "  <thead>\n",
       "    <tr style=\"text-align: right;\">\n",
       "      <th></th>\n",
       "      <th>Life_expectancy</th>\n",
       "    </tr>\n",
       "    <tr>\n",
       "      <th>encoded_density</th>\n",
       "      <th></th>\n",
       "    </tr>\n",
       "  </thead>\n",
       "  <tbody>\n",
       "    <tr>\n",
       "      <th>0.0</th>\n",
       "      <td>69.040591</td>\n",
       "    </tr>\n",
       "    <tr>\n",
       "      <th>1.0</th>\n",
       "      <td>75.231250</td>\n",
       "    </tr>\n",
       "    <tr>\n",
       "      <th>20.0</th>\n",
       "      <td>81.341346</td>\n",
       "    </tr>\n",
       "    <tr>\n",
       "      <th>8.0</th>\n",
       "      <td>81.475000</td>\n",
       "    </tr>\n",
       "  </tbody>\n",
       "</table>\n",
       "</div>"
      ],
      "text/plain": [
       "                 Life_expectancy\n",
       "encoded_density                 \n",
       "0.0                    69.040591\n",
       "1.0                    75.231250\n",
       "20.0                   81.341346\n",
       "8.0                    81.475000"
      ]
     },
     "execution_count": 53,
     "metadata": {},
     "output_type": "execute_result"
    }
   ],
   "source": [
    "data[['Life_expectancy', 'encoded_density']].groupby(\"encoded_density\").mean()"
   ]
  },
  {
   "cell_type": "markdown",
   "id": "5894d781",
   "metadata": {
    "papermill": {
     "duration": 0.056185,
     "end_time": "2024-09-02T08:10:23.394814",
     "exception": false,
     "start_time": "2024-09-02T08:10:23.338629",
     "status": "completed"
    },
    "tags": []
   },
   "source": [
    "Here, we can observe that although we created 21 bins, there are only 4 bins present in data, this is because we encoded the density data Ordinaly and it means that there is a huge difference for example between 2nd bin and 9th bin and then we jump into 21st bin.\n",
    "What is important is that we set the pop_density as a string not an int"
   ]
  },
  {
   "cell_type": "markdown",
   "id": "c524b753",
   "metadata": {
    "papermill": {
     "duration": 0.056211,
     "end_time": "2024-09-02T08:10:23.507278",
     "exception": false,
     "start_time": "2024-09-02T08:10:23.451067",
     "status": "completed"
    },
    "tags": []
   },
   "source": [
    "> We can also see that the life expectancy of the highly densed countries seem to be higher than low density countries."
   ]
  },
  {
   "cell_type": "markdown",
   "id": "74acbb69",
   "metadata": {
    "papermill": {
     "duration": 0.059057,
     "end_time": "2024-09-02T08:10:23.624876",
     "exception": false,
     "start_time": "2024-09-02T08:10:23.565819",
     "status": "completed"
    },
    "tags": []
   },
   "source": [
    "# 4) Inferential Analysis"
   ]
  },
  {
   "cell_type": "markdown",
   "id": "2e85dce0",
   "metadata": {
    "papermill": {
     "duration": 0.059852,
     "end_time": "2024-09-02T08:10:23.746973",
     "exception": false,
     "start_time": "2024-09-02T08:10:23.687121",
     "status": "completed"
    },
    "tags": []
   },
   "source": [
    "> In order to investigate the impact of each feature on Life Expectancy we should run a ANOVA test. When dealing with numerical variables +categorical feautres we perform a Regression and then test the impact of each variable on the target by a ANOVA test."
   ]
  },
  {
   "cell_type": "markdown",
   "id": "08e77fd2",
   "metadata": {
    "papermill": {
     "duration": 0.075184,
     "end_time": "2024-09-02T08:10:23.885601",
     "exception": false,
     "start_time": "2024-09-02T08:10:23.810417",
     "status": "completed"
    },
    "tags": []
   },
   "source": [
    "## Correlation test"
   ]
  },
  {
   "cell_type": "markdown",
   "id": "2813b6cd",
   "metadata": {
    "papermill": {
     "duration": 0.055667,
     "end_time": "2024-09-02T08:10:23.997117",
     "exception": false,
     "start_time": "2024-09-02T08:10:23.941450",
     "status": "completed"
    },
    "tags": []
   },
   "source": [
    "Let's first have a look at correlation of 'life expectancy' with other feautres"
   ]
  },
  {
   "cell_type": "code",
   "execution_count": 54,
   "id": "0f3853e7",
   "metadata": {
    "execution": {
     "iopub.execute_input": "2024-09-02T08:10:24.111049Z",
     "iopub.status.busy": "2024-09-02T08:10:24.110572Z",
     "iopub.status.idle": "2024-09-02T08:10:24.117583Z",
     "shell.execute_reply": "2024-09-02T08:10:24.116392Z"
    },
    "papermill": {
     "duration": 0.066954,
     "end_time": "2024-09-02T08:10:24.120083",
     "exception": false,
     "start_time": "2024-09-02T08:10:24.053129",
     "status": "completed"
    },
    "tags": []
   },
   "outputs": [],
   "source": [
    "# Updating numerical attributes while dropping population because it is very of low quality\n",
    "# I am not using encoded_denisty at this stage\n",
    "numeric_attribs = data.drop(['Country', 'Year', 'Status', 'Region', 'encoded_density', 'Population'], axis=1).columns"
   ]
  },
  {
   "cell_type": "code",
   "execution_count": 55,
   "id": "8a7c1c60",
   "metadata": {
    "execution": {
     "iopub.execute_input": "2024-09-02T08:10:24.235746Z",
     "iopub.status.busy": "2024-09-02T08:10:24.234501Z",
     "iopub.status.idle": "2024-09-02T08:10:24.241289Z",
     "shell.execute_reply": "2024-09-02T08:10:24.240078Z"
    },
    "papermill": {
     "duration": 0.067678,
     "end_time": "2024-09-02T08:10:24.244237",
     "exception": false,
     "start_time": "2024-09-02T08:10:24.176559",
     "status": "completed"
    },
    "tags": []
   },
   "outputs": [],
   "source": [
    "data_numeric = data[numeric_attribs]"
   ]
  },
  {
   "cell_type": "code",
   "execution_count": 56,
   "id": "6306bbe3",
   "metadata": {
    "execution": {
     "iopub.execute_input": "2024-09-02T08:10:24.359584Z",
     "iopub.status.busy": "2024-09-02T08:10:24.358745Z",
     "iopub.status.idle": "2024-09-02T08:10:24.372061Z",
     "shell.execute_reply": "2024-09-02T08:10:24.370733Z"
    },
    "papermill": {
     "duration": 0.073092,
     "end_time": "2024-09-02T08:10:24.374513",
     "exception": false,
     "start_time": "2024-09-02T08:10:24.301421",
     "status": "completed"
    },
    "tags": []
   },
   "outputs": [
    {
     "data": {
      "text/plain": [
       "Life_expectancy                   1.000000\n",
       "Adult_Mortality_rate             -0.693898\n",
       "Infant_deaths_cases              -0.197221\n",
       "Alcohol                           0.407891\n",
       "Percent_health_expenditure_GDP    0.376552\n",
       "Hepatitis_coverage                0.288108\n",
       "Measles_cases                    -0.249983\n",
       "BMI                               0.565611\n",
       "Under_5_deaths_cases             -0.298123\n",
       "Polio_coverage                    0.470555\n",
       "Total_health_expenditure_gov      0.228534\n",
       "Diphtheria_coverage               0.483786\n",
       "HIV_death_cases                  -0.557635\n",
       "GDP                               0.455015\n",
       "Thinness_1_19_years              -0.478732\n",
       "Thinness_5_9_years               -0.472662\n",
       "Income_composition_resources      0.728136\n",
       "Schooling_years                   0.750339\n",
       "Population_Denisty_per_km2        0.156110\n",
       "Name: Life_expectancy, dtype: float64"
      ]
     },
     "execution_count": 56,
     "metadata": {},
     "output_type": "execute_result"
    }
   ],
   "source": [
    "cor = data_numeric.corr()[\"Life_expectancy\"]\n",
    "cor"
   ]
  },
  {
   "cell_type": "code",
   "execution_count": 57,
   "id": "93e48781",
   "metadata": {
    "execution": {
     "iopub.execute_input": "2024-09-02T08:10:24.488924Z",
     "iopub.status.busy": "2024-09-02T08:10:24.488455Z",
     "iopub.status.idle": "2024-09-02T08:10:24.498459Z",
     "shell.execute_reply": "2024-09-02T08:10:24.497329Z"
    },
    "papermill": {
     "duration": 0.069949,
     "end_time": "2024-09-02T08:10:24.500959",
     "exception": false,
     "start_time": "2024-09-02T08:10:24.431010",
     "status": "completed"
    },
    "tags": []
   },
   "outputs": [
    {
     "data": {
      "text/plain": [
       "Life_expectancy                 1.000000\n",
       "Adult_Mortality_rate           -0.693898\n",
       "BMI                             0.565611\n",
       "HIV_death_cases                -0.557635\n",
       "Income_composition_resources    0.728136\n",
       "Schooling_years                 0.750339\n",
       "Name: Life_expectancy, dtype: float64"
      ]
     },
     "execution_count": 57,
     "metadata": {},
     "output_type": "execute_result"
    }
   ],
   "source": [
    "#the most correlated\n",
    "cor[np.abs(cor)>0.5]"
   ]
  },
  {
   "cell_type": "code",
   "execution_count": 58,
   "id": "69fd411c",
   "metadata": {
    "execution": {
     "iopub.execute_input": "2024-09-02T08:10:24.616919Z",
     "iopub.status.busy": "2024-09-02T08:10:24.616448Z",
     "iopub.status.idle": "2024-09-02T08:10:24.626094Z",
     "shell.execute_reply": "2024-09-02T08:10:24.624858Z"
    },
    "papermill": {
     "duration": 0.070343,
     "end_time": "2024-09-02T08:10:24.628701",
     "exception": false,
     "start_time": "2024-09-02T08:10:24.558358",
     "status": "completed"
    },
    "tags": []
   },
   "outputs": [
    {
     "data": {
      "text/plain": [
       "Infant_deaths_cases            -0.197221\n",
       "Hepatitis_coverage              0.288108\n",
       "Measles_cases                  -0.249983\n",
       "Under_5_deaths_cases           -0.298123\n",
       "Total_health_expenditure_gov    0.228534\n",
       "Population_Denisty_per_km2      0.156110\n",
       "Name: Life_expectancy, dtype: float64"
      ]
     },
     "execution_count": 58,
     "metadata": {},
     "output_type": "execute_result"
    }
   ],
   "source": [
    "#the least correlated\n",
    "cor[np.abs(cor)<0.3]"
   ]
  },
  {
   "cell_type": "markdown",
   "id": "09c8d0d6",
   "metadata": {
    "papermill": {
     "duration": 0.056909,
     "end_time": "2024-09-02T08:10:24.742231",
     "exception": false,
     "start_time": "2024-09-02T08:10:24.685322",
     "status": "completed"
    },
    "tags": []
   },
   "source": [
    "> Although correlation doesn't mean causation but still it gives some insgihts of how target variable changes with feautres or at least the direction of data variances"
   ]
  },
  {
   "cell_type": "markdown",
   "id": "8a238e24",
   "metadata": {
    "papermill": {
     "duration": 0.057312,
     "end_time": "2024-09-02T08:10:24.856460",
     "exception": false,
     "start_time": "2024-09-02T08:10:24.799148",
     "status": "completed"
    },
    "tags": []
   },
   "source": [
    "> Before running the regression model let's check for multicollinearity in the data. Multicollinearity occurs when independent variables in a regression model are highly correlated with each other, which can affect the stability and interpretation of the model coefficients."
   ]
  },
  {
   "cell_type": "markdown",
   "id": "c2ec797a",
   "metadata": {
    "papermill": {
     "duration": 0.057146,
     "end_time": "2024-09-02T08:10:24.970158",
     "exception": false,
     "start_time": "2024-09-02T08:10:24.913012",
     "status": "completed"
    },
    "tags": []
   },
   "source": [
    "## Multicollinearity Test"
   ]
  },
  {
   "cell_type": "markdown",
   "id": "1dd54d02",
   "metadata": {
    "papermill": {
     "duration": 0.056081,
     "end_time": "2024-09-02T08:10:25.082509",
     "exception": false,
     "start_time": "2024-09-02T08:10:25.026428",
     "status": "completed"
    },
    "tags": []
   },
   "source": [
    "> To evaluate the multicollinearity  we perform the Variance Inflation Factor (VIF) test. VIF quantifies how much the variance of an estimated regression coefficient increases due to multicollinearity.\n",
    "A VIF of 1 indicates no correlation between the variable and any other variables.\n",
    "Generally, a higher VIF indicates higher multicollinearity."
   ]
  },
  {
   "cell_type": "code",
   "execution_count": 59,
   "id": "42fbea39",
   "metadata": {
    "execution": {
     "iopub.execute_input": "2024-09-02T08:10:25.197491Z",
     "iopub.status.busy": "2024-09-02T08:10:25.197040Z",
     "iopub.status.idle": "2024-09-02T08:10:25.478868Z",
     "shell.execute_reply": "2024-09-02T08:10:25.477642Z"
    },
    "papermill": {
     "duration": 0.343808,
     "end_time": "2024-09-02T08:10:25.482698",
     "exception": false,
     "start_time": "2024-09-02T08:10:25.138890",
     "status": "completed"
    },
    "tags": []
   },
   "outputs": [
    {
     "data": {
      "text/plain": [
       "const                             240.721185\n",
       "Life_expectancy                     5.881824\n",
       "Adult_Mortality_rate                2.073373\n",
       "Infant_deaths_cases                 8.098036\n",
       "Alcohol                             1.670769\n",
       "Percent_health_expenditure_GDP      1.263510\n",
       "Hepatitis_coverage                  1.654273\n",
       "Measles_cases                       1.237853\n",
       "BMI                                 1.826294\n",
       "Under_5_deaths_cases                8.462861\n",
       "Polio_coverage                      2.021287\n",
       "Total_health_expenditure_gov        1.184508\n",
       "Diphtheria_coverage                 2.382427\n",
       "HIV_death_cases                     1.845936\n",
       "GDP                                 1.415056\n",
       "Thinness_1_19_years                 8.803755\n",
       "Thinness_5_9_years                  8.886003\n",
       "Income_composition_resources        3.293305\n",
       "Schooling_years                     4.114857\n",
       "Population_Denisty_per_km2          1.088687\n",
       "dtype: float64"
      ]
     },
     "execution_count": 59,
     "metadata": {},
     "output_type": "execute_result"
    }
   ],
   "source": [
    "from statsmodels.stats.outliers_influence import variance_inflation_factor\n",
    "from statsmodels.tools.tools import add_constant\n",
    "\n",
    "# VIF Test\n",
    "vif = add_constant(data_numeric)\n",
    "pd.Series([variance_inflation_factor(vif.values, i) for i in range(vif.shape[1])], index=vif.columns)"
   ]
  },
  {
   "cell_type": "markdown",
   "id": "11b706d6",
   "metadata": {
    "papermill": {
     "duration": 0.056741,
     "end_time": "2024-09-02T08:10:25.667280",
     "exception": false,
     "start_time": "2024-09-02T08:10:25.610539",
     "status": "completed"
    },
    "tags": []
   },
   "source": [
    "> As we can see the features : 'Infant_deaths_cases' , 'Under_5_deaths_cases', 'Thinness_1_19_years', 'Thinness_5_9_years' are highly correlated with outher feautres. \n",
    "Let's explore them"
   ]
  },
  {
   "cell_type": "code",
   "execution_count": 60,
   "id": "77906928",
   "metadata": {
    "execution": {
     "iopub.execute_input": "2024-09-02T08:10:25.783637Z",
     "iopub.status.busy": "2024-09-02T08:10:25.783218Z",
     "iopub.status.idle": "2024-09-02T08:10:25.800539Z",
     "shell.execute_reply": "2024-09-02T08:10:25.799228Z"
    },
    "papermill": {
     "duration": 0.079253,
     "end_time": "2024-09-02T08:10:25.803927",
     "exception": false,
     "start_time": "2024-09-02T08:10:25.724674",
     "status": "completed"
    },
    "tags": []
   },
   "outputs": [
    {
     "data": {
      "text/plain": [
       "Thinness_1_19_years    1.000000\n",
       "Thinness_5_9_years     0.939205\n",
       "Name: Thinness_1_19_years, dtype: float64"
      ]
     },
     "execution_count": 60,
     "metadata": {},
     "output_type": "execute_result"
    }
   ],
   "source": [
    "data_numeric.corr()[\"Thinness_1_19_years\"][np.abs(data_numeric.corr()[\"Thinness_1_19_years\"])>0.7]"
   ]
  },
  {
   "cell_type": "code",
   "execution_count": 61,
   "id": "ff0e78a9",
   "metadata": {
    "execution": {
     "iopub.execute_input": "2024-09-02T08:10:25.919721Z",
     "iopub.status.busy": "2024-09-02T08:10:25.919265Z",
     "iopub.status.idle": "2024-09-02T08:10:25.936609Z",
     "shell.execute_reply": "2024-09-02T08:10:25.935426Z"
    },
    "papermill": {
     "duration": 0.078291,
     "end_time": "2024-09-02T08:10:25.939230",
     "exception": false,
     "start_time": "2024-09-02T08:10:25.860939",
     "status": "completed"
    },
    "tags": []
   },
   "outputs": [
    {
     "data": {
      "text/plain": [
       "Thinness_1_19_years    0.939205\n",
       "Thinness_5_9_years     1.000000\n",
       "Name: Thinness_5_9_years, dtype: float64"
      ]
     },
     "execution_count": 61,
     "metadata": {},
     "output_type": "execute_result"
    }
   ],
   "source": [
    "data_numeric.corr()[\"Thinness_5_9_years\"][np.abs(data_numeric.corr()[\"Thinness_5_9_years\"])>0.7]"
   ]
  },
  {
   "cell_type": "code",
   "execution_count": 62,
   "id": "5df160aa",
   "metadata": {
    "execution": {
     "iopub.execute_input": "2024-09-02T08:10:26.058547Z",
     "iopub.status.busy": "2024-09-02T08:10:26.057750Z",
     "iopub.status.idle": "2024-09-02T08:10:26.075227Z",
     "shell.execute_reply": "2024-09-02T08:10:26.074039Z"
    },
    "papermill": {
     "duration": 0.08,
     "end_time": "2024-09-02T08:10:26.077885",
     "exception": false,
     "start_time": "2024-09-02T08:10:25.997885",
     "status": "completed"
    },
    "tags": []
   },
   "outputs": [
    {
     "data": {
      "text/plain": [
       "Infant_deaths_cases     0.924188\n",
       "Under_5_deaths_cases    1.000000\n",
       "Name: Under_5_deaths_cases, dtype: float64"
      ]
     },
     "execution_count": 62,
     "metadata": {},
     "output_type": "execute_result"
    }
   ],
   "source": [
    "data_numeric.corr()[\"Under_5_deaths_cases\"][np.abs(data_numeric.corr()[\"Under_5_deaths_cases\"])>0.7]"
   ]
  },
  {
   "cell_type": "code",
   "execution_count": 63,
   "id": "a882bd1a",
   "metadata": {
    "execution": {
     "iopub.execute_input": "2024-09-02T08:10:26.195601Z",
     "iopub.status.busy": "2024-09-02T08:10:26.194659Z",
     "iopub.status.idle": "2024-09-02T08:10:26.212854Z",
     "shell.execute_reply": "2024-09-02T08:10:26.211652Z"
    },
    "papermill": {
     "duration": 0.080296,
     "end_time": "2024-09-02T08:10:26.215608",
     "exception": false,
     "start_time": "2024-09-02T08:10:26.135312",
     "status": "completed"
    },
    "tags": []
   },
   "outputs": [
    {
     "data": {
      "text/plain": [
       "Infant_deaths_cases     1.000000\n",
       "Under_5_deaths_cases    0.924188\n",
       "Name: Infant_deaths_cases, dtype: float64"
      ]
     },
     "execution_count": 63,
     "metadata": {},
     "output_type": "execute_result"
    }
   ],
   "source": [
    "data_numeric.corr()[\"Infant_deaths_cases\"][np.abs(data_numeric.corr()[\"Infant_deaths_cases\"])>0.7]"
   ]
  },
  {
   "cell_type": "markdown",
   "id": "19593c2e",
   "metadata": {
    "papermill": {
     "duration": 0.057168,
     "end_time": "2024-09-02T08:10:26.330187",
     "exception": false,
     "start_time": "2024-09-02T08:10:26.273019",
     "status": "completed"
    },
    "tags": []
   },
   "source": [
    "> OK let's delete \"Thinness_5_9_years\" and \"Under_5_deaths_cases\" and check again for multicolinarity"
   ]
  },
  {
   "cell_type": "code",
   "execution_count": 64,
   "id": "fb478f3f",
   "metadata": {
    "execution": {
     "iopub.execute_input": "2024-09-02T08:10:26.448738Z",
     "iopub.status.busy": "2024-09-02T08:10:26.448303Z",
     "iopub.status.idle": "2024-09-02T08:10:26.455343Z",
     "shell.execute_reply": "2024-09-02T08:10:26.454190Z"
    },
    "papermill": {
     "duration": 0.069416,
     "end_time": "2024-09-02T08:10:26.457998",
     "exception": false,
     "start_time": "2024-09-02T08:10:26.388582",
     "status": "completed"
    },
    "tags": []
   },
   "outputs": [],
   "source": [
    "data_numeric_updated = data_numeric.drop([\"Thinness_5_9_years\", \"Under_5_deaths_cases\"], axis =1)"
   ]
  },
  {
   "cell_type": "code",
   "execution_count": 65,
   "id": "86430e1f",
   "metadata": {
    "execution": {
     "iopub.execute_input": "2024-09-02T08:10:26.576970Z",
     "iopub.status.busy": "2024-09-02T08:10:26.576460Z",
     "iopub.status.idle": "2024-09-02T08:10:26.680221Z",
     "shell.execute_reply": "2024-09-02T08:10:26.678622Z"
    },
    "papermill": {
     "duration": 0.167469,
     "end_time": "2024-09-02T08:10:26.684368",
     "exception": false,
     "start_time": "2024-09-02T08:10:26.516899",
     "status": "completed"
    },
    "tags": []
   },
   "outputs": [
    {
     "data": {
      "text/plain": [
       "const                             228.422022\n",
       "Life_expectancy                     5.763328\n",
       "Adult_Mortality_rate                2.065447\n",
       "Infant_deaths_cases                 1.368755\n",
       "Alcohol                             1.650157\n",
       "Percent_health_expenditure_GDP      1.263422\n",
       "Hepatitis_coverage                  1.652055\n",
       "Measles_cases                       1.148894\n",
       "BMI                                 1.795690\n",
       "Polio_coverage                      2.019094\n",
       "Total_health_expenditure_gov        1.177396\n",
       "Diphtheria_coverage                 2.373778\n",
       "HIV_death_cases                     1.839835\n",
       "GDP                                 1.412979\n",
       "Thinness_1_19_years                 2.037872\n",
       "Income_composition_resources        3.293102\n",
       "Schooling_years                     4.110671\n",
       "Population_Denisty_per_km2          1.088185\n",
       "dtype: float64"
      ]
     },
     "execution_count": 65,
     "metadata": {},
     "output_type": "execute_result"
    }
   ],
   "source": [
    "#we double check the updates dataframe\n",
    "from statsmodels.stats.outliers_influence import variance_inflation_factor\n",
    "from statsmodels.tools.tools import add_constant\n",
    "\n",
    "# VIF Test\n",
    "vif = add_constant(data_numeric_updated)\n",
    "pd.Series([variance_inflation_factor(vif.values, i) for i in range(vif.shape[1])], index=vif.columns)"
   ]
  },
  {
   "cell_type": "markdown",
   "id": "5b11231f",
   "metadata": {
    "papermill": {
     "duration": 0.066165,
     "end_time": "2024-09-02T08:10:26.864732",
     "exception": false,
     "start_time": "2024-09-02T08:10:26.798567",
     "status": "completed"
    },
    "tags": []
   },
   "source": [
    "> OK, it seems that are dataset is ready for Regression and ANOVA test"
   ]
  },
  {
   "cell_type": "markdown",
   "id": "13941ed1",
   "metadata": {
    "papermill": {
     "duration": 0.057392,
     "end_time": "2024-09-02T08:10:26.981990",
     "exception": false,
     "start_time": "2024-09-02T08:10:26.924598",
     "status": "completed"
    },
    "tags": []
   },
   "source": [
    "## Regression and ANOVA test"
   ]
  },
  {
   "cell_type": "markdown",
   "id": "0153f1a4",
   "metadata": {
    "papermill": {
     "duration": 0.057389,
     "end_time": "2024-09-02T08:10:27.097419",
     "exception": false,
     "start_time": "2024-09-02T08:10:27.040030",
     "status": "completed"
    },
    "tags": []
   },
   "source": [
    "> The variables are all numeric feautres - (those with redundancy))\n",
    "- plus related categorical data (Status)\n",
    "- New created data like population density"
   ]
  },
  {
   "cell_type": "code",
   "execution_count": 66,
   "id": "85495a41",
   "metadata": {
    "execution": {
     "iopub.execute_input": "2024-09-02T08:10:27.215100Z",
     "iopub.status.busy": "2024-09-02T08:10:27.214623Z",
     "iopub.status.idle": "2024-09-02T08:10:27.220061Z",
     "shell.execute_reply": "2024-09-02T08:10:27.218868Z"
    },
    "papermill": {
     "duration": 0.067304,
     "end_time": "2024-09-02T08:10:27.222547",
     "exception": false,
     "start_time": "2024-09-02T08:10:27.155243",
     "status": "completed"
    },
    "tags": []
   },
   "outputs": [],
   "source": [
    "formula = ('Life_expectancy ~ C(Status) + Adult_Mortality_rate + Infant_deaths_cases + Alcohol +' + \n",
    "           'Percent_health_expenditure_GDP + Hepatitis_coverage + Measles_cases + BMI + Polio_coverage +' +\n",
    "           'Total_health_expenditure_gov + Diphtheria_coverage + HIV_death_cases + GDP + Thinness_1_19_years +' + \n",
    "           'Income_composition_resources + Schooling_years + Population_Denisty_per_km2')"
   ]
  },
  {
   "cell_type": "code",
   "execution_count": 67,
   "id": "8ceaad63",
   "metadata": {
    "execution": {
     "iopub.execute_input": "2024-09-02T08:10:27.340752Z",
     "iopub.status.busy": "2024-09-02T08:10:27.340288Z",
     "iopub.status.idle": "2024-09-02T08:10:28.960011Z",
     "shell.execute_reply": "2024-09-02T08:10:28.958202Z"
    },
    "papermill": {
     "duration": 1.68469,
     "end_time": "2024-09-02T08:10:28.965479",
     "exception": false,
     "start_time": "2024-09-02T08:10:27.280789",
     "status": "completed"
    },
    "tags": []
   },
   "outputs": [
    {
     "name": "stdout",
     "output_type": "stream",
     "text": [
      "                                      sum_sq      df           F         PR(>F)\n",
      "C(Status)                         212.274841     1.0   13.554973   2.358718e-04\n",
      "Adult_Mortality_rate             7736.715871     1.0  494.033926  2.992406e-101\n",
      "Infant_deaths_cases                46.881800     1.0    2.993673   8.369601e-02\n",
      "Alcohol                             0.206958     1.0    0.013215   9.084860e-01\n",
      "Percent_health_expenditure_GDP    438.676506     1.0   28.012025   1.294950e-07\n",
      "Hepatitis_coverage                 45.442608     1.0    2.901773   8.858861e-02\n",
      "Measles_cases                     394.988386     1.0   25.222286   5.416028e-07\n",
      "BMI                              1028.788437     1.0   65.694075   7.663280e-16\n",
      "Polio_coverage                    527.897640     1.0   33.709309   7.088084e-09\n",
      "Total_health_expenditure_gov      132.213591     1.0    8.442600   3.692883e-03\n",
      "Diphtheria_coverage              1030.995997     1.0   65.835040   7.145566e-16\n",
      "HIV_death_cases                 13363.183148     1.0  853.316310  8.601680e-165\n",
      "GDP                               625.779501     1.0   39.959630   2.988840e-10\n",
      "Thinness_1_19_years                63.381560     1.0    4.047278   4.433432e-02\n",
      "Income_composition_resources     2132.812577     1.0  136.192383   8.644748e-31\n",
      "Schooling_years                  4264.953473     1.0  272.341875   1.450028e-58\n",
      "Population_Denisty_per_km2        658.945652     1.0   42.077480   1.026642e-10\n",
      "Residual                        45728.054562  2920.0         NaN            NaN\n"
     ]
    }
   ],
   "source": [
    "import statsmodels.api as sm\n",
    "import statsmodels.formula.api as smf\n",
    "\n",
    "# Set display options for pandas\n",
    "pd.set_option('display.max_colwidth', None)  # Ensure no truncation of column content\n",
    "pd.set_option('display.width', 1000)  # Set the width of the display in characters\n",
    "\n",
    "# Fit the linear regression model\n",
    "model = smf.ols(formula, data=data).fit()\n",
    "\n",
    "# Perform ANOVA on the fitted linear model\n",
    "aov_table = sm.stats.anova_lm(model, typ=2)\n",
    "\n",
    "# Print the ANOVA table\n",
    "print(aov_table)"
   ]
  },
  {
   "cell_type": "markdown",
   "id": "9cfb4072",
   "metadata": {
    "papermill": {
     "duration": 0.058399,
     "end_time": "2024-09-02T08:10:29.113939",
     "exception": false,
     "start_time": "2024-09-02T08:10:29.055540",
     "status": "completed"
    },
    "tags": []
   },
   "source": [
    "### Interpretation"
   ]
  },
  {
   "cell_type": "markdown",
   "id": "99e157a2",
   "metadata": {
    "papermill": {
     "duration": 0.05803,
     "end_time": "2024-09-02T08:10:29.230357",
     "exception": false,
     "start_time": "2024-09-02T08:10:29.172327",
     "status": "completed"
    },
    "tags": []
   },
   "source": [
    "> The null hypothesis in ANOVA test (H0) is that there is no statistically impact from variables on the target variable.\n",
    "> For variables (features) with p-value < 0.05 we can reject H0 and therefore these feautres have a significant impact on target.\n",
    "- Here we use type II Anova which controls other variables when evaluating each single predictor (feautre)\n",
    "\n",
    "> But using ANOVA and Regression can be tricky because we should normally check for 'homocedasticity' of the data and normal distribution of residuals. "
   ]
  },
  {
   "cell_type": "markdown",
   "id": "fefde76a",
   "metadata": {
    "papermill": {
     "duration": 0.057949,
     "end_time": "2024-09-02T08:10:29.346154",
     "exception": false,
     "start_time": "2024-09-02T08:10:29.288205",
     "status": "completed"
    },
    "tags": []
   },
   "source": [
    "> Homocedasticity test evaluates the residuals of a regression model. Because the spread or dispersion of the residuals must be the same regardless of the value of the independent variables.\n",
    ">  Here we use Breusch–Pagan test"
   ]
  },
  {
   "cell_type": "markdown",
   "id": "7da326fd",
   "metadata": {
    "papermill": {
     "duration": 0.058706,
     "end_time": "2024-09-02T08:10:29.464217",
     "exception": false,
     "start_time": "2024-09-02T08:10:29.405511",
     "status": "completed"
    },
    "tags": []
   },
   "source": [
    "### Homocedasticity test"
   ]
  },
  {
   "cell_type": "code",
   "execution_count": 68,
   "id": "805e5892",
   "metadata": {
    "execution": {
     "iopub.execute_input": "2024-09-02T08:10:29.583957Z",
     "iopub.status.busy": "2024-09-02T08:10:29.583327Z",
     "iopub.status.idle": "2024-09-02T08:10:29.600684Z",
     "shell.execute_reply": "2024-09-02T08:10:29.599164Z"
    },
    "papermill": {
     "duration": 0.081333,
     "end_time": "2024-09-02T08:10:29.604870",
     "exception": false,
     "start_time": "2024-09-02T08:10:29.523537",
     "status": "completed"
    },
    "tags": []
   },
   "outputs": [
    {
     "name": "stdout",
     "output_type": "stream",
     "text": [
      "p-Value: 3.8597667090626064e-98\n",
      "Homocedasticity rejected\n"
     ]
    }
   ],
   "source": [
    "# Homocedasticity test\n",
    "import statsmodels.stats.api as sms\n",
    "\n",
    "stat, p, f, fp = sms.het_breuschpagan(model.resid, model.model.exog)\n",
    "#print(f'Test stat: {stat}')\n",
    "print(f'p-Value: {p}')\n",
    "#print(f'F-Value: {f}')\n",
    "#print(f'f_p_value: {fp}')\n",
    "if p<0.05: print(\"Homocedasticity rejected\" )"
   ]
  },
  {
   "cell_type": "markdown",
   "id": "62308a1b",
   "metadata": {
    "papermill": {
     "duration": 0.059959,
     "end_time": "2024-09-02T08:10:29.781599",
     "exception": false,
     "start_time": "2024-09-02T08:10:29.721640",
     "status": "completed"
    },
    "tags": []
   },
   "source": [
    "> OK so we see that our model failed to pass Homocedasticity. To visualize the residuals we can plot Q-Q of residuals"
   ]
  },
  {
   "cell_type": "code",
   "execution_count": 69,
   "id": "3e56dd5d",
   "metadata": {
    "execution": {
     "iopub.execute_input": "2024-09-02T08:10:29.901752Z",
     "iopub.status.busy": "2024-09-02T08:10:29.901325Z",
     "iopub.status.idle": "2024-09-02T08:10:30.163407Z",
     "shell.execute_reply": "2024-09-02T08:10:30.161874Z"
    },
    "papermill": {
     "duration": 0.324365,
     "end_time": "2024-09-02T08:10:30.166243",
     "exception": false,
     "start_time": "2024-09-02T08:10:29.841878",
     "status": "completed"
    },
    "tags": []
   },
   "outputs": [
    {
     "data": {
      "image/png": "[encoded data removed]",
      "text/plain": [
       "<Figure size 640x480 with 1 Axes>"
      ]
     },
     "metadata": {},
     "output_type": "display_data"
    }
   ],
   "source": [
    "from statsmodels.api import qqplot\n",
    "qqplot(data=model.resid, fit=True, line=\"45\")\n",
    "plt.show() "
   ]
  },
  {
   "cell_type": "markdown",
   "id": "2c1b2272",
   "metadata": {
    "papermill": {
     "duration": 0.060273,
     "end_time": "2024-09-02T08:10:30.287025",
     "exception": false,
     "start_time": "2024-09-02T08:10:30.226752",
     "status": "completed"
    },
    "tags": []
   },
   "source": [
    "> As we can see, the model diverts from normal distribution (red line) at lower qunatiles."
   ]
  },
  {
   "cell_type": "markdown",
   "id": "479b5c8b",
   "metadata": {
    "papermill": {
     "duration": 0.060627,
     "end_time": "2024-09-02T08:10:30.408065",
     "exception": false,
     "start_time": "2024-09-02T08:10:30.347438",
     "status": "completed"
    },
    "tags": []
   },
   "source": [
    "> ALthough Homocedasticity and Residuals Normal distribution are not essiential for evaluating the impact of predictors on the target variables, here we use a Robust variance method as a correct for p-values"
   ]
  },
  {
   "cell_type": "markdown",
   "id": "585f545f",
   "metadata": {
    "papermill": {
     "duration": 0.06216,
     "end_time": "2024-09-02T08:10:30.530937",
     "exception": false,
     "start_time": "2024-09-02T08:10:30.468777",
     "status": "completed"
    },
    "tags": []
   },
   "source": [
    "### Robust variance method to correct p-values"
   ]
  },
  {
   "cell_type": "code",
   "execution_count": 70,
   "id": "b1edfbec",
   "metadata": {
    "execution": {
     "iopub.execute_input": "2024-09-02T08:10:30.654541Z",
     "iopub.status.busy": "2024-09-02T08:10:30.653706Z",
     "iopub.status.idle": "2024-09-02T08:10:30.709500Z",
     "shell.execute_reply": "2024-09-02T08:10:30.707832Z"
    },
    "papermill": {
     "duration": 0.122185,
     "end_time": "2024-09-02T08:10:30.714351",
     "exception": false,
     "start_time": "2024-09-02T08:10:30.592166",
     "status": "completed"
    },
    "tags": []
   },
   "outputs": [
    {
     "name": "stdout",
     "output_type": "stream",
     "text": [
      "                            OLS Regression Results                            \n",
      "==============================================================================\n",
      "Dep. Variable:        Life_expectancy   R-squared:                       0.827\n",
      "Model:                            OLS   Adj. R-squared:                  0.826\n",
      "Method:                 Least Squares   F-statistic:                     767.0\n",
      "Date:                Mon, 02 Sep 2024   Prob (F-statistic):               0.00\n",
      "Time:                        08:10:30   Log-Likelihood:                -8201.2\n",
      "No. Observations:                2938   AIC:                         1.644e+04\n",
      "Df Residuals:                    2920   BIC:                         1.655e+04\n",
      "Df Model:                          17                                         \n",
      "Covariance Type:                  HC1                                         \n",
      "==================================================================================================\n",
      "                                     coef    std err          t      P>|t|      [0.025      0.975]\n",
      "--------------------------------------------------------------------------------------------------\n",
      "Intercept                         53.8045      0.859     62.651      0.000      52.121      55.488\n",
      "C(Status)[T.Developing]           -1.0016      0.262     -3.828      0.000      -1.515      -0.489\n",
      "Adult_Mortality_rate              -0.0174      0.001    -15.219      0.000      -0.020      -0.015\n",
      "Infant_deaths_cases               -0.0013      0.001     -1.884      0.060      -0.003    5.12e-05\n",
      "Alcohol                            0.0029      0.030      0.099      0.921      -0.055       0.061\n",
      "Percent_health_expenditure_GDP     0.0019      0.000      5.742      0.000       0.001       0.003\n",
      "Hepatitis_coverage                -0.0065      0.004     -1.669      0.095      -0.014       0.001\n",
      "Measles_cases                     -0.0020      0.000     -4.640      0.000      -0.003      -0.001\n",
      "BMI                                0.0392      0.005      7.413      0.000       0.029       0.050\n",
      "Polio_coverage                     0.0255      0.005      5.232      0.000       0.016       0.035\n",
      "Total_health_expenditure_gov       0.0947      0.039      2.407      0.016       0.018       0.172\n",
      "Diphtheria_coverage                0.0380      0.005      6.970      0.000       0.027       0.049\n",
      "HIV_death_cases                   -0.5013      0.028    -18.087      0.000      -0.556      -0.447\n",
      "GDP                             4.196e-05   5.28e-06      7.941      0.000    3.16e-05    5.23e-05\n",
      "Thinness_1_19_years               -0.0477      0.025     -1.925      0.054      -0.096       0.001\n",
      "Income_composition_resources       7.2603      0.848      8.561      0.000       5.597       8.923\n",
      "Schooling_years                    0.7022      0.065     10.863      0.000       0.575       0.829\n",
      "Population_Denisty_per_km2         0.0008      0.000      4.037      0.000       0.000       0.001\n",
      "==============================================================================\n",
      "Omnibus:                      132.293   Durbin-Watson:                   0.660\n",
      "Prob(Omnibus):                  0.000   Jarque-Bera (JB):              442.571\n",
      "Skew:                           0.043   Prob(JB):                     7.89e-97\n",
      "Kurtosis:                       4.899   Cond. No.                     1.41e+05\n",
      "==============================================================================\n",
      "\n",
      "Notes:\n",
      "[1] Standard Errors are heteroscedasticity robust (HC1)\n",
      "[2] The condition number is large, 1.41e+05. This might indicate that there are\n",
      "strong multicollinearity or other numerical problems.\n"
     ]
    }
   ],
   "source": [
    "# Set display options for pandas\n",
    "pd.set_option('display.max_colwidth', None)  # Ensure no truncation of column content\n",
    "pd.set_option('display.width', 1000)  # Set the width of the display in characters\n",
    "\n",
    "robust_model = model.get_robustcov_results(cov_type='HC1')\n",
    "print(robust_model.summary())"
   ]
  },
  {
   "cell_type": "markdown",
   "id": "084fe07d",
   "metadata": {
    "papermill": {
     "duration": 0.063909,
     "end_time": "2024-09-02T08:10:30.879457",
     "exception": false,
     "start_time": "2024-09-02T08:10:30.815548",
     "status": "completed"
    },
    "tags": []
   },
   "source": [
    "> The Robust ANOVA results returns correcgted p-values. But it also warns us on the possibility of multicollinearity!\n",
    "> Let's check for multicollinearity test!"
   ]
  },
  {
   "cell_type": "code",
   "execution_count": 71,
   "id": "db5e91f0",
   "metadata": {
    "execution": {
     "iopub.execute_input": "2024-09-02T08:10:31.003019Z",
     "iopub.status.busy": "2024-09-02T08:10:31.002413Z",
     "iopub.status.idle": "2024-09-02T08:10:31.010502Z",
     "shell.execute_reply": "2024-09-02T08:10:31.009169Z"
    },
    "papermill": {
     "duration": 0.074387,
     "end_time": "2024-09-02T08:10:31.013468",
     "exception": false,
     "start_time": "2024-09-02T08:10:30.939081",
     "status": "completed"
    },
    "tags": []
   },
   "outputs": [],
   "source": [
    "# Extract p-values\n",
    "# Create a DataFrame to make it more readable\n",
    "p_values_df = pd.DataFrame({\n",
    "    'Feature': model.pvalues.index, #we get the feature names from the initial model\n",
    "    'P-Value': robust_model.pvalues #we get the pvalues from robust model\n",
    "})"
   ]
  },
  {
   "cell_type": "code",
   "execution_count": 72,
   "id": "d9a797ae",
   "metadata": {
    "execution": {
     "iopub.execute_input": "2024-09-02T08:10:31.136502Z",
     "iopub.status.busy": "2024-09-02T08:10:31.135343Z",
     "iopub.status.idle": "2024-09-02T08:10:31.150038Z",
     "shell.execute_reply": "2024-09-02T08:10:31.148793Z"
    },
    "papermill": {
     "duration": 0.079614,
     "end_time": "2024-09-02T08:10:31.152706",
     "exception": false,
     "start_time": "2024-09-02T08:10:31.073092",
     "status": "completed"
    },
    "tags": []
   },
   "outputs": [
    {
     "data": {
      "text/html": [
       "<div>\n",
       "<style scoped>\n",
       "    .dataframe tbody tr th:only-of-type {\n",
       "        vertical-align: middle;\n",
       "    }\n",
       "\n",
       "    .dataframe tbody tr th {\n",
       "        vertical-align: top;\n",
       "    }\n",
       "\n",
       "    .dataframe thead th {\n",
       "        text-align: right;\n",
       "    }\n",
       "</style>\n",
       "<table border=\"1\" class=\"dataframe\">\n",
       "  <thead>\n",
       "    <tr style=\"text-align: right;\">\n",
       "      <th></th>\n",
       "      <th>Feature</th>\n",
       "      <th>P-Value</th>\n",
       "    </tr>\n",
       "  </thead>\n",
       "  <tbody>\n",
       "    <tr>\n",
       "      <th>0</th>\n",
       "      <td>Intercept</td>\n",
       "      <td>0.000000e+00</td>\n",
       "    </tr>\n",
       "    <tr>\n",
       "      <th>1</th>\n",
       "      <td>C(Status)[T.Developing]</td>\n",
       "      <td>1.321372e-04</td>\n",
       "    </tr>\n",
       "    <tr>\n",
       "      <th>2</th>\n",
       "      <td>Adult_Mortality_rate</td>\n",
       "      <td>2.144029e-50</td>\n",
       "    </tr>\n",
       "    <tr>\n",
       "      <th>3</th>\n",
       "      <td>Infant_deaths_cases</td>\n",
       "      <td>5.968336e-02</td>\n",
       "    </tr>\n",
       "    <tr>\n",
       "      <th>4</th>\n",
       "      <td>Alcohol</td>\n",
       "      <td>9.209442e-01</td>\n",
       "    </tr>\n",
       "    <tr>\n",
       "      <th>5</th>\n",
       "      <td>Percent_health_expenditure_GDP</td>\n",
       "      <td>1.029649e-08</td>\n",
       "    </tr>\n",
       "    <tr>\n",
       "      <th>6</th>\n",
       "      <td>Hepatitis_coverage</td>\n",
       "      <td>9.523880e-02</td>\n",
       "    </tr>\n",
       "    <tr>\n",
       "      <th>7</th>\n",
       "      <td>Measles_cases</td>\n",
       "      <td>3.645260e-06</td>\n",
       "    </tr>\n",
       "    <tr>\n",
       "      <th>8</th>\n",
       "      <td>BMI</td>\n",
       "      <td>1.606297e-13</td>\n",
       "    </tr>\n",
       "    <tr>\n",
       "      <th>9</th>\n",
       "      <td>Polio_coverage</td>\n",
       "      <td>1.798292e-07</td>\n",
       "    </tr>\n",
       "    <tr>\n",
       "      <th>10</th>\n",
       "      <td>Total_health_expenditure_gov</td>\n",
       "      <td>1.615590e-02</td>\n",
       "    </tr>\n",
       "    <tr>\n",
       "      <th>11</th>\n",
       "      <td>Diphtheria_coverage</td>\n",
       "      <td>3.901382e-12</td>\n",
       "    </tr>\n",
       "    <tr>\n",
       "      <th>12</th>\n",
       "      <td>HIV_death_cases</td>\n",
       "      <td>2.167854e-69</td>\n",
       "    </tr>\n",
       "    <tr>\n",
       "      <th>13</th>\n",
       "      <td>GDP</td>\n",
       "      <td>2.842633e-15</td>\n",
       "    </tr>\n",
       "    <tr>\n",
       "      <th>14</th>\n",
       "      <td>Thinness_1_19_years</td>\n",
       "      <td>5.427948e-02</td>\n",
       "    </tr>\n",
       "    <tr>\n",
       "      <th>15</th>\n",
       "      <td>Income_composition_resources</td>\n",
       "      <td>1.783686e-17</td>\n",
       "    </tr>\n",
       "    <tr>\n",
       "      <th>16</th>\n",
       "      <td>Schooling_years</td>\n",
       "      <td>5.624353e-27</td>\n",
       "    </tr>\n",
       "    <tr>\n",
       "      <th>17</th>\n",
       "      <td>Population_Denisty_per_km2</td>\n",
       "      <td>5.559361e-05</td>\n",
       "    </tr>\n",
       "  </tbody>\n",
       "</table>\n",
       "</div>"
      ],
      "text/plain": [
       "                           Feature       P-Value\n",
       "0                        Intercept  0.000000e+00\n",
       "1          C(Status)[T.Developing]  1.321372e-04\n",
       "2             Adult_Mortality_rate  2.144029e-50\n",
       "3              Infant_deaths_cases  5.968336e-02\n",
       "4                          Alcohol  9.209442e-01\n",
       "5   Percent_health_expenditure_GDP  1.029649e-08\n",
       "6               Hepatitis_coverage  9.523880e-02\n",
       "7                    Measles_cases  3.645260e-06\n",
       "8                              BMI  1.606297e-13\n",
       "9                   Polio_coverage  1.798292e-07\n",
       "10    Total_health_expenditure_gov  1.615590e-02\n",
       "11             Diphtheria_coverage  3.901382e-12\n",
       "12                 HIV_death_cases  2.167854e-69\n",
       "13                             GDP  2.842633e-15\n",
       "14             Thinness_1_19_years  5.427948e-02\n",
       "15    Income_composition_resources  1.783686e-17\n",
       "16                 Schooling_years  5.624353e-27\n",
       "17      Population_Denisty_per_km2  5.559361e-05"
      ]
     },
     "execution_count": 72,
     "metadata": {},
     "output_type": "execute_result"
    }
   ],
   "source": [
    "p_values_df"
   ]
  },
  {
   "cell_type": "code",
   "execution_count": 73,
   "id": "4e50ccb5",
   "metadata": {
    "execution": {
     "iopub.execute_input": "2024-09-02T08:10:31.274995Z",
     "iopub.status.busy": "2024-09-02T08:10:31.274496Z",
     "iopub.status.idle": "2024-09-02T08:10:31.288865Z",
     "shell.execute_reply": "2024-09-02T08:10:31.287519Z"
    },
    "papermill": {
     "duration": 0.078439,
     "end_time": "2024-09-02T08:10:31.291481",
     "exception": false,
     "start_time": "2024-09-02T08:10:31.213042",
     "status": "completed"
    },
    "tags": []
   },
   "outputs": [
    {
     "data": {
      "text/html": [
       "<div>\n",
       "<style scoped>\n",
       "    .dataframe tbody tr th:only-of-type {\n",
       "        vertical-align: middle;\n",
       "    }\n",
       "\n",
       "    .dataframe tbody tr th {\n",
       "        vertical-align: top;\n",
       "    }\n",
       "\n",
       "    .dataframe thead th {\n",
       "        text-align: right;\n",
       "    }\n",
       "</style>\n",
       "<table border=\"1\" class=\"dataframe\">\n",
       "  <thead>\n",
       "    <tr style=\"text-align: right;\">\n",
       "      <th></th>\n",
       "      <th>Feature</th>\n",
       "      <th>P-Value</th>\n",
       "    </tr>\n",
       "  </thead>\n",
       "  <tbody>\n",
       "    <tr>\n",
       "      <th>3</th>\n",
       "      <td>Infant_deaths_cases</td>\n",
       "      <td>0.059683</td>\n",
       "    </tr>\n",
       "    <tr>\n",
       "      <th>4</th>\n",
       "      <td>Alcohol</td>\n",
       "      <td>0.920944</td>\n",
       "    </tr>\n",
       "    <tr>\n",
       "      <th>6</th>\n",
       "      <td>Hepatitis_coverage</td>\n",
       "      <td>0.095239</td>\n",
       "    </tr>\n",
       "    <tr>\n",
       "      <th>14</th>\n",
       "      <td>Thinness_1_19_years</td>\n",
       "      <td>0.054279</td>\n",
       "    </tr>\n",
       "  </tbody>\n",
       "</table>\n",
       "</div>"
      ],
      "text/plain": [
       "                Feature   P-Value\n",
       "3   Infant_deaths_cases  0.059683\n",
       "4               Alcohol  0.920944\n",
       "6    Hepatitis_coverage  0.095239\n",
       "14  Thinness_1_19_years  0.054279"
      ]
     },
     "execution_count": 73,
     "metadata": {},
     "output_type": "execute_result"
    }
   ],
   "source": [
    "#not significant factors\n",
    "p_values_df[p_values_df[\"P-Value\"]>0.05]"
   ]
  },
  {
   "cell_type": "code",
   "execution_count": 74,
   "id": "a37b03b8",
   "metadata": {
    "execution": {
     "iopub.execute_input": "2024-09-02T08:10:31.416252Z",
     "iopub.status.busy": "2024-09-02T08:10:31.415395Z",
     "iopub.status.idle": "2024-09-02T08:10:31.429426Z",
     "shell.execute_reply": "2024-09-02T08:10:31.428175Z"
    },
    "papermill": {
     "duration": 0.079086,
     "end_time": "2024-09-02T08:10:31.432057",
     "exception": false,
     "start_time": "2024-09-02T08:10:31.352971",
     "status": "completed"
    },
    "tags": []
   },
   "outputs": [
    {
     "data": {
      "text/html": [
       "<div>\n",
       "<style scoped>\n",
       "    .dataframe tbody tr th:only-of-type {\n",
       "        vertical-align: middle;\n",
       "    }\n",
       "\n",
       "    .dataframe tbody tr th {\n",
       "        vertical-align: top;\n",
       "    }\n",
       "\n",
       "    .dataframe thead th {\n",
       "        text-align: right;\n",
       "    }\n",
       "</style>\n",
       "<table border=\"1\" class=\"dataframe\">\n",
       "  <thead>\n",
       "    <tr style=\"text-align: right;\">\n",
       "      <th></th>\n",
       "      <th>Feature</th>\n",
       "      <th>P-Value</th>\n",
       "    </tr>\n",
       "  </thead>\n",
       "  <tbody>\n",
       "    <tr>\n",
       "      <th>0</th>\n",
       "      <td>Intercept</td>\n",
       "      <td>0.000000e+00</td>\n",
       "    </tr>\n",
       "    <tr>\n",
       "      <th>1</th>\n",
       "      <td>C(Status)[T.Developing]</td>\n",
       "      <td>1.321372e-04</td>\n",
       "    </tr>\n",
       "    <tr>\n",
       "      <th>2</th>\n",
       "      <td>Adult_Mortality_rate</td>\n",
       "      <td>2.144029e-50</td>\n",
       "    </tr>\n",
       "    <tr>\n",
       "      <th>5</th>\n",
       "      <td>Percent_health_expenditure_GDP</td>\n",
       "      <td>1.029649e-08</td>\n",
       "    </tr>\n",
       "    <tr>\n",
       "      <th>7</th>\n",
       "      <td>Measles_cases</td>\n",
       "      <td>3.645260e-06</td>\n",
       "    </tr>\n",
       "    <tr>\n",
       "      <th>8</th>\n",
       "      <td>BMI</td>\n",
       "      <td>1.606297e-13</td>\n",
       "    </tr>\n",
       "    <tr>\n",
       "      <th>9</th>\n",
       "      <td>Polio_coverage</td>\n",
       "      <td>1.798292e-07</td>\n",
       "    </tr>\n",
       "    <tr>\n",
       "      <th>10</th>\n",
       "      <td>Total_health_expenditure_gov</td>\n",
       "      <td>1.615590e-02</td>\n",
       "    </tr>\n",
       "    <tr>\n",
       "      <th>11</th>\n",
       "      <td>Diphtheria_coverage</td>\n",
       "      <td>3.901382e-12</td>\n",
       "    </tr>\n",
       "    <tr>\n",
       "      <th>12</th>\n",
       "      <td>HIV_death_cases</td>\n",
       "      <td>2.167854e-69</td>\n",
       "    </tr>\n",
       "    <tr>\n",
       "      <th>13</th>\n",
       "      <td>GDP</td>\n",
       "      <td>2.842633e-15</td>\n",
       "    </tr>\n",
       "    <tr>\n",
       "      <th>15</th>\n",
       "      <td>Income_composition_resources</td>\n",
       "      <td>1.783686e-17</td>\n",
       "    </tr>\n",
       "    <tr>\n",
       "      <th>16</th>\n",
       "      <td>Schooling_years</td>\n",
       "      <td>5.624353e-27</td>\n",
       "    </tr>\n",
       "    <tr>\n",
       "      <th>17</th>\n",
       "      <td>Population_Denisty_per_km2</td>\n",
       "      <td>5.559361e-05</td>\n",
       "    </tr>\n",
       "  </tbody>\n",
       "</table>\n",
       "</div>"
      ],
      "text/plain": [
       "                           Feature       P-Value\n",
       "0                        Intercept  0.000000e+00\n",
       "1          C(Status)[T.Developing]  1.321372e-04\n",
       "2             Adult_Mortality_rate  2.144029e-50\n",
       "5   Percent_health_expenditure_GDP  1.029649e-08\n",
       "7                    Measles_cases  3.645260e-06\n",
       "8                              BMI  1.606297e-13\n",
       "9                   Polio_coverage  1.798292e-07\n",
       "10    Total_health_expenditure_gov  1.615590e-02\n",
       "11             Diphtheria_coverage  3.901382e-12\n",
       "12                 HIV_death_cases  2.167854e-69\n",
       "13                             GDP  2.842633e-15\n",
       "15    Income_composition_resources  1.783686e-17\n",
       "16                 Schooling_years  5.624353e-27\n",
       "17      Population_Denisty_per_km2  5.559361e-05"
      ]
     },
     "execution_count": 74,
     "metadata": {},
     "output_type": "execute_result"
    }
   ],
   "source": [
    "#significant facotrs\n",
    "p_values_df[p_values_df[\"P-Value\"]<=0.05]"
   ]
  },
  {
   "cell_type": "markdown",
   "id": "4b2d643a",
   "metadata": {
    "papermill": {
     "duration": 0.062195,
     "end_time": "2024-09-02T08:10:31.557117",
     "exception": false,
     "start_time": "2024-09-02T08:10:31.494922",
     "status": "completed"
    },
    "tags": []
   },
   "source": [
    "# 5) ANSWER TO QUESTIONS"
   ]
  },
  {
   "cell_type": "markdown",
   "id": "a437bb37",
   "metadata": {
    "papermill": {
     "duration": 0.059886,
     "end_time": "2024-09-02T08:10:31.677102",
     "exception": false,
     "start_time": "2024-09-02T08:10:31.617216",
     "status": "completed"
    },
    "tags": []
   },
   "source": [
    "### 1 - Does various predicting factors which has been chosen initially really affect the Life expectancy? What are the predicting variables actually affecting the life expectancy?"
   ]
  },
  {
   "cell_type": "code",
   "execution_count": 75,
   "id": "a3e3a1b3",
   "metadata": {
    "execution": {
     "iopub.execute_input": "2024-09-02T08:10:31.804006Z",
     "iopub.status.busy": "2024-09-02T08:10:31.802856Z",
     "iopub.status.idle": "2024-09-02T08:10:31.820418Z",
     "shell.execute_reply": "2024-09-02T08:10:31.819063Z"
    },
    "papermill": {
     "duration": 0.083999,
     "end_time": "2024-09-02T08:10:31.823129",
     "exception": false,
     "start_time": "2024-09-02T08:10:31.739130",
     "status": "completed"
    },
    "tags": []
   },
   "outputs": [
    {
     "data": {
      "text/html": [
       "<div>\n",
       "<style scoped>\n",
       "    .dataframe tbody tr th:only-of-type {\n",
       "        vertical-align: middle;\n",
       "    }\n",
       "\n",
       "    .dataframe tbody tr th {\n",
       "        vertical-align: top;\n",
       "    }\n",
       "\n",
       "    .dataframe thead th {\n",
       "        text-align: right;\n",
       "    }\n",
       "</style>\n",
       "<table border=\"1\" class=\"dataframe\">\n",
       "  <thead>\n",
       "    <tr style=\"text-align: right;\">\n",
       "      <th></th>\n",
       "      <th>Feature</th>\n",
       "      <th>P-Value</th>\n",
       "    </tr>\n",
       "  </thead>\n",
       "  <tbody>\n",
       "    <tr>\n",
       "      <th>0</th>\n",
       "      <td>Intercept</td>\n",
       "      <td>0.000000e+00</td>\n",
       "    </tr>\n",
       "    <tr>\n",
       "      <th>1</th>\n",
       "      <td>C(Status)[T.Developing]</td>\n",
       "      <td>1.321372e-04</td>\n",
       "    </tr>\n",
       "    <tr>\n",
       "      <th>2</th>\n",
       "      <td>Adult_Mortality_rate</td>\n",
       "      <td>2.144029e-50</td>\n",
       "    </tr>\n",
       "    <tr>\n",
       "      <th>5</th>\n",
       "      <td>Percent_health_expenditure_GDP</td>\n",
       "      <td>1.029649e-08</td>\n",
       "    </tr>\n",
       "    <tr>\n",
       "      <th>7</th>\n",
       "      <td>Measles_cases</td>\n",
       "      <td>3.645260e-06</td>\n",
       "    </tr>\n",
       "    <tr>\n",
       "      <th>8</th>\n",
       "      <td>BMI</td>\n",
       "      <td>1.606297e-13</td>\n",
       "    </tr>\n",
       "    <tr>\n",
       "      <th>9</th>\n",
       "      <td>Polio_coverage</td>\n",
       "      <td>1.798292e-07</td>\n",
       "    </tr>\n",
       "    <tr>\n",
       "      <th>10</th>\n",
       "      <td>Total_health_expenditure_gov</td>\n",
       "      <td>1.615590e-02</td>\n",
       "    </tr>\n",
       "    <tr>\n",
       "      <th>11</th>\n",
       "      <td>Diphtheria_coverage</td>\n",
       "      <td>3.901382e-12</td>\n",
       "    </tr>\n",
       "    <tr>\n",
       "      <th>12</th>\n",
       "      <td>HIV_death_cases</td>\n",
       "      <td>2.167854e-69</td>\n",
       "    </tr>\n",
       "    <tr>\n",
       "      <th>13</th>\n",
       "      <td>GDP</td>\n",
       "      <td>2.842633e-15</td>\n",
       "    </tr>\n",
       "    <tr>\n",
       "      <th>15</th>\n",
       "      <td>Income_composition_resources</td>\n",
       "      <td>1.783686e-17</td>\n",
       "    </tr>\n",
       "    <tr>\n",
       "      <th>16</th>\n",
       "      <td>Schooling_years</td>\n",
       "      <td>5.624353e-27</td>\n",
       "    </tr>\n",
       "    <tr>\n",
       "      <th>17</th>\n",
       "      <td>Population_Denisty_per_km2</td>\n",
       "      <td>5.559361e-05</td>\n",
       "    </tr>\n",
       "  </tbody>\n",
       "</table>\n",
       "</div>"
      ],
      "text/plain": [
       "                           Feature       P-Value\n",
       "0                        Intercept  0.000000e+00\n",
       "1          C(Status)[T.Developing]  1.321372e-04\n",
       "2             Adult_Mortality_rate  2.144029e-50\n",
       "5   Percent_health_expenditure_GDP  1.029649e-08\n",
       "7                    Measles_cases  3.645260e-06\n",
       "8                              BMI  1.606297e-13\n",
       "9                   Polio_coverage  1.798292e-07\n",
       "10    Total_health_expenditure_gov  1.615590e-02\n",
       "11             Diphtheria_coverage  3.901382e-12\n",
       "12                 HIV_death_cases  2.167854e-69\n",
       "13                             GDP  2.842633e-15\n",
       "15    Income_composition_resources  1.783686e-17\n",
       "16                 Schooling_years  5.624353e-27\n",
       "17      Population_Denisty_per_km2  5.559361e-05"
      ]
     },
     "execution_count": 75,
     "metadata": {},
     "output_type": "execute_result"
    }
   ],
   "source": [
    "#Here is the list of predictors (factors) for Life_Expectancy (assuming p-value = 0.05)\n",
    "p_values_df[p_values_df[\"P-Value\"]<=0.05]"
   ]
  },
  {
   "cell_type": "markdown",
   "id": "6cf572b2",
   "metadata": {
    "papermill": {
     "duration": 0.064263,
     "end_time": "2024-09-02T08:10:31.951038",
     "exception": false,
     "start_time": "2024-09-02T08:10:31.886775",
     "status": "completed"
    },
    "tags": []
   },
   "source": [
    "### 2 - Should a country having a lower life expectancy value(<65) increase its healthcare expenditure in order to improve its average lifespan?"
   ]
  },
  {
   "cell_type": "markdown",
   "id": "c3b48323",
   "metadata": {
    "papermill": {
     "duration": 0.060195,
     "end_time": "2024-09-02T08:10:32.072721",
     "exception": false,
     "start_time": "2024-09-02T08:10:32.012526",
     "status": "completed"
    },
    "tags": []
   },
   "source": [
    "It seems that Healthcare_expenditure doesnt have a statistically significant impact on the life_expectancy. So the answer to this question is yes."
   ]
  },
  {
   "cell_type": "markdown",
   "id": "3b3a4ad9",
   "metadata": {
    "papermill": {
     "duration": 0.059675,
     "end_time": "2024-09-02T08:10:32.196043",
     "exception": false,
     "start_time": "2024-09-02T08:10:32.136368",
     "status": "completed"
    },
    "tags": []
   },
   "source": [
    "### 3 - How does Infant and Adult mortality rates affect life expectancy?"
   ]
  },
  {
   "cell_type": "markdown",
   "id": "49fda3f6",
   "metadata": {
    "papermill": {
     "duration": 0.059636,
     "end_time": "2024-09-02T08:10:32.315592",
     "exception": false,
     "start_time": "2024-09-02T08:10:32.255956",
     "status": "completed"
    },
    "tags": []
   },
   "source": [
    "Infant morality doesn't have a significant impact on life_expectancy (seems reasonable) but adult morality impacts life expectancy and looking at the covraince table we can say it decreases life expectancy"
   ]
  },
  {
   "cell_type": "markdown",
   "id": "4502cdfd",
   "metadata": {
    "papermill": {
     "duration": 0.061261,
     "end_time": "2024-09-02T08:10:32.437772",
     "exception": false,
     "start_time": "2024-09-02T08:10:32.376511",
     "status": "completed"
    },
    "tags": []
   },
   "source": [
    "### 4 - Does Life Expectancy has positive or negative correlation with eating habits, lifestyle, exercise, smoking, drinking alcohol etc."
   ]
  },
  {
   "cell_type": "markdown",
   "id": "192219b3",
   "metadata": {
    "papermill": {
     "duration": 0.059846,
     "end_time": "2024-09-02T08:10:32.558100",
     "exception": false,
     "start_time": "2024-09-02T08:10:32.498254",
     "status": "completed"
    },
    "tags": []
   },
   "source": [
    "Surprisingly alcohol consumption doesn't have a statistically significant effect on life expectancy. \n",
    "If we consider BMI as measure of body weight index we can say that BMI has a significant impact and increases life expectancy. No other feature is direclty related to lifestyle, eating habits... in the dataset."
   ]
  },
  {
   "cell_type": "markdown",
   "id": "0bf55aca",
   "metadata": {
    "papermill": {
     "duration": 0.059673,
     "end_time": "2024-09-02T08:10:32.677755",
     "exception": false,
     "start_time": "2024-09-02T08:10:32.618082",
     "status": "completed"
    },
    "tags": []
   },
   "source": [
    "### 5 - What is the impact of schooling on the lifespan of humans?"
   ]
  },
  {
   "cell_type": "markdown",
   "id": "25edc453",
   "metadata": {
    "papermill": {
     "duration": 0.060318,
     "end_time": "2024-09-02T08:10:32.798111",
     "exception": false,
     "start_time": "2024-09-02T08:10:32.737793",
     "status": "completed"
    },
    "tags": []
   },
   "source": [
    "Schooling has a big correlation with Life expectancy and according to ANOVA test it has a significant impact. \n",
    "We can say that number of schooling years, increase life expectancy"
   ]
  },
  {
   "cell_type": "markdown",
   "id": "d6d78670",
   "metadata": {
    "papermill": {
     "duration": 0.060929,
     "end_time": "2024-09-02T08:10:32.920392",
     "exception": false,
     "start_time": "2024-09-02T08:10:32.859463",
     "status": "completed"
    },
    "tags": []
   },
   "source": [
    "### 6 - Does Life Expectancy have positive or negative relationship with drinking alcohol?"
   ]
  },
  {
   "cell_type": "markdown",
   "id": "597d7126",
   "metadata": {
    "papermill": {
     "duration": 0.059848,
     "end_time": "2024-09-02T08:10:33.040439",
     "exception": false,
     "start_time": "2024-09-02T08:10:32.980591",
     "status": "completed"
    },
    "tags": []
   },
   "source": [
    "check question 4"
   ]
  },
  {
   "cell_type": "markdown",
   "id": "f37f9b65",
   "metadata": {
    "papermill": {
     "duration": 0.060418,
     "end_time": "2024-09-02T08:10:33.161105",
     "exception": false,
     "start_time": "2024-09-02T08:10:33.100687",
     "status": "completed"
    },
    "tags": []
   },
   "source": [
    "### 8 - What is the impact of Immunization coverage on life Expectancy?"
   ]
  },
  {
   "cell_type": "markdown",
   "id": "4a76ff95",
   "metadata": {
    "papermill": {
     "duration": 0.059611,
     "end_time": "2024-09-02T08:10:33.280512",
     "exception": false,
     "start_time": "2024-09-02T08:10:33.220901",
     "status": "completed"
    },
    "tags": []
   },
   "source": [
    "While Hepatits B doesnt seem to have a statistically significant impact on life_expectancy Polio and Diphteria immunization improve life expectancy"
   ]
  },
  {
   "cell_type": "markdown",
   "id": "87c00774",
   "metadata": {
    "papermill": {
     "duration": 0.060071,
     "end_time": "2024-09-02T08:10:33.400974",
     "exception": false,
     "start_time": "2024-09-02T08:10:33.340903",
     "status": "completed"
    },
    "tags": []
   },
   "source": [
    "### 7 - Do densely populated countries tend to have lower life expectancy?"
   ]
  },
  {
   "cell_type": "markdown",
   "id": "47bb2c54",
   "metadata": {
    "papermill": {
     "duration": 0.059855,
     "end_time": "2024-09-02T08:10:33.521051",
     "exception": false,
     "start_time": "2024-09-02T08:10:33.461196",
     "status": "completed"
    },
    "tags": []
   },
   "source": [
    "It is almost the contrary, highly populated countries likes Monaco, Bahrain and Malta have high life expectancy.\n",
    "From the table in below we can also say that highly populated countries have a higher life expectancy. This maybe the due to a better availability of medical and social services rather than low populated regions we remote areas."
   ]
  },
  {
   "cell_type": "code",
   "execution_count": 76,
   "id": "85987b1e",
   "metadata": {
    "execution": {
     "iopub.execute_input": "2024-09-02T08:10:33.643473Z",
     "iopub.status.busy": "2024-09-02T08:10:33.643014Z",
     "iopub.status.idle": "2024-09-02T08:10:33.658406Z",
     "shell.execute_reply": "2024-09-02T08:10:33.657241Z"
    },
    "papermill": {
     "duration": 0.079709,
     "end_time": "2024-09-02T08:10:33.661147",
     "exception": false,
     "start_time": "2024-09-02T08:10:33.581438",
     "status": "completed"
    },
    "tags": []
   },
   "outputs": [
    {
     "data": {
      "text/html": [
       "<div>\n",
       "<style scoped>\n",
       "    .dataframe tbody tr th:only-of-type {\n",
       "        vertical-align: middle;\n",
       "    }\n",
       "\n",
       "    .dataframe tbody tr th {\n",
       "        vertical-align: top;\n",
       "    }\n",
       "\n",
       "    .dataframe thead th {\n",
       "        text-align: right;\n",
       "    }\n",
       "</style>\n",
       "<table border=\"1\" class=\"dataframe\">\n",
       "  <thead>\n",
       "    <tr style=\"text-align: right;\">\n",
       "      <th></th>\n",
       "      <th>Life_expectancy</th>\n",
       "    </tr>\n",
       "    <tr>\n",
       "      <th>encoded_density</th>\n",
       "      <th></th>\n",
       "    </tr>\n",
       "  </thead>\n",
       "  <tbody>\n",
       "    <tr>\n",
       "      <th>0.0</th>\n",
       "      <td>69.040591</td>\n",
       "    </tr>\n",
       "    <tr>\n",
       "      <th>1.0</th>\n",
       "      <td>75.231250</td>\n",
       "    </tr>\n",
       "    <tr>\n",
       "      <th>20.0</th>\n",
       "      <td>81.341346</td>\n",
       "    </tr>\n",
       "    <tr>\n",
       "      <th>8.0</th>\n",
       "      <td>81.475000</td>\n",
       "    </tr>\n",
       "  </tbody>\n",
       "</table>\n",
       "</div>"
      ],
      "text/plain": [
       "                 Life_expectancy\n",
       "encoded_density                 \n",
       "0.0                    69.040591\n",
       "1.0                    75.231250\n",
       "20.0                   81.341346\n",
       "8.0                    81.475000"
      ]
     },
     "execution_count": 76,
     "metadata": {},
     "output_type": "execute_result"
    }
   ],
   "source": [
    "data[['Life_expectancy', 'encoded_density']].groupby(\"encoded_density\").mean()"
   ]
  },
  {
   "cell_type": "markdown",
   "id": "7ab4c90c",
   "metadata": {
    "papermill": {
     "duration": 0.0609,
     "end_time": "2024-09-02T08:10:33.788764",
     "exception": false,
     "start_time": "2024-09-02T08:10:33.727864",
     "status": "completed"
    },
    "tags": []
   },
   "source": [
    "The results of our ANOVA tests shows that Population_Denisty_per_km2 has a statistically significant effect on Life expectancy.\n",
    "We can double check the impact of population density using anothoer ANOVA test, this time using on 'encoded density' / categorical groups"
   ]
  },
  {
   "cell_type": "markdown",
   "id": "35cb8cd9",
   "metadata": {
    "papermill": {
     "duration": 0.062397,
     "end_time": "2024-09-02T08:10:33.934383",
     "exception": false,
     "start_time": "2024-09-02T08:10:33.871986",
     "status": "completed"
    },
    "tags": []
   },
   "source": [
    "#### group ANOVA test"
   ]
  },
  {
   "cell_type": "markdown",
   "id": "4e596c6d",
   "metadata": {
    "papermill": {
     "duration": 0.060458,
     "end_time": "2024-09-02T08:10:34.055501",
     "exception": false,
     "start_time": "2024-09-02T08:10:33.995043",
     "status": "completed"
    },
    "tags": []
   },
   "source": [
    "> Now we can do a ANOVA test to see if there is a significant difference between the groups (different densities)?\n",
    "> \n",
    "> Recall: Null Hypothesis (H0): The population density doesn't impact Life Expectancy!"
   ]
  },
  {
   "cell_type": "code",
   "execution_count": 77,
   "id": "e7cc45ab",
   "metadata": {
    "execution": {
     "iopub.execute_input": "2024-09-02T08:10:34.179641Z",
     "iopub.status.busy": "2024-09-02T08:10:34.179161Z",
     "iopub.status.idle": "2024-09-02T08:10:52.647197Z",
     "shell.execute_reply": "2024-09-02T08:10:52.645651Z"
    },
    "papermill": {
     "duration": 18.534239,
     "end_time": "2024-09-02T08:10:52.650002",
     "exception": false,
     "start_time": "2024-09-02T08:10:34.115763",
     "status": "completed"
    },
    "tags": []
   },
   "outputs": [
    {
     "name": "stdout",
     "output_type": "stream",
     "text": [
      "Collecting pingouin\r\n",
      "  Downloading pingouin-0.5.4-py2.py3-none-any.whl.metadata (1.1 kB)\r\n",
      "Requirement already satisfied: numpy in /opt/conda/lib/python3.10/site-packages (from pingouin) (1.26.4)\r\n",
      "Requirement already satisfied: scipy in /opt/conda/lib/python3.10/site-packages (from pingouin) (1.14.0)\r\n",
      "Requirement already satisfied: pandas>=1.5 in /opt/conda/lib/python3.10/site-packages (from pingouin) (2.2.2)\r\n",
      "Requirement already satisfied: matplotlib in /opt/conda/lib/python3.10/site-packages (from pingouin) (3.7.5)\r\n",
      "Requirement already satisfied: seaborn in /opt/conda/lib/python3.10/site-packages (from pingouin) (0.12.2)\r\n",
      "Requirement already satisfied: statsmodels in /opt/conda/lib/python3.10/site-packages (from pingouin) (0.14.2)\r\n",
      "Requirement already satisfied: scikit-learn in /opt/conda/lib/python3.10/site-packages (from pingouin) (1.2.2)\r\n",
      "Collecting pandas-flavor (from pingouin)\r\n",
      "  Downloading pandas_flavor-0.6.0-py3-none-any.whl.metadata (6.3 kB)\r\n",
      "Requirement already satisfied: tabulate in /opt/conda/lib/python3.10/site-packages (from pingouin) (0.9.0)\r\n",
      "Requirement already satisfied: python-dateutil>=2.8.2 in /opt/conda/lib/python3.10/site-packages (from pandas>=1.5->pingouin) (2.9.0.post0)\r\n",
      "Requirement already satisfied: pytz>=2020.1 in /opt/conda/lib/python3.10/site-packages (from pandas>=1.5->pingouin) (2024.1)\r\n",
      "Requirement already satisfied: tzdata>=2022.7 in /opt/conda/lib/python3.10/site-packages (from pandas>=1.5->pingouin) (2024.1)\r\n",
      "Requirement already satisfied: contourpy>=1.0.1 in /opt/conda/lib/python3.10/site-packages (from matplotlib->pingouin) (1.2.1)\r\n",
      "Requirement already satisfied: cycler>=0.10 in /opt/conda/lib/python3.10/site-packages (from matplotlib->pingouin) (0.12.1)\r\n",
      "Requirement already satisfied: fonttools>=4.22.0 in /opt/conda/lib/python3.10/site-packages (from matplotlib->pingouin) (4.53.0)\r\n",
      "Requirement already satisfied: kiwisolver>=1.0.1 in /opt/conda/lib/python3.10/site-packages (from matplotlib->pingouin) (1.4.5)\r\n",
      "Requirement already satisfied: packaging>=20.0 in /opt/conda/lib/python3.10/site-packages (from matplotlib->pingouin) (21.3)\r\n",
      "Requirement already satisfied: pillow>=6.2.0 in /opt/conda/lib/python3.10/site-packages (from matplotlib->pingouin) (9.5.0)\r\n",
      "Requirement already satisfied: pyparsing>=2.3.1 in /opt/conda/lib/python3.10/site-packages (from matplotlib->pingouin) (3.1.2)\r\n",
      "Requirement already satisfied: xarray in /opt/conda/lib/python3.10/site-packages (from pandas-flavor->pingouin) (2024.7.0)\r\n",
      "Requirement already satisfied: joblib>=1.1.1 in /opt/conda/lib/python3.10/site-packages (from scikit-learn->pingouin) (1.4.2)\r\n",
      "Requirement already satisfied: threadpoolctl>=2.0.0 in /opt/conda/lib/python3.10/site-packages (from scikit-learn->pingouin) (3.5.0)\r\n",
      "Requirement already satisfied: patsy>=0.5.6 in /opt/conda/lib/python3.10/site-packages (from statsmodels->pingouin) (0.5.6)\r\n",
      "Requirement already satisfied: six in /opt/conda/lib/python3.10/site-packages (from patsy>=0.5.6->statsmodels->pingouin) (1.16.0)\r\n",
      "Collecting packaging>=20.0 (from matplotlib->pingouin)\r\n",
      "  Downloading packaging-24.1-py3-none-any.whl.metadata (3.2 kB)\r\n",
      "Downloading pingouin-0.5.4-py2.py3-none-any.whl (198 kB)\r\n",
      "\u001b[2K   \u001b[90m━━━━━━━━━━━━━━━━━━━━━━━━━━━━━━━━━━━━━━━━\u001b[0m \u001b[32m198.9/198.9 kB\u001b[0m \u001b[31m3.5 MB/s\u001b[0m eta \u001b[36m0:00:00\u001b[0m\r\n",
      "\u001b[?25hDownloading pandas_flavor-0.6.0-py3-none-any.whl (7.2 kB)\r\n",
      "Downloading packaging-24.1-py3-none-any.whl (53 kB)\r\n",
      "\u001b[2K   \u001b[90m━━━━━━━━━━━━━━━━━━━━━━━━━━━━━━━━━━━━━━━━\u001b[0m \u001b[32m54.0/54.0 kB\u001b[0m \u001b[31m2.8 MB/s\u001b[0m eta \u001b[36m0:00:00\u001b[0m\r\n",
      "\u001b[?25hInstalling collected packages: packaging, pandas-flavor, pingouin\r\n",
      "  Attempting uninstall: packaging\r\n",
      "    Found existing installation: packaging 21.3\r\n",
      "    Uninstalling packaging-21.3:\r\n",
      "      Successfully uninstalled packaging-21.3\r\n",
      "\u001b[31mERROR: pip's dependency resolver does not currently take into account all the packages that are installed. This behaviour is the source of the following dependency conflicts.\r\n",
      "google-cloud-bigquery 2.34.4 requires packaging<22.0dev,>=14.3, but you have packaging 24.1 which is incompatible.\r\n",
      "jupyterlab 4.2.4 requires jupyter-lsp>=2.0.0, but you have jupyter-lsp 1.5.1 which is incompatible.\r\n",
      "jupyterlab-lsp 5.1.0 requires jupyter-lsp>=2.0.0, but you have jupyter-lsp 1.5.1 which is incompatible.\r\n",
      "libpysal 4.9.2 requires shapely>=2.0.1, but you have shapely 1.8.5.post1 which is incompatible.\r\n",
      "momepy 0.7.2 requires shapely>=2, but you have shapely 1.8.5.post1 which is incompatible.\r\n",
      "osmnx 1.9.4 requires shapely<2.1,>=2.0, but you have shapely 1.8.5.post1 which is incompatible.\r\n",
      "pointpats 2.5.0 requires shapely>=2, but you have shapely 1.8.5.post1 which is incompatible.\r\n",
      "spaghetti 1.7.6 requires shapely>=2.0.1, but you have shapely 1.8.5.post1 which is incompatible.\r\n",
      "spopt 0.6.1 requires shapely>=2.0.1, but you have shapely 1.8.5.post1 which is incompatible.\r\n",
      "ydata-profiling 4.9.0 requires scipy<1.14,>=1.4.1, but you have scipy 1.14.0 which is incompatible.\u001b[0m\u001b[31m\r\n",
      "\u001b[0mSuccessfully installed packaging-24.1 pandas-flavor-0.6.0 pingouin-0.5.4\r\n",
      "Note: you may need to restart the kernel to use updated packages.\n"
     ]
    }
   ],
   "source": [
    "pip install pingouin"
   ]
  },
  {
   "cell_type": "code",
   "execution_count": 78,
   "id": "49b1e1df",
   "metadata": {
    "execution": {
     "iopub.execute_input": "2024-09-02T08:10:52.777428Z",
     "iopub.status.busy": "2024-09-02T08:10:52.776211Z",
     "iopub.status.idle": "2024-09-02T08:10:53.316578Z",
     "shell.execute_reply": "2024-09-02T08:10:53.315319Z"
    },
    "papermill": {
     "duration": 0.606552,
     "end_time": "2024-09-02T08:10:53.319244",
     "exception": false,
     "start_time": "2024-09-02T08:10:52.712692",
     "status": "completed"
    },
    "tags": []
   },
   "outputs": [
    {
     "data": {
      "text/html": [
       "<div>\n",
       "<style scoped>\n",
       "    .dataframe tbody tr th:only-of-type {\n",
       "        vertical-align: middle;\n",
       "    }\n",
       "\n",
       "    .dataframe tbody tr th {\n",
       "        vertical-align: top;\n",
       "    }\n",
       "\n",
       "    .dataframe thead th {\n",
       "        text-align: right;\n",
       "    }\n",
       "</style>\n",
       "<table border=\"1\" class=\"dataframe\">\n",
       "  <thead>\n",
       "    <tr style=\"text-align: right;\">\n",
       "      <th></th>\n",
       "      <th>Source</th>\n",
       "      <th>ddof1</th>\n",
       "      <th>ddof2</th>\n",
       "      <th>F</th>\n",
       "      <th>p-unc</th>\n",
       "      <th>np2</th>\n",
       "    </tr>\n",
       "  </thead>\n",
       "  <tbody>\n",
       "    <tr>\n",
       "      <th>0</th>\n",
       "      <td>encoded_density</td>\n",
       "      <td>3</td>\n",
       "      <td>2934</td>\n",
       "      <td>18.641386</td>\n",
       "      <td>5.621099e-12</td>\n",
       "      <td>0.018704</td>\n",
       "    </tr>\n",
       "  </tbody>\n",
       "</table>\n",
       "</div>"
      ],
      "text/plain": [
       "            Source  ddof1  ddof2          F         p-unc       np2\n",
       "0  encoded_density      3   2934  18.641386  5.621099e-12  0.018704"
      ]
     },
     "execution_count": 78,
     "metadata": {},
     "output_type": "execute_result"
    }
   ],
   "source": [
    "import pingouin\n",
    "pingouin.anova(data=data,\n",
    "               dv=\"Life_expectancy\",\n",
    "               between=\"encoded_density\") #p-unc is the p-value"
   ]
  },
  {
   "cell_type": "markdown",
   "id": "a1344d55",
   "metadata": {
    "papermill": {
     "duration": 0.06251,
     "end_time": "2024-09-02T08:10:53.444788",
     "exception": false,
     "start_time": "2024-09-02T08:10:53.382278",
     "status": "completed"
    },
    "tags": []
   },
   "source": [
    "Here again p-value < 0.05 and therefore we can reject the H0 so population density has an impcat on Life_expectancy"
   ]
  },
  {
   "cell_type": "code",
   "execution_count": null,
   "id": "44fc677e",
   "metadata": {
    "papermill": {
     "duration": 0.062423,
     "end_time": "2024-09-02T08:10:53.569549",
     "exception": false,
     "start_time": "2024-09-02T08:10:53.507126",
     "status": "completed"
    },
    "tags": []
   },
   "outputs": [],
   "source": []
  }
 ],
 "metadata": {
  "kaggle": {
   "accelerator": "none",
   "dataSources": [
    {
     "datasetId": 12603,
     "sourceId": 17232,
     "sourceType": "datasetVersion"
    },
    {
     "datasetId": 5630440,
     "sourceId": 9299318,
     "sourceType": "datasetVersion"
    }
   ],
   "dockerImageVersionId": 30761,
   "isGpuEnabled": false,
   "isInternetEnabled": true,
   "language": "python",
   "sourceType": "notebook"
  },
  "kernelspec": {
   "display_name": "Python 3",
   "language": "python",
   "name": "python3"
  },
  "language_info": {
   "codemirror_mode": {
    "name": "ipython",
    "version": 3
   },
   "file_extension": ".py",
   "mimetype": "text/x-python",
   "name": "python",
   "nbconvert_exporter": "python",
   "pygments_lexer": "ipython3",
   "version": "3.10.14"
  },
  "papermill": {
   "default_parameters": {},
   "duration": 60.782968,
   "end_time": "2024-09-02T08:10:54.756860",
   "environment_variables": {},
   "exception": null,
   "input_path": "__notebook__.ipynb",
   "output_path": "__notebook__.ipynb",
   "parameters": {},
   "start_time": "2024-09-02T08:09:53.973892",
   "version": "2.6.0"
  }
 },
 "nbformat": 4,
 "nbformat_minor": 5
}
